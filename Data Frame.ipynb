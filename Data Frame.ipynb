{
  "cells": [
    {
      "cell_type": "code",
      "source": [
        "using Pkg\n",
        "Pkg.add(\"DataFrames\")\n",
        "using DataFrames"
      ],
      "outputs": [
        {
          "output_type": "stream",
          "name": "stderr",
          "text": [
            "\u001b[32m\u001b[1m  Resolving\u001b[22m\u001b[39m package versions...\n",
            "\u001b[32m\u001b[1m   Updating\u001b[22m\u001b[39m `~/.julia/environments/v1.4/Project.toml`\n",
            "\u001b[90m [no changes]\u001b[39m\n",
            "\u001b[32m\u001b[1m   Updating\u001b[22m\u001b[39m `~/.julia/environments/v1.4/Manifest.toml`\n",
            "\u001b[90m [no changes]\u001b[39m\n"
          ]
        }
      ],
      "execution_count": 15,
      "metadata": {
        "execution": {
          "iopub.status.busy": "2020-10-15T16:25:52.846Z",
          "iopub.execute_input": "2020-10-15T16:25:52.875Z",
          "iopub.status.idle": "2020-10-15T16:25:53.021Z"
        }
      }
    },
    {
      "cell_type": "code",
      "source": [
        "df = DataFrame(A = 1:4, B = [\"M\", \"F\", \"F\", \"M\"])\n",
        "df"
      ],
      "outputs": [
        {
          "output_type": "execute_result",
          "execution_count": 16,
          "data": {
            "text/plain": "4×2 DataFrame\n│ Row │ A     │ B      │\n│     │ \u001b[90mInt64\u001b[39m │ \u001b[90mString\u001b[39m │\n├─────┼───────┼────────┤\n│ 1   │ 1     │ M      │\n│ 2   │ 2     │ F      │\n│ 3   │ 3     │ F      │\n│ 4   │ 4     │ M      │",
            "text/html": "<table class=\"data-frame\"><thead><tr><th></th><th>A</th><th>B</th></tr><tr><th></th><th>Int64</th><th>String</th></tr></thead><tbody><p>4 rows × 2 columns</p><tr><th>1</th><td>1</td><td>M</td></tr><tr><th>2</th><td>2</td><td>F</td></tr><tr><th>3</th><td>3</td><td>F</td></tr><tr><th>4</th><td>4</td><td>M</td></tr></tbody></table>",
            "text/latex": "\\begin{tabular}{r|cc}\n\t& A & B\\\\\n\t\\hline\n\t& Int64 & String\\\\\n\t\\hline\n\t1 & 1 & M \\\\\n\t2 & 2 & F \\\\\n\t3 & 3 & F \\\\\n\t4 & 4 & M \\\\\n\\end{tabular}\n"
          },
          "metadata": {}
        }
      ],
      "execution_count": 16,
      "metadata": {
        "execution": {
          "iopub.status.busy": "2020-10-15T16:25:53.054Z",
          "iopub.execute_input": "2020-10-15T16:25:53.075Z",
          "iopub.status.idle": "2020-10-15T16:25:53.122Z"
        }
      }
    },
    {
      "cell_type": "code",
      "source": [
        "df"
      ],
      "outputs": [
        {
          "output_type": "execute_result",
          "execution_count": 18,
          "data": {
            "text/plain": "4×2 DataFrame\n│ Row │ A     │ B      │\n│     │ \u001b[90mInt64\u001b[39m │ \u001b[90mString\u001b[39m │\n├─────┼───────┼────────┤\n│ 1   │ 1     │ M      │\n│ 2   │ 2     │ F      │\n│ 3   │ 3     │ F      │\n│ 4   │ 4     │ M      │",
            "text/html": "<table class=\"data-frame\"><thead><tr><th></th><th>A</th><th>B</th></tr><tr><th></th><th>Int64</th><th>String</th></tr></thead><tbody><p>4 rows × 2 columns</p><tr><th>1</th><td>1</td><td>M</td></tr><tr><th>2</th><td>2</td><td>F</td></tr><tr><th>3</th><td>3</td><td>F</td></tr><tr><th>4</th><td>4</td><td>M</td></tr></tbody></table>",
            "text/latex": "\\begin{tabular}{r|cc}\n\t& A & B\\\\\n\t\\hline\n\t& Int64 & String\\\\\n\t\\hline\n\t1 & 1 & M \\\\\n\t2 & 2 & F \\\\\n\t3 & 3 & F \\\\\n\t4 & 4 & M \\\\\n\\end{tabular}\n"
          },
          "metadata": {}
        }
      ],
      "execution_count": 18,
      "metadata": {
        "collapsed": true,
        "jupyter": {
          "source_hidden": false,
          "outputs_hidden": false
        },
        "nteract": {
          "transient": {
            "deleting": false
          }
        },
        "execution": {
          "iopub.status.busy": "2020-10-15T16:25:53.179Z",
          "iopub.execute_input": "2020-10-15T16:25:53.200Z",
          "iopub.status.idle": "2020-10-15T16:25:53.245Z"
        }
      }
    },
    {
      "cell_type": "code",
      "source": [
        "size(df)\n",
        "typeof(df)"
      ],
      "outputs": [
        {
          "output_type": "execute_result",
          "execution_count": 18,
          "data": {
            "text/plain": "DataFrame"
          },
          "metadata": {}
        }
      ],
      "execution_count": 18,
      "metadata": {}
    },
    {
      "cell_type": "code",
      "source": [
        "df.A"
      ],
      "outputs": [
        {
          "output_type": "execute_result",
          "execution_count": 4,
          "data": {
            "text/plain": "4-element Array{Int64,1}:\n 1\n 2\n 3\n 4"
          },
          "metadata": {}
        }
      ],
      "execution_count": 4,
      "metadata": {}
    },
    {
      "cell_type": "code",
      "source": [
        "push!(df, Dict(:B => \"DA\", :A => 5))"
      ],
      "outputs": [
        {
          "output_type": "execute_result",
          "execution_count": 9,
          "data": {
            "text/html": "<table class=\"data-frame\"><thead><tr><th></th><th>A</th><th>B</th></tr><tr><th></th><th>Int64</th><th>String</th></tr></thead><tbody><p>5 rows × 2 columns</p><tr><th>1</th><td>1</td><td>M</td></tr><tr><th>2</th><td>2</td><td>F</td></tr><tr><th>3</th><td>3</td><td>F</td></tr><tr><th>4</th><td>4</td><td>M</td></tr><tr><th>5</th><td>5</td><td>DA</td></tr></tbody></table>",
            "text/latex": "\\begin{tabular}{r|cc}\n\t& A & B\\\\\n\t\\hline\n\t& Int64 & String\\\\\n\t\\hline\n\t1 & 1 & M \\\\\n\t2 & 2 & F \\\\\n\t3 & 3 & F \\\\\n\t4 & 4 & M \\\\\n\t5 & 5 & DA \\\\\n\\end{tabular}\n",
            "text/plain": "5×2 DataFrame\n│ Row │ A     │ B      │\n│     │ \u001b[90mInt64\u001b[39m │ \u001b[90mString\u001b[39m │\n├─────┼───────┼────────┤\n│ 1   │ 1     │ M      │\n│ 2   │ 2     │ F      │\n│ 3   │ 3     │ F      │\n│ 4   │ 4     │ M      │\n│ 5   │ 5     │ DA     │"
          },
          "metadata": {}
        }
      ],
      "execution_count": 9,
      "metadata": {}
    },
    {
      "cell_type": "code",
      "source": [
        "push!(df, [6, \"N\"])"
      ],
      "outputs": [
        {
          "output_type": "execute_result",
          "execution_count": 20,
          "data": {
            "text/html": "<table class=\"data-frame\"><thead><tr><th></th><th>A</th><th>B</th></tr><tr><th></th><th>Int64</th><th>String</th></tr></thead><tbody><p>7 rows × 2 columns</p><tr><th>1</th><td>1</td><td>M</td></tr><tr><th>2</th><td>2</td><td>F</td></tr><tr><th>3</th><td>3</td><td>F</td></tr><tr><th>4</th><td>4</td><td>M</td></tr><tr><th>5</th><td>5</td><td>DA</td></tr><tr><th>6</th><td>2</td><td>N</td></tr><tr><th>7</th><td>6</td><td>N</td></tr></tbody></table>",
            "text/latex": "\\begin{tabular}{r|cc}\n\t& A & B\\\\\n\t\\hline\n\t& Int64 & String\\\\\n\t\\hline\n\t1 & 1 & M \\\\\n\t2 & 2 & F \\\\\n\t3 & 3 & F \\\\\n\t4 & 4 & M \\\\\n\t5 & 5 & DA \\\\\n\t6 & 2 & N \\\\\n\t7 & 6 & N \\\\\n\\end{tabular}\n",
            "text/plain": "7×2 DataFrame\n│ Row │ A     │ B      │\n│     │ \u001b[90mInt64\u001b[39m │ \u001b[90mString\u001b[39m │\n├─────┼───────┼────────┤\n│ 1   │ 1     │ M      │\n│ 2   │ 2     │ F      │\n│ 3   │ 3     │ F      │\n│ 4   │ 4     │ M      │\n│ 5   │ 5     │ DA     │\n│ 6   │ 2     │ N      │\n│ 7   │ 6     │ N      │"
          },
          "metadata": {}
        }
      ],
      "execution_count": 20,
      "metadata": {}
    },
    {
      "cell_type": "code",
      "source": [
        "rename!(df, Dict(:A =>:VA, :B => :VB))"
      ],
      "outputs": [
        {
          "output_type": "execute_result",
          "execution_count": 21,
          "data": {
            "text/html": "<table class=\"data-frame\"><thead><tr><th></th><th>VA</th><th>VB</th></tr><tr><th></th><th>Int64</th><th>String</th></tr></thead><tbody><p>7 rows × 2 columns</p><tr><th>1</th><td>1</td><td>M</td></tr><tr><th>2</th><td>2</td><td>F</td></tr><tr><th>3</th><td>3</td><td>F</td></tr><tr><th>4</th><td>4</td><td>M</td></tr><tr><th>5</th><td>5</td><td>DA</td></tr><tr><th>6</th><td>2</td><td>N</td></tr><tr><th>7</th><td>6</td><td>N</td></tr></tbody></table>",
            "text/latex": "\\begin{tabular}{r|cc}\n\t& VA & VB\\\\\n\t\\hline\n\t& Int64 & String\\\\\n\t\\hline\n\t1 & 1 & M \\\\\n\t2 & 2 & F \\\\\n\t3 & 3 & F \\\\\n\t4 & 4 & M \\\\\n\t5 & 5 & DA \\\\\n\t6 & 2 & N \\\\\n\t7 & 6 & N \\\\\n\\end{tabular}\n",
            "text/plain": "7×2 DataFrame\n│ Row │ VA    │ VB     │\n│     │ \u001b[90mInt64\u001b[39m │ \u001b[90mString\u001b[39m │\n├─────┼───────┼────────┤\n│ 1   │ 1     │ M      │\n│ 2   │ 2     │ F      │\n│ 3   │ 3     │ F      │\n│ 4   │ 4     │ M      │\n│ 5   │ 5     │ DA     │\n│ 6   │ 2     │ N      │\n│ 7   │ 6     │ N      │"
          },
          "metadata": {}
        }
      ],
      "execution_count": 21,
      "metadata": {}
    },
    {
      "cell_type": "code",
      "source": [
        "rename!(df,[\"var1\",\"var2\"])"
      ],
      "outputs": [
        {
          "output_type": "execute_result",
          "execution_count": 23,
          "data": {
            "text/html": "<table class=\"data-frame\"><thead><tr><th></th><th>var1</th><th>var2</th></tr><tr><th></th><th>Int64</th><th>String</th></tr></thead><tbody><p>7 rows × 2 columns</p><tr><th>1</th><td>1</td><td>M</td></tr><tr><th>2</th><td>2</td><td>F</td></tr><tr><th>3</th><td>3</td><td>F</td></tr><tr><th>4</th><td>4</td><td>M</td></tr><tr><th>5</th><td>5</td><td>DA</td></tr><tr><th>6</th><td>2</td><td>N</td></tr><tr><th>7</th><td>6</td><td>N</td></tr></tbody></table>",
            "text/latex": "\\begin{tabular}{r|cc}\n\t& var1 & var2\\\\\n\t\\hline\n\t& Int64 & String\\\\\n\t\\hline\n\t1 & 1 & M \\\\\n\t2 & 2 & F \\\\\n\t3 & 3 & F \\\\\n\t4 & 4 & M \\\\\n\t5 & 5 & DA \\\\\n\t6 & 2 & N \\\\\n\t7 & 6 & N \\\\\n\\end{tabular}\n",
            "text/plain": "7×2 DataFrame\n│ Row │ var1  │ var2   │\n│     │ \u001b[90mInt64\u001b[39m │ \u001b[90mString\u001b[39m │\n├─────┼───────┼────────┤\n│ 1   │ 1     │ M      │\n│ 2   │ 2     │ F      │\n│ 3   │ 3     │ F      │\n│ 4   │ 4     │ M      │\n│ 5   │ 5     │ DA     │\n│ 6   │ 2     │ N      │\n│ 7   │ 6     │ N      │"
          },
          "metadata": {}
        }
      ],
      "execution_count": 23,
      "metadata": {}
    },
    {
      "cell_type": "code",
      "source": [
        "df = DataFrame(A = 1:2:1000, B = repeat(1:10, inner=50), C = 1:500)"
      ],
      "outputs": [
        {
          "output_type": "execute_result",
          "execution_count": 31,
          "data": {
            "text/html": "<table class=\"data-frame\"><thead><tr><th></th><th>A</th><th>B</th><th>C</th></tr><tr><th></th><th>Int64</th><th>Int64</th><th>Int64</th></tr></thead><tbody><p>500 rows × 3 columns</p><tr><th>1</th><td>1</td><td>1</td><td>1</td></tr><tr><th>2</th><td>3</td><td>1</td><td>2</td></tr><tr><th>3</th><td>5</td><td>1</td><td>3</td></tr><tr><th>4</th><td>7</td><td>1</td><td>4</td></tr><tr><th>5</th><td>9</td><td>1</td><td>5</td></tr><tr><th>6</th><td>11</td><td>1</td><td>6</td></tr><tr><th>7</th><td>13</td><td>1</td><td>7</td></tr><tr><th>8</th><td>15</td><td>1</td><td>8</td></tr><tr><th>9</th><td>17</td><td>1</td><td>9</td></tr><tr><th>10</th><td>19</td><td>1</td><td>10</td></tr><tr><th>11</th><td>21</td><td>1</td><td>11</td></tr><tr><th>12</th><td>23</td><td>1</td><td>12</td></tr><tr><th>13</th><td>25</td><td>1</td><td>13</td></tr><tr><th>14</th><td>27</td><td>1</td><td>14</td></tr><tr><th>15</th><td>29</td><td>1</td><td>15</td></tr><tr><th>16</th><td>31</td><td>1</td><td>16</td></tr><tr><th>17</th><td>33</td><td>1</td><td>17</td></tr><tr><th>18</th><td>35</td><td>1</td><td>18</td></tr><tr><th>19</th><td>37</td><td>1</td><td>19</td></tr><tr><th>20</th><td>39</td><td>1</td><td>20</td></tr><tr><th>21</th><td>41</td><td>1</td><td>21</td></tr><tr><th>22</th><td>43</td><td>1</td><td>22</td></tr><tr><th>23</th><td>45</td><td>1</td><td>23</td></tr><tr><th>24</th><td>47</td><td>1</td><td>24</td></tr><tr><th>25</th><td>49</td><td>1</td><td>25</td></tr><tr><th>26</th><td>51</td><td>1</td><td>26</td></tr><tr><th>27</th><td>53</td><td>1</td><td>27</td></tr><tr><th>28</th><td>55</td><td>1</td><td>28</td></tr><tr><th>29</th><td>57</td><td>1</td><td>29</td></tr><tr><th>30</th><td>59</td><td>1</td><td>30</td></tr><tr><th>&vellip;</th><td>&vellip;</td><td>&vellip;</td><td>&vellip;</td></tr></tbody></table>",
            "text/latex": "\\begin{tabular}{r|ccc}\n\t& A & B & C\\\\\n\t\\hline\n\t& Int64 & Int64 & Int64\\\\\n\t\\hline\n\t1 & 1 & 1 & 1 \\\\\n\t2 & 3 & 1 & 2 \\\\\n\t3 & 5 & 1 & 3 \\\\\n\t4 & 7 & 1 & 4 \\\\\n\t5 & 9 & 1 & 5 \\\\\n\t6 & 11 & 1 & 6 \\\\\n\t7 & 13 & 1 & 7 \\\\\n\t8 & 15 & 1 & 8 \\\\\n\t9 & 17 & 1 & 9 \\\\\n\t10 & 19 & 1 & 10 \\\\\n\t11 & 21 & 1 & 11 \\\\\n\t12 & 23 & 1 & 12 \\\\\n\t13 & 25 & 1 & 13 \\\\\n\t14 & 27 & 1 & 14 \\\\\n\t15 & 29 & 1 & 15 \\\\\n\t16 & 31 & 1 & 16 \\\\\n\t17 & 33 & 1 & 17 \\\\\n\t18 & 35 & 1 & 18 \\\\\n\t19 & 37 & 1 & 19 \\\\\n\t20 & 39 & 1 & 20 \\\\\n\t21 & 41 & 1 & 21 \\\\\n\t22 & 43 & 1 & 22 \\\\\n\t23 & 45 & 1 & 23 \\\\\n\t24 & 47 & 1 & 24 \\\\\n\t25 & 49 & 1 & 25 \\\\\n\t26 & 51 & 1 & 26 \\\\\n\t27 & 53 & 1 & 27 \\\\\n\t28 & 55 & 1 & 28 \\\\\n\t29 & 57 & 1 & 29 \\\\\n\t30 & 59 & 1 & 30 \\\\\n\t$\\dots$ & $\\dots$ & $\\dots$ & $\\dots$ \\\\\n\\end{tabular}\n",
            "text/plain": "500×3 DataFrame\n│ Row │ A     │ B     │ C     │\n│     │ \u001b[90mInt64\u001b[39m │ \u001b[90mInt64\u001b[39m │ \u001b[90mInt64\u001b[39m │\n├─────┼───────┼───────┼───────┤\n│ 1   │ 1     │ 1     │ 1     │\n│ 2   │ 3     │ 1     │ 2     │\n│ 3   │ 5     │ 1     │ 3     │\n│ 4   │ 7     │ 1     │ 4     │\n│ 5   │ 9     │ 1     │ 5     │\n│ 6   │ 11    │ 1     │ 6     │\n│ 7   │ 13    │ 1     │ 7     │\n│ 8   │ 15    │ 1     │ 8     │\n│ 9   │ 17    │ 1     │ 9     │\n│ 10  │ 19    │ 1     │ 10    │\n⋮\n│ 490 │ 979   │ 10    │ 490   │\n│ 491 │ 981   │ 10    │ 491   │\n│ 492 │ 983   │ 10    │ 492   │\n│ 493 │ 985   │ 10    │ 493   │\n│ 494 │ 987   │ 10    │ 494   │\n│ 495 │ 989   │ 10    │ 495   │\n│ 496 │ 991   │ 10    │ 496   │\n│ 497 │ 993   │ 10    │ 497   │\n│ 498 │ 995   │ 10    │ 498   │\n│ 499 │ 997   │ 10    │ 499   │\n│ 500 │ 999   │ 10    │ 500   │"
          },
          "metadata": {}
        }
      ],
      "execution_count": 31,
      "metadata": {}
    },
    {
      "cell_type": "code",
      "source": [
        "first(df,3)"
      ],
      "outputs": [
        {
          "output_type": "execute_result",
          "execution_count": 43,
          "data": {
            "text/html": "<table class=\"data-frame\"><thead><tr><th></th><th>A</th><th>B</th><th>C</th></tr><tr><th></th><th>Int64</th><th>Int64</th><th>Int64</th></tr></thead><tbody><p>3 rows × 3 columns</p><tr><th>1</th><td>1</td><td>1</td><td>1</td></tr><tr><th>2</th><td>3</td><td>1</td><td>2</td></tr><tr><th>3</th><td>5</td><td>1</td><td>3</td></tr></tbody></table>",
            "text/latex": "\\begin{tabular}{r|ccc}\n\t& A & B & C\\\\\n\t\\hline\n\t& Int64 & Int64 & Int64\\\\\n\t\\hline\n\t1 & 1 & 1 & 1 \\\\\n\t2 & 3 & 1 & 2 \\\\\n\t3 & 5 & 1 & 3 \\\\\n\\end{tabular}\n",
            "text/plain": "3×3 DataFrame\n│ Row │ A     │ B     │ C     │\n│     │ \u001b[90mInt64\u001b[39m │ \u001b[90mInt64\u001b[39m │ \u001b[90mInt64\u001b[39m │\n├─────┼───────┼───────┼───────┤\n│ 1   │ 1     │ 1     │ 1     │\n│ 2   │ 3     │ 1     │ 2     │\n│ 3   │ 5     │ 1     │ 3     │"
          },
          "metadata": {}
        }
      ],
      "execution_count": 43,
      "metadata": {}
    },
    {
      "cell_type": "code",
      "source": [
        "last(df,3)"
      ],
      "outputs": [
        {
          "output_type": "execute_result",
          "execution_count": 44,
          "data": {
            "text/html": "<table class=\"data-frame\"><thead><tr><th></th><th>A</th><th>B</th><th>C</th></tr><tr><th></th><th>Int64</th><th>Int64</th><th>Int64</th></tr></thead><tbody><p>3 rows × 3 columns</p><tr><th>1</th><td>995</td><td>10</td><td>498</td></tr><tr><th>2</th><td>997</td><td>10</td><td>499</td></tr><tr><th>3</th><td>999</td><td>10</td><td>500</td></tr></tbody></table>",
            "text/latex": "\\begin{tabular}{r|ccc}\n\t& A & B & C\\\\\n\t\\hline\n\t& Int64 & Int64 & Int64\\\\\n\t\\hline\n\t1 & 995 & 10 & 498 \\\\\n\t2 & 997 & 10 & 499 \\\\\n\t3 & 999 & 10 & 500 \\\\\n\\end{tabular}\n",
            "text/plain": "3×3 DataFrame\n│ Row │ A     │ B     │ C     │\n│     │ \u001b[90mInt64\u001b[39m │ \u001b[90mInt64\u001b[39m │ \u001b[90mInt64\u001b[39m │\n├─────┼───────┼───────┼───────┤\n│ 1   │ 995   │ 10    │ 498   │\n│ 2   │ 997   │ 10    │ 499   │\n│ 3   │ 999   │ 10    │ 500   │"
          },
          "metadata": {}
        }
      ],
      "execution_count": 44,
      "metadata": {}
    },
    {
      "cell_type": "code",
      "source": [
        "A = Array(1:2:1000);\n",
        "B = Array(repeat(1:10, inner=50));\n",
        "C = Array(1:500);"
      ],
      "outputs": [],
      "execution_count": 70,
      "metadata": {}
    },
    {
      "cell_type": "markdown",
      "source": [
        "# Indices"
      ],
      "metadata": {}
    },
    {
      "cell_type": "code",
      "source": [
        "df.A;"
      ],
      "outputs": [],
      "execution_count": 78,
      "metadata": {}
    },
    {
      "cell_type": "code",
      "source": [
        "df[1:3,:]"
      ],
      "outputs": [
        {
          "output_type": "execute_result",
          "execution_count": 80,
          "data": {
            "text/html": "<table class=\"data-frame\"><thead><tr><th></th><th>A</th><th>B</th><th>C</th></tr><tr><th></th><th>Int64</th><th>Int64</th><th>Int64</th></tr></thead><tbody><p>3 rows × 3 columns</p><tr><th>1</th><td>1</td><td>1</td><td>1</td></tr><tr><th>2</th><td>3</td><td>1</td><td>2</td></tr><tr><th>3</th><td>5</td><td>1</td><td>3</td></tr></tbody></table>",
            "text/latex": "\\begin{tabular}{r|ccc}\n\t& A & B & C\\\\\n\t\\hline\n\t& Int64 & Int64 & Int64\\\\\n\t\\hline\n\t1 & 1 & 1 & 1 \\\\\n\t2 & 3 & 1 & 2 \\\\\n\t3 & 5 & 1 & 3 \\\\\n\\end{tabular}\n",
            "text/plain": "3×3 DataFrame\n│ Row │ A     │ B     │ C     │\n│     │ \u001b[90mInt64\u001b[39m │ \u001b[90mInt64\u001b[39m │ \u001b[90mInt64\u001b[39m │\n├─────┼───────┼───────┼───────┤\n│ 1   │ 1     │ 1     │ 1     │\n│ 2   │ 3     │ 1     │ 2     │\n│ 3   │ 5     │ 1     │ 3     │"
          },
          "metadata": {}
        }
      ],
      "execution_count": 80,
      "metadata": {}
    },
    {
      "cell_type": "code",
      "source": [
        "df[[1,3],:]"
      ],
      "outputs": [
        {
          "output_type": "execute_result",
          "execution_count": 81,
          "data": {
            "text/html": "<table class=\"data-frame\"><thead><tr><th></th><th>A</th><th>B</th><th>C</th></tr><tr><th></th><th>Int64</th><th>Int64</th><th>Int64</th></tr></thead><tbody><p>2 rows × 3 columns</p><tr><th>1</th><td>1</td><td>1</td><td>1</td></tr><tr><th>2</th><td>5</td><td>1</td><td>3</td></tr></tbody></table>",
            "text/latex": "\\begin{tabular}{r|ccc}\n\t& A & B & C\\\\\n\t\\hline\n\t& Int64 & Int64 & Int64\\\\\n\t\\hline\n\t1 & 1 & 1 & 1 \\\\\n\t2 & 5 & 1 & 3 \\\\\n\\end{tabular}\n",
            "text/plain": "2×3 DataFrame\n│ Row │ A     │ B     │ C     │\n│     │ \u001b[90mInt64\u001b[39m │ \u001b[90mInt64\u001b[39m │ \u001b[90mInt64\u001b[39m │\n├─────┼───────┼───────┼───────┤\n│ 1   │ 1     │ 1     │ 1     │\n│ 2   │ 5     │ 1     │ 3     │"
          },
          "metadata": {}
        }
      ],
      "execution_count": 81,
      "metadata": {}
    },
    {
      "cell_type": "code",
      "source": [
        "df[:,[1,3]] ;"
      ],
      "outputs": [],
      "execution_count": 83,
      "metadata": {}
    },
    {
      "cell_type": "code",
      "source": [
        "df[:, [:A, :B]] ; first(df,5)"
      ],
      "outputs": [
        {
          "output_type": "execute_result",
          "execution_count": 86,
          "data": {
            "text/html": "<table class=\"data-frame\"><thead><tr><th></th><th>A</th><th>B</th><th>C</th></tr><tr><th></th><th>Int64</th><th>Int64</th><th>Int64</th></tr></thead><tbody><p>5 rows × 3 columns</p><tr><th>1</th><td>1</td><td>1</td><td>1</td></tr><tr><th>2</th><td>3</td><td>1</td><td>2</td></tr><tr><th>3</th><td>5</td><td>1</td><td>3</td></tr><tr><th>4</th><td>7</td><td>1</td><td>4</td></tr><tr><th>5</th><td>9</td><td>1</td><td>5</td></tr></tbody></table>",
            "text/latex": "\\begin{tabular}{r|ccc}\n\t& A & B & C\\\\\n\t\\hline\n\t& Int64 & Int64 & Int64\\\\\n\t\\hline\n\t1 & 1 & 1 & 1 \\\\\n\t2 & 3 & 1 & 2 \\\\\n\t3 & 5 & 1 & 3 \\\\\n\t4 & 7 & 1 & 4 \\\\\n\t5 & 9 & 1 & 5 \\\\\n\\end{tabular}\n",
            "text/plain": "5×3 DataFrame\n│ Row │ A     │ B     │ C     │\n│     │ \u001b[90mInt64\u001b[39m │ \u001b[90mInt64\u001b[39m │ \u001b[90mInt64\u001b[39m │\n├─────┼───────┼───────┼───────┤\n│ 1   │ 1     │ 1     │ 1     │\n│ 2   │ 3     │ 1     │ 2     │\n│ 3   │ 5     │ 1     │ 3     │\n│ 4   │ 7     │ 1     │ 4     │\n│ 5   │ 9     │ 1     │ 5     │"
          },
          "metadata": {}
        }
      ],
      "execution_count": 86,
      "metadata": {}
    },
    {
      "cell_type": "code",
      "source": [
        "df[in.(df.A, Ref([1, 5, 601])), :]"
      ],
      "outputs": [
        {
          "output_type": "execute_result",
          "execution_count": 87,
          "data": {
            "text/html": "<table class=\"data-frame\"><thead><tr><th></th><th>A</th><th>B</th><th>C</th></tr><tr><th></th><th>Int64</th><th>Int64</th><th>Int64</th></tr></thead><tbody><p>3 rows × 3 columns</p><tr><th>1</th><td>1</td><td>1</td><td>1</td></tr><tr><th>2</th><td>5</td><td>1</td><td>3</td></tr><tr><th>3</th><td>601</td><td>7</td><td>301</td></tr></tbody></table>",
            "text/latex": "\\begin{tabular}{r|ccc}\n\t& A & B & C\\\\\n\t\\hline\n\t& Int64 & Int64 & Int64\\\\\n\t\\hline\n\t1 & 1 & 1 & 1 \\\\\n\t2 & 5 & 1 & 3 \\\\\n\t3 & 601 & 7 & 301 \\\\\n\\end{tabular}\n",
            "text/plain": "3×3 DataFrame\n│ Row │ A     │ B     │ C     │\n│     │ \u001b[90mInt64\u001b[39m │ \u001b[90mInt64\u001b[39m │ \u001b[90mInt64\u001b[39m │\n├─────┼───────┼───────┼───────┤\n│ 1   │ 1     │ 1     │ 1     │\n│ 2   │ 5     │ 1     │ 3     │\n│ 3   │ 601   │ 7     │ 301   │"
          },
          "metadata": {}
        }
      ],
      "execution_count": 87,
      "metadata": {}
    },
    {
      "cell_type": "markdown",
      "source": [
        "# resumen"
      ],
      "metadata": {}
    },
    {
      "cell_type": "code",
      "source": [
        "describe(df)"
      ],
      "outputs": [
        {
          "output_type": "execute_result",
          "execution_count": 88,
          "data": {
            "text/html": "<table class=\"data-frame\"><thead><tr><th></th><th>variable</th><th>mean</th><th>min</th><th>median</th><th>max</th><th>nunique</th><th>nmissing</th><th>eltype</th></tr><tr><th></th><th>Symbol</th><th>Float64</th><th>Int64</th><th>Float64</th><th>Int64</th><th>Nothing</th><th>Nothing</th><th>DataType</th></tr></thead><tbody><p>3 rows × 8 columns</p><tr><th>1</th><td>A</td><td>500.0</td><td>1</td><td>500.0</td><td>999</td><td></td><td></td><td>Int64</td></tr><tr><th>2</th><td>B</td><td>5.5</td><td>1</td><td>5.5</td><td>10</td><td></td><td></td><td>Int64</td></tr><tr><th>3</th><td>C</td><td>250.5</td><td>1</td><td>250.5</td><td>500</td><td></td><td></td><td>Int64</td></tr></tbody></table>",
            "text/latex": "\\begin{tabular}{r|cccccccc}\n\t& variable & mean & min & median & max & nunique & nmissing & eltype\\\\\n\t\\hline\n\t& Symbol & Float64 & Int64 & Float64 & Int64 & Nothing & Nothing & DataType\\\\\n\t\\hline\n\t1 & A & 500.0 & 1 & 500.0 & 999 &  &  & Int64 \\\\\n\t2 & B & 5.5 & 1 & 5.5 & 10 &  &  & Int64 \\\\\n\t3 & C & 250.5 & 1 & 250.5 & 500 &  &  & Int64 \\\\\n\\end{tabular}\n",
            "text/plain": "3×8 DataFrame. Omitted printing of 1 columns\n│ Row │ variable │ mean    │ min   │ median  │ max   │ nunique │ nmissing │\n│     │ \u001b[90mSymbol\u001b[39m   │ \u001b[90mFloat64\u001b[39m │ \u001b[90mInt64\u001b[39m │ \u001b[90mFloat64\u001b[39m │ \u001b[90mInt64\u001b[39m │ \u001b[90mNothing\u001b[39m │ \u001b[90mNothing\u001b[39m  │\n├─────┼──────────┼─────────┼───────┼─────────┼───────┼─────────┼──────────┤\n│ 1   │ A        │ 500.0   │ 1     │ 500.0   │ 999   │         │          │\n│ 2   │ B        │ 5.5     │ 1     │ 5.5     │ 10    │         │          │\n│ 3   │ C        │ 250.5   │ 1     │ 250.5   │ 500   │         │          │"
          },
          "metadata": {}
        }
      ],
      "execution_count": 88,
      "metadata": {}
    },
    {
      "cell_type": "code",
      "source": [
        "df.A[1] = 100"
      ],
      "outputs": [
        {
          "output_type": "execute_result",
          "execution_count": 90,
          "data": {
            "text/plain": "100"
          },
          "metadata": {}
        }
      ],
      "execution_count": 90,
      "metadata": {}
    },
    {
      "cell_type": "markdown",
      "source": [
        "# Union"
      ],
      "metadata": {}
    },
    {
      "cell_type": "code",
      "source": [
        "a= DataFrame(ID = [20, 40], Name = [\"daniel\", \"hernan\"])"
      ],
      "outputs": [
        {
          "output_type": "execute_result",
          "execution_count": 98,
          "data": {
            "text/html": "<table class=\"data-frame\"><thead><tr><th></th><th>ID</th><th>Name</th></tr><tr><th></th><th>Int64</th><th>String</th></tr></thead><tbody><p>2 rows × 2 columns</p><tr><th>1</th><td>20</td><td>daniel</td></tr><tr><th>2</th><td>40</td><td>hernan</td></tr></tbody></table>",
            "text/latex": "\\begin{tabular}{r|cc}\n\t& ID & Name\\\\\n\t\\hline\n\t& Int64 & String\\\\\n\t\\hline\n\t1 & 20 & daniel \\\\\n\t2 & 40 & hernan \\\\\n\\end{tabular}\n",
            "text/plain": "2×2 DataFrame\n│ Row │ ID    │ Name   │\n│     │ \u001b[90mInt64\u001b[39m │ \u001b[90mString\u001b[39m │\n├─────┼───────┼────────┤\n│ 1   │ 20    │ daniel │\n│ 2   │ 40    │ hernan │"
          },
          "metadata": {}
        }
      ],
      "execution_count": 98,
      "metadata": {}
    },
    {
      "cell_type": "code",
      "source": [
        "b= DataFrame(ID = [20, 40], Job = [\"estadistica\", \"matematica\"])"
      ],
      "outputs": [
        {
          "output_type": "execute_result",
          "execution_count": 99,
          "data": {
            "text/html": "<table class=\"data-frame\"><thead><tr><th></th><th>ID</th><th>Job</th></tr><tr><th></th><th>Int64</th><th>String</th></tr></thead><tbody><p>2 rows × 2 columns</p><tr><th>1</th><td>20</td><td>estadistica</td></tr><tr><th>2</th><td>40</td><td>matematica</td></tr></tbody></table>",
            "text/latex": "\\begin{tabular}{r|cc}\n\t& ID & Job\\\\\n\t\\hline\n\t& Int64 & String\\\\\n\t\\hline\n\t1 & 20 & estadistica \\\\\n\t2 & 40 & matematica \\\\\n\\end{tabular}\n",
            "text/plain": "2×2 DataFrame\n│ Row │ ID    │ Job         │\n│     │ \u001b[90mInt64\u001b[39m │ \u001b[90mString\u001b[39m      │\n├─────┼───────┼─────────────┤\n│ 1   │ 20    │ estadistica │\n│ 2   │ 40    │ matematica  │"
          },
          "metadata": {}
        }
      ],
      "execution_count": 99,
      "metadata": {}
    },
    {
      "cell_type": "code",
      "source": [
        "join(a,b, on=:ID)"
      ],
      "outputs": [
        {
          "output_type": "execute_result",
          "execution_count": 102,
          "data": {
            "text/html": "<table class=\"data-frame\"><thead><tr><th></th><th>ID</th><th>Name</th><th>Job</th></tr><tr><th></th><th>Int64</th><th>String</th><th>String</th></tr></thead><tbody><p>2 rows × 3 columns</p><tr><th>1</th><td>20</td><td>daniel</td><td>estadistica</td></tr><tr><th>2</th><td>40</td><td>hernan</td><td>matematica</td></tr></tbody></table>",
            "text/latex": "\\begin{tabular}{r|ccc}\n\t& ID & Name & Job\\\\\n\t\\hline\n\t& Int64 & String & String\\\\\n\t\\hline\n\t1 & 20 & daniel & estadistica \\\\\n\t2 & 40 & hernan & matematica \\\\\n\\end{tabular}\n",
            "text/plain": "2×3 DataFrame\n│ Row │ ID    │ Name   │ Job         │\n│     │ \u001b[90mInt64\u001b[39m │ \u001b[90mString\u001b[39m │ \u001b[90mString\u001b[39m      │\n├─────┼───────┼────────┼─────────────┤\n│ 1   │ 20    │ daniel │ estadistica │\n│ 2   │ 40    │ hernan │ matematica  │"
          },
          "metadata": {}
        }
      ],
      "execution_count": 102,
      "metadata": {}
    },
    {
      "cell_type": "markdown",
      "source": [
        "## SPLITS"
      ],
      "metadata": {}
    },
    {
      "cell_type": "code",
      "source": [
        "Pkg.add(\"RDatasets\")\n",
        "Pkg.add(\"Statistics\")"
      ],
      "outputs": [
        {
          "output_type": "stream",
          "name": "stderr",
          "text": [
            "\u001b[32m\u001b[1m  Resolving\u001b[22m\u001b[39m package versions...\n",
            "\u001b[32m\u001b[1m   Updating\u001b[22m\u001b[39m `~/.julia/environments/v1.4/Project.toml`\n",
            "\u001b[90m [no changes]\u001b[39m\n",
            "\u001b[32m\u001b[1m   Updating\u001b[22m\u001b[39m `~/.julia/environments/v1.4/Manifest.toml`\n",
            "\u001b[90m [no changes]\u001b[39m\n",
            "\u001b[32m\u001b[1m  Resolving\u001b[22m\u001b[39m package versions...\n",
            "\u001b[32m\u001b[1m   Updating\u001b[22m\u001b[39m `~/.julia/environments/v1.4/Project.toml`\n",
            " \u001b[90m [10745b16]\u001b[39m\u001b[92m + Statistics \u001b[39m\n",
            "\u001b[32m\u001b[1m   Updating\u001b[22m\u001b[39m `~/.julia/environments/v1.4/Manifest.toml`\n",
            "\u001b[90m [no changes]\u001b[39m\n"
          ]
        }
      ],
      "execution_count": 108,
      "metadata": {}
    },
    {
      "cell_type": "code",
      "source": [
        "using DataFrames, Statistics, RDatasets"
      ],
      "outputs": [
        {
          "output_type": "stream",
          "name": "stderr",
          "text": [
            "┌ Info: Precompiling RDatasets [ce6b1742-4840-55fa-b093-852dadbb1d8b]\n",
            "└ @ Base loading.jl:1260\n"
          ]
        }
      ],
      "execution_count": 114,
      "metadata": {}
    },
    {
      "cell_type": "code",
      "source": [
        "datos = dataset(\"datasets\", \"iris\") ;"
      ],
      "outputs": [],
      "execution_count": 116,
      "metadata": {}
    },
    {
      "cell_type": "code",
      "source": [
        "names(datos)"
      ],
      "outputs": [
        {
          "output_type": "execute_result",
          "execution_count": 117,
          "data": {
            "text/plain": "5-element Array{Symbol,1}:\n :SepalLength\n :SepalWidth\n :PetalLength\n :PetalWidth\n :Species"
          },
          "metadata": {}
        }
      ],
      "execution_count": 117,
      "metadata": {}
    },
    {
      "cell_type": "code",
      "source": [
        "by(datos, :Species, :PetalLength => mean)"
      ],
      "outputs": [
        {
          "output_type": "execute_result",
          "execution_count": 118,
          "data": {
            "text/html": "<table class=\"data-frame\"><thead><tr><th></th><th>Species</th><th>PetalLength_mean</th></tr><tr><th></th><th>Categorical…</th><th>Float64</th></tr></thead><tbody><p>3 rows × 2 columns</p><tr><th>1</th><td>setosa</td><td>1.462</td></tr><tr><th>2</th><td>versicolor</td><td>4.26</td></tr><tr><th>3</th><td>virginica</td><td>5.552</td></tr></tbody></table>",
            "text/latex": "\\begin{tabular}{r|cc}\n\t& Species & PetalLength\\_mean\\\\\n\t\\hline\n\t& Categorical… & Float64\\\\\n\t\\hline\n\t1 & setosa & 1.462 \\\\\n\t2 & versicolor & 4.26 \\\\\n\t3 & virginica & 5.552 \\\\\n\\end{tabular}\n",
            "text/plain": "3×2 DataFrame\n│ Row │ Species      │ PetalLength_mean │\n│     │ \u001b[90mCategorical…\u001b[39m │ \u001b[90mFloat64\u001b[39m          │\n├─────┼──────────────┼──────────────────┤\n│ 1   │ setosa       │ 1.462            │\n│ 2   │ versicolor   │ 4.26             │\n│ 3   │ virginica    │ 5.552            │"
          },
          "metadata": {}
        }
      ],
      "execution_count": 118,
      "metadata": {}
    },
    {
      "cell_type": "code",
      "source": [
        "by(datos, :Species, total = :Species => length) "
      ],
      "outputs": [
        {
          "output_type": "execute_result",
          "execution_count": 123,
          "data": {
            "text/html": "<table class=\"data-frame\"><thead><tr><th></th><th>Species</th><th>total</th></tr><tr><th></th><th>Categorical…</th><th>Int64</th></tr></thead><tbody><p>3 rows × 2 columns</p><tr><th>1</th><td>setosa</td><td>50</td></tr><tr><th>2</th><td>versicolor</td><td>50</td></tr><tr><th>3</th><td>virginica</td><td>50</td></tr></tbody></table>",
            "text/latex": "\\begin{tabular}{r|cc}\n\t& Species & total\\\\\n\t\\hline\n\t& Categorical… & Int64\\\\\n\t\\hline\n\t1 & setosa & 50 \\\\\n\t2 & versicolor & 50 \\\\\n\t3 & virginica & 50 \\\\\n\\end{tabular}\n",
            "text/plain": "3×2 DataFrame\n│ Row │ Species      │ total │\n│     │ \u001b[90mCategorical…\u001b[39m │ \u001b[90mInt64\u001b[39m │\n├─────┼──────────────┼───────┤\n│ 1   │ setosa       │ 50    │\n│ 2   │ versicolor   │ 50    │\n│ 3   │ virginica    │ 50    │"
          },
          "metadata": {}
        }
      ],
      "execution_count": 123,
      "metadata": {}
    },
    {
      "cell_type": "code",
      "source": [
        "by(datos, :Species, total = :Species => length, media=:PetalLength => mean) "
      ],
      "outputs": [
        {
          "output_type": "execute_result",
          "execution_count": 124,
          "data": {
            "text/html": "<table class=\"data-frame\"><thead><tr><th></th><th>Species</th><th>total</th><th>media</th></tr><tr><th></th><th>Categorical…</th><th>Int64</th><th>Float64</th></tr></thead><tbody><p>3 rows × 3 columns</p><tr><th>1</th><td>setosa</td><td>50</td><td>1.462</td></tr><tr><th>2</th><td>versicolor</td><td>50</td><td>4.26</td></tr><tr><th>3</th><td>virginica</td><td>50</td><td>5.552</td></tr></tbody></table>",
            "text/latex": "\\begin{tabular}{r|ccc}\n\t& Species & total & media\\\\\n\t\\hline\n\t& Categorical… & Int64 & Float64\\\\\n\t\\hline\n\t1 & setosa & 50 & 1.462 \\\\\n\t2 & versicolor & 50 & 4.26 \\\\\n\t3 & virginica & 50 & 5.552 \\\\\n\\end{tabular}\n",
            "text/plain": "3×3 DataFrame\n│ Row │ Species      │ total │ media   │\n│     │ \u001b[90mCategorical…\u001b[39m │ \u001b[90mInt64\u001b[39m │ \u001b[90mFloat64\u001b[39m │\n├─────┼──────────────┼───────┼─────────┤\n│ 1   │ setosa       │ 50    │ 1.462   │\n│ 2   │ versicolor   │ 50    │ 4.26    │\n│ 3   │ virginica    │ 50    │ 5.552   │"
          },
          "metadata": {}
        }
      ],
      "execution_count": 124,
      "metadata": {}
    },
    {
      "cell_type": "code",
      "source": [
        "aggregate(datos, :Species, length)"
      ],
      "outputs": [
        {
          "output_type": "execute_result",
          "execution_count": 126,
          "data": {
            "text/html": "<table class=\"data-frame\"><thead><tr><th></th><th>Species</th><th>SepalLength_length</th><th>SepalWidth_length</th><th>PetalLength_length</th><th>PetalWidth_length</th></tr><tr><th></th><th>Categorical…</th><th>Int64</th><th>Int64</th><th>Int64</th><th>Int64</th></tr></thead><tbody><p>3 rows × 5 columns</p><tr><th>1</th><td>setosa</td><td>50</td><td>50</td><td>50</td><td>50</td></tr><tr><th>2</th><td>versicolor</td><td>50</td><td>50</td><td>50</td><td>50</td></tr><tr><th>3</th><td>virginica</td><td>50</td><td>50</td><td>50</td><td>50</td></tr></tbody></table>",
            "text/latex": "\\begin{tabular}{r|ccccc}\n\t& Species & SepalLength\\_length & SepalWidth\\_length & PetalLength\\_length & PetalWidth\\_length\\\\\n\t\\hline\n\t& Categorical… & Int64 & Int64 & Int64 & Int64\\\\\n\t\\hline\n\t1 & setosa & 50 & 50 & 50 & 50 \\\\\n\t2 & versicolor & 50 & 50 & 50 & 50 \\\\\n\t3 & virginica & 50 & 50 & 50 & 50 \\\\\n\\end{tabular}\n",
            "text/plain": "3×5 DataFrame. Omitted printing of 2 columns\n│ Row │ Species      │ SepalLength_length │ SepalWidth_length │\n│     │ \u001b[90mCategorical…\u001b[39m │ \u001b[90mInt64\u001b[39m              │ \u001b[90mInt64\u001b[39m             │\n├─────┼──────────────┼────────────────────┼───────────────────┤\n│ 1   │ setosa       │ 50                 │ 50                │\n│ 2   │ versicolor   │ 50                 │ 50                │\n│ 3   │ virginica    │ 50                 │ 50                │"
          },
          "metadata": {}
        }
      ],
      "execution_count": 126,
      "metadata": {}
    },
    {
      "cell_type": "code",
      "source": [
        "aggregate(datos, :Species, [sum, mean])"
      ],
      "outputs": [
        {
          "output_type": "execute_result",
          "execution_count": 127,
          "data": {
            "text/html": "<table class=\"data-frame\"><thead><tr><th></th><th>Species</th><th>SepalLength_sum</th><th>SepalWidth_sum</th><th>PetalLength_sum</th><th>PetalWidth_sum</th></tr><tr><th></th><th>Categorical…</th><th>Float64</th><th>Float64</th><th>Float64</th><th>Float64</th></tr></thead><tbody><p>3 rows × 9 columns (omitted printing of 4 columns)</p><tr><th>1</th><td>setosa</td><td>250.3</td><td>171.4</td><td>73.1</td><td>12.3</td></tr><tr><th>2</th><td>versicolor</td><td>296.8</td><td>138.5</td><td>213.0</td><td>66.3</td></tr><tr><th>3</th><td>virginica</td><td>329.4</td><td>148.7</td><td>277.6</td><td>101.3</td></tr></tbody></table>",
            "text/latex": "\\begin{tabular}{r|cccccc}\n\t& Species & SepalLength\\_sum & SepalWidth\\_sum & PetalLength\\_sum & PetalWidth\\_sum & \\\\\n\t\\hline\n\t& Categorical… & Float64 & Float64 & Float64 & Float64 & \\\\\n\t\\hline\n\t1 & setosa & 250.3 & 171.4 & 73.1 & 12.3 & $\\dots$ \\\\\n\t2 & versicolor & 296.8 & 138.5 & 213.0 & 66.3 & $\\dots$ \\\\\n\t3 & virginica & 329.4 & 148.7 & 277.6 & 101.3 & $\\dots$ \\\\\n\\end{tabular}\n",
            "text/plain": "3×9 DataFrame. Omitted printing of 5 columns\n│ Row │ Species      │ SepalLength_sum │ SepalWidth_sum │ PetalLength_sum │\n│     │ \u001b[90mCategorical…\u001b[39m │ \u001b[90mFloat64\u001b[39m         │ \u001b[90mFloat64\u001b[39m        │ \u001b[90mFloat64\u001b[39m         │\n├─────┼──────────────┼─────────────────┼────────────────┼─────────────────┤\n│ 1   │ setosa       │ 250.3           │ 171.4          │ 73.1            │\n│ 2   │ versicolor   │ 296.8           │ 138.5          │ 213.0           │\n│ 3   │ virginica    │ 329.4           │ 148.7          │ 277.6           │"
          },
          "metadata": {}
        }
      ],
      "execution_count": 127,
      "metadata": {}
    },
    {
      "cell_type": "markdown",
      "source": [
        "# Perdidos"
      ],
      "metadata": {}
    },
    {
      "cell_type": "code",
      "source": [
        "df2 = DataFrame(i = 1:5,\n",
        "                      x = [missing, 4, missing, 2, 1],\n",
        "                      y = [missing, missing, \"c\", \"d\", \"e\"])\n"
      ],
      "outputs": [
        {
          "output_type": "execute_result",
          "execution_count": 130,
          "data": {
            "text/html": "<table class=\"data-frame\"><thead><tr><th></th><th>i</th><th>x</th><th>y</th></tr><tr><th></th><th>Int64</th><th>Int64⍰</th><th>String⍰</th></tr></thead><tbody><p>5 rows × 3 columns</p><tr><th>1</th><td>1</td><td>missing</td><td>missing</td></tr><tr><th>2</th><td>2</td><td>4</td><td>missing</td></tr><tr><th>3</th><td>3</td><td>missing</td><td>c</td></tr><tr><th>4</th><td>4</td><td>2</td><td>d</td></tr><tr><th>5</th><td>5</td><td>1</td><td>e</td></tr></tbody></table>",
            "text/latex": "\\begin{tabular}{r|ccc}\n\t& i & x & y\\\\\n\t\\hline\n\t& Int64 & Int64⍰ & String⍰\\\\\n\t\\hline\n\t1 & 1 &  &  \\\\\n\t2 & 2 & 4 &  \\\\\n\t3 & 3 &  & c \\\\\n\t4 & 4 & 2 & d \\\\\n\t5 & 5 & 1 & e \\\\\n\\end{tabular}\n",
            "text/plain": "5×3 DataFrame\n│ Row │ i     │ x       │ y       │\n│     │ \u001b[90mInt64\u001b[39m │ \u001b[90mInt64⍰\u001b[39m  │ \u001b[90mString⍰\u001b[39m │\n├─────┼───────┼─────────┼─────────┤\n│ 1   │ 1     │ \u001b[90mmissing\u001b[39m │ \u001b[90mmissing\u001b[39m │\n│ 2   │ 2     │ 4       │ \u001b[90mmissing\u001b[39m │\n│ 3   │ 3     │ \u001b[90mmissing\u001b[39m │ c       │\n│ 4   │ 4     │ 2       │ d       │\n│ 5   │ 5     │ 1       │ e       │"
          },
          "metadata": {}
        }
      ],
      "execution_count": 130,
      "metadata": {}
    },
    {
      "cell_type": "code",
      "source": [
        "dropmissing(df2)"
      ],
      "outputs": [
        {
          "output_type": "execute_result",
          "execution_count": 131,
          "data": {
            "text/html": "<table class=\"data-frame\"><thead><tr><th></th><th>i</th><th>x</th><th>y</th></tr><tr><th></th><th>Int64</th><th>Int64</th><th>String</th></tr></thead><tbody><p>2 rows × 3 columns</p><tr><th>1</th><td>4</td><td>2</td><td>d</td></tr><tr><th>2</th><td>5</td><td>1</td><td>e</td></tr></tbody></table>",
            "text/latex": "\\begin{tabular}{r|ccc}\n\t& i & x & y\\\\\n\t\\hline\n\t& Int64 & Int64 & String\\\\\n\t\\hline\n\t1 & 4 & 2 & d \\\\\n\t2 & 5 & 1 & e \\\\\n\\end{tabular}\n",
            "text/plain": "2×3 DataFrame\n│ Row │ i     │ x     │ y      │\n│     │ \u001b[90mInt64\u001b[39m │ \u001b[90mInt64\u001b[39m │ \u001b[90mString\u001b[39m │\n├─────┼───────┼───────┼────────┤\n│ 1   │ 4     │ 2     │ d      │\n│ 2   │ 5     │ 1     │ e      │"
          },
          "metadata": {}
        }
      ],
      "execution_count": 131,
      "metadata": {}
    },
    {
      "cell_type": "code",
      "source": [
        "skipmissing(df2)"
      ],
      "outputs": [
        {
          "output_type": "execute_result",
          "execution_count": 135,
          "data": {
            "text/plain": "Base.SkipMissing{DataFrame}(5×3 DataFrame\n│ Row │ i     │ x       │ y       │\n│     │ \u001b[90mInt64\u001b[39m │ \u001b[90mInt64⍰\u001b[39m  │ \u001b[90mString⍰\u001b[39m │\n├─────┼───────┼─────────┼─────────┤\n│ 1   │ 1     │ \u001b[90mmissing\u001b[39m │ \u001b[90mmissing\u001b[39m │\n│ 2   │ 2     │ 4       │ \u001b[90mmissing\u001b[39m │\n│ 3   │ 3     │ \u001b[90mmissing\u001b[39m │ c       │\n│ 4   │ 4     │ 2       │ d       │\n│ 5   │ 5     │ 1       │ e       │)"
          },
          "metadata": {}
        }
      ],
      "execution_count": 135,
      "metadata": {}
    },
    {
      "cell_type": "code",
      "source": [
        "# buscar como llenar los vacios y la media cn datos vacios"
      ],
      "outputs": [],
      "execution_count": null,
      "metadata": {}
    },
    {
      "cell_type": "markdown",
      "source": [
        "## Consultas con linq"
      ],
      "metadata": {}
    },
    {
      "cell_type": "code",
      "source": [
        "Pkg.add(\"DataFramesMeta\")\n"
      ],
      "outputs": [
        {
          "output_type": "stream",
          "name": "stderr",
          "text": [
            "\u001b[32m\u001b[1m  Resolving\u001b[22m\u001b[39m package versions...\n",
            "\u001b[32m\u001b[1m  Installed\u001b[22m\u001b[39m DataFramesMeta ─ v0.5.0\n",
            "\u001b[32m\u001b[1m   Updating\u001b[22m\u001b[39m `~/.julia/environments/v1.4/Project.toml`\n",
            " \u001b[90m [1313f7d8]\u001b[39m\u001b[92m + DataFramesMeta v0.5.0\u001b[39m\n",
            "\u001b[32m\u001b[1m   Updating\u001b[22m\u001b[39m `~/.julia/environments/v1.4/Manifest.toml`\n",
            " \u001b[90m [1313f7d8]\u001b[39m\u001b[92m + DataFramesMeta v0.5.0\u001b[39m\n",
            "┌ Info: Precompiling DataFramesMeta [1313f7d8-7da2-5740-9ea0-a2ca25f37964]\n",
            "└ @ Base loading.jl:1260\n"
          ]
        }
      ],
      "execution_count": 140,
      "metadata": {}
    },
    {
      "cell_type": "code",
      "source": [
        "using DataFramesMeta"
      ],
      "outputs": [],
      "execution_count": 163,
      "metadata": {}
    },
    {
      "cell_type": "code",
      "source": [
        "first(datos,5)"
      ],
      "outputs": [
        {
          "output_type": "execute_result",
          "execution_count": 141,
          "data": {
            "text/html": "<table class=\"data-frame\"><thead><tr><th></th><th>SepalLength</th><th>SepalWidth</th><th>PetalLength</th><th>PetalWidth</th><th>Species</th></tr><tr><th></th><th>Float64</th><th>Float64</th><th>Float64</th><th>Float64</th><th>Categorical…</th></tr></thead><tbody><p>5 rows × 5 columns</p><tr><th>1</th><td>5.1</td><td>3.5</td><td>1.4</td><td>0.2</td><td>setosa</td></tr><tr><th>2</th><td>4.9</td><td>3.0</td><td>1.4</td><td>0.2</td><td>setosa</td></tr><tr><th>3</th><td>4.7</td><td>3.2</td><td>1.3</td><td>0.2</td><td>setosa</td></tr><tr><th>4</th><td>4.6</td><td>3.1</td><td>1.5</td><td>0.2</td><td>setosa</td></tr><tr><th>5</th><td>5.0</td><td>3.6</td><td>1.4</td><td>0.2</td><td>setosa</td></tr></tbody></table>",
            "text/latex": "\\begin{tabular}{r|ccccc}\n\t& SepalLength & SepalWidth & PetalLength & PetalWidth & Species\\\\\n\t\\hline\n\t& Float64 & Float64 & Float64 & Float64 & Categorical…\\\\\n\t\\hline\n\t1 & 5.1 & 3.5 & 1.4 & 0.2 & setosa \\\\\n\t2 & 4.9 & 3.0 & 1.4 & 0.2 & setosa \\\\\n\t3 & 4.7 & 3.2 & 1.3 & 0.2 & setosa \\\\\n\t4 & 4.6 & 3.1 & 1.5 & 0.2 & setosa \\\\\n\t5 & 5.0 & 3.6 & 1.4 & 0.2 & setosa \\\\\n\\end{tabular}\n",
            "text/plain": "5×5 DataFrame\n│ Row │ SepalLength │ SepalWidth │ PetalLength │ PetalWidth │ Species      │\n│     │ \u001b[90mFloat64\u001b[39m     │ \u001b[90mFloat64\u001b[39m    │ \u001b[90mFloat64\u001b[39m     │ \u001b[90mFloat64\u001b[39m    │ \u001b[90mCategorical…\u001b[39m │\n├─────┼─────────────┼────────────┼─────────────┼────────────┼──────────────┤\n│ 1   │ 5.1         │ 3.5        │ 1.4         │ 0.2        │ setosa       │\n│ 2   │ 4.9         │ 3.0        │ 1.4         │ 0.2        │ setosa       │\n│ 3   │ 4.7         │ 3.2        │ 1.3         │ 0.2        │ setosa       │\n│ 4   │ 4.6         │ 3.1        │ 1.5         │ 0.2        │ setosa       │\n│ 5   │ 5.0         │ 3.6        │ 1.4         │ 0.2        │ setosa       │"
          },
          "metadata": {}
        }
      ],
      "execution_count": 141,
      "metadata": {}
    },
    {
      "cell_type": "code",
      "source": [
        "df3 = DataFrame(name=[\"John\", \"Sally\", \"Roger\"],\n",
        "                      age=[54., 34., 79.],\n",
        "                      children=[0, 2, 4])"
      ],
      "outputs": [
        {
          "output_type": "execute_result",
          "execution_count": 154,
          "data": {
            "text/html": "<table class=\"data-frame\"><thead><tr><th></th><th>name</th><th>age</th><th>children</th></tr><tr><th></th><th>String</th><th>Float64</th><th>Int64</th></tr></thead><tbody><p>3 rows × 3 columns</p><tr><th>1</th><td>John</td><td>54.0</td><td>0</td></tr><tr><th>2</th><td>Sally</td><td>34.0</td><td>2</td></tr><tr><th>3</th><td>Roger</td><td>79.0</td><td>4</td></tr></tbody></table>",
            "text/latex": "\\begin{tabular}{r|ccc}\n\t& name & age & children\\\\\n\t\\hline\n\t& String & Float64 & Int64\\\\\n\t\\hline\n\t1 & John & 54.0 & 0 \\\\\n\t2 & Sally & 34.0 & 2 \\\\\n\t3 & Roger & 79.0 & 4 \\\\\n\\end{tabular}\n",
            "text/plain": "3×3 DataFrame\n│ Row │ name   │ age     │ children │\n│     │ \u001b[90mString\u001b[39m │ \u001b[90mFloat64\u001b[39m │ \u001b[90mInt64\u001b[39m    │\n├─────┼────────┼─────────┼──────────┤\n│ 1   │ John   │ 54.0    │ 0        │\n│ 2   │ Sally  │ 34.0    │ 2        │\n│ 3   │ Roger  │ 79.0    │ 4        │"
          },
          "metadata": {}
        }
      ],
      "execution_count": 154,
      "metadata": {}
    },
    {
      "cell_type": "code",
      "source": [
        "@linq df3 |>\n",
        "           where(:age .> 40) |>\n",
        "           select(number_of_children=:children, :name)"
      ],
      "outputs": [
        {
          "output_type": "execute_result",
          "execution_count": 158,
          "data": {
            "text/html": "<table class=\"data-frame\"><thead><tr><th></th><th>number_of_children</th><th>name</th></tr><tr><th></th><th>Int64</th><th>String</th></tr></thead><tbody><p>2 rows × 2 columns</p><tr><th>1</th><td>0</td><td>John</td></tr><tr><th>2</th><td>4</td><td>Roger</td></tr></tbody></table>",
            "text/latex": "\\begin{tabular}{r|cc}\n\t& number\\_of\\_children & name\\\\\n\t\\hline\n\t& Int64 & String\\\\\n\t\\hline\n\t1 & 0 & John \\\\\n\t2 & 4 & Roger \\\\\n\\end{tabular}\n",
            "text/plain": "2×2 DataFrame\n│ Row │ number_of_children │ name   │\n│     │ \u001b[90mInt64\u001b[39m              │ \u001b[90mString\u001b[39m │\n├─────┼────────────────────┼────────┤\n│ 1   │ 0                  │ John   │\n│ 2   │ 4                  │ Roger  │"
          },
          "metadata": {}
        }
      ],
      "execution_count": 158,
      "metadata": {}
    },
    {
      "cell_type": "code",
      "source": [
        "@linq datos |>\n",
        "           where(:SepalLength .> 4) |>\n",
        "           select(:Species,:SepalLength)\n",
        "\n",
        "#luego se usa un by para obtener estadisticas por categorias"
      ],
      "outputs": [
        {
          "output_type": "execute_result",
          "execution_count": 160,
          "data": {
            "text/html": "<table class=\"data-frame\"><thead><tr><th></th><th>Species</th><th>SepalLength</th></tr><tr><th></th><th>Categorical…</th><th>Float64</th></tr></thead><tbody><p>150 rows × 2 columns</p><tr><th>1</th><td>setosa</td><td>5.1</td></tr><tr><th>2</th><td>setosa</td><td>4.9</td></tr><tr><th>3</th><td>setosa</td><td>4.7</td></tr><tr><th>4</th><td>setosa</td><td>4.6</td></tr><tr><th>5</th><td>setosa</td><td>5.0</td></tr><tr><th>6</th><td>setosa</td><td>5.4</td></tr><tr><th>7</th><td>setosa</td><td>4.6</td></tr><tr><th>8</th><td>setosa</td><td>5.0</td></tr><tr><th>9</th><td>setosa</td><td>4.4</td></tr><tr><th>10</th><td>setosa</td><td>4.9</td></tr><tr><th>11</th><td>setosa</td><td>5.4</td></tr><tr><th>12</th><td>setosa</td><td>4.8</td></tr><tr><th>13</th><td>setosa</td><td>4.8</td></tr><tr><th>14</th><td>setosa</td><td>4.3</td></tr><tr><th>15</th><td>setosa</td><td>5.8</td></tr><tr><th>16</th><td>setosa</td><td>5.7</td></tr><tr><th>17</th><td>setosa</td><td>5.4</td></tr><tr><th>18</th><td>setosa</td><td>5.1</td></tr><tr><th>19</th><td>setosa</td><td>5.7</td></tr><tr><th>20</th><td>setosa</td><td>5.1</td></tr><tr><th>21</th><td>setosa</td><td>5.4</td></tr><tr><th>22</th><td>setosa</td><td>5.1</td></tr><tr><th>23</th><td>setosa</td><td>4.6</td></tr><tr><th>24</th><td>setosa</td><td>5.1</td></tr><tr><th>25</th><td>setosa</td><td>4.8</td></tr><tr><th>26</th><td>setosa</td><td>5.0</td></tr><tr><th>27</th><td>setosa</td><td>5.0</td></tr><tr><th>28</th><td>setosa</td><td>5.2</td></tr><tr><th>29</th><td>setosa</td><td>5.2</td></tr><tr><th>30</th><td>setosa</td><td>4.7</td></tr><tr><th>&vellip;</th><td>&vellip;</td><td>&vellip;</td></tr></tbody></table>",
            "text/latex": "\\begin{tabular}{r|cc}\n\t& Species & SepalLength\\\\\n\t\\hline\n\t& Categorical… & Float64\\\\\n\t\\hline\n\t1 & setosa & 5.1 \\\\\n\t2 & setosa & 4.9 \\\\\n\t3 & setosa & 4.7 \\\\\n\t4 & setosa & 4.6 \\\\\n\t5 & setosa & 5.0 \\\\\n\t6 & setosa & 5.4 \\\\\n\t7 & setosa & 4.6 \\\\\n\t8 & setosa & 5.0 \\\\\n\t9 & setosa & 4.4 \\\\\n\t10 & setosa & 4.9 \\\\\n\t11 & setosa & 5.4 \\\\\n\t12 & setosa & 4.8 \\\\\n\t13 & setosa & 4.8 \\\\\n\t14 & setosa & 4.3 \\\\\n\t15 & setosa & 5.8 \\\\\n\t16 & setosa & 5.7 \\\\\n\t17 & setosa & 5.4 \\\\\n\t18 & setosa & 5.1 \\\\\n\t19 & setosa & 5.7 \\\\\n\t20 & setosa & 5.1 \\\\\n\t21 & setosa & 5.4 \\\\\n\t22 & setosa & 5.1 \\\\\n\t23 & setosa & 4.6 \\\\\n\t24 & setosa & 5.1 \\\\\n\t25 & setosa & 4.8 \\\\\n\t26 & setosa & 5.0 \\\\\n\t27 & setosa & 5.0 \\\\\n\t28 & setosa & 5.2 \\\\\n\t29 & setosa & 5.2 \\\\\n\t30 & setosa & 4.7 \\\\\n\t$\\dots$ & $\\dots$ & $\\dots$ \\\\\n\\end{tabular}\n",
            "text/plain": "150×2 DataFrame\n│ Row │ Species      │ SepalLength │\n│     │ \u001b[90mCategorical…\u001b[39m │ \u001b[90mFloat64\u001b[39m     │\n├─────┼──────────────┼─────────────┤\n│ 1   │ setosa       │ 5.1         │\n│ 2   │ setosa       │ 4.9         │\n│ 3   │ setosa       │ 4.7         │\n│ 4   │ setosa       │ 4.6         │\n│ 5   │ setosa       │ 5.0         │\n│ 6   │ setosa       │ 5.4         │\n│ 7   │ setosa       │ 4.6         │\n│ 8   │ setosa       │ 5.0         │\n│ 9   │ setosa       │ 4.4         │\n│ 10  │ setosa       │ 4.9         │\n⋮\n│ 140 │ virginica    │ 6.9         │\n│ 141 │ virginica    │ 6.7         │\n│ 142 │ virginica    │ 6.9         │\n│ 143 │ virginica    │ 5.8         │\n│ 144 │ virginica    │ 6.8         │\n│ 145 │ virginica    │ 6.7         │\n│ 146 │ virginica    │ 6.7         │\n│ 147 │ virginica    │ 6.3         │\n│ 148 │ virginica    │ 6.5         │\n│ 149 │ virginica    │ 6.2         │\n│ 150 │ virginica    │ 5.9         │"
          },
          "metadata": {}
        }
      ],
      "execution_count": 160,
      "metadata": {}
    },
    {
      "cell_type": "code",
      "source": [],
      "outputs": [],
      "execution_count": null,
      "metadata": {}
    }
  ],
  "metadata": {
    "kernelspec": {
      "display_name": "Julia 1.4.0",
      "language": "julia",
      "name": "julia-1.4"
    },
    "language_info": {
      "file_extension": ".jl",
      "name": "julia",
      "mimetype": "application/julia",
      "version": "1.4.1"
    },
    "nteract": {
      "version": "0.24.1"
    }
  },
  "nbformat": 4,
  "nbformat_minor": 2
}