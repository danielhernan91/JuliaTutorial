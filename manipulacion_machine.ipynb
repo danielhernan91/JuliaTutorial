{
 "cells": [
  {
   "cell_type": "code",
   "execution_count": 3,
   "metadata": {},
   "outputs": [],
   "source": [
    "using Pkg"
   ]
  },
  {
   "cell_type": "code",
   "execution_count": 5,
   "metadata": {},
   "outputs": [
    {
     "name": "stderr",
     "output_type": "stream",
     "text": [
      "\u001b[32m\u001b[1m   Updating\u001b[22m\u001b[39m registry at `~/.julia/registries/General`\n",
      "\u001b[32m\u001b[1m   Updating\u001b[22m\u001b[39m git-repo `https://github.com/JuliaRegistries/General.git`\n"
     ]
    },
    {
     "name": "stdout",
     "output_type": "stream",
     "text": [
      "\u001b[2K\u001b[?25h[1mFetching:\u001b[22m\u001b[39m [========================================>]  100.0 %.0 %"
     ]
    },
    {
     "ename": "Pkg.Types.PkgError",
     "evalue": "The following package names could not be resolved:\n * Sciktlearn (not found in project, manifest or registry)\n",
     "output_type": "error",
     "traceback": [
      "The following package names could not be resolved:\n * Sciktlearn (not found in project, manifest or registry)\n",
      "",
      "Stacktrace:",
      " [1] pkgerror(::String) at /Users/julia/buildbot/worker/package_macos64/build/usr/share/julia/stdlib/v1.4/Pkg/src/Types.jl:53",
      " [2] ensure_resolved(::Pkg.Types.Context, ::Array{Pkg.Types.PackageSpec,1}; registry::Bool) at /Users/julia/buildbot/worker/package_macos64/build/usr/share/julia/stdlib/v1.4/Pkg/src/Types.jl:794",
      " [3] add(::Pkg.Types.Context, ::Array{Pkg.Types.PackageSpec,1}; preserve::Pkg.Types.PreserveLevel, platform::Pkg.BinaryPlatforms.MacOS, kwargs::Base.Iterators.Pairs{Union{},Union{},Tuple{},NamedTuple{(),Tuple{}}}) at /Users/julia/buildbot/worker/package_macos64/build/usr/share/julia/stdlib/v1.4/Pkg/src/API.jl:148",
      " [4] add(::Pkg.Types.Context, ::Array{Pkg.Types.PackageSpec,1}) at /Users/julia/buildbot/worker/package_macos64/build/usr/share/julia/stdlib/v1.4/Pkg/src/API.jl:112",
      " [5] #add#27 at /Users/julia/buildbot/worker/package_macos64/build/usr/share/julia/stdlib/v1.4/Pkg/src/API.jl:109 [inlined]",
      " [6] add at /Users/julia/buildbot/worker/package_macos64/build/usr/share/julia/stdlib/v1.4/Pkg/src/API.jl:109 [inlined]",
      " [7] #add#24 at /Users/julia/buildbot/worker/package_macos64/build/usr/share/julia/stdlib/v1.4/Pkg/src/API.jl:107 [inlined]",
      " [8] add at /Users/julia/buildbot/worker/package_macos64/build/usr/share/julia/stdlib/v1.4/Pkg/src/API.jl:107 [inlined]",
      " [9] add(::String; kwargs::Base.Iterators.Pairs{Union{},Union{},Tuple{},NamedTuple{(),Tuple{}}}) at /Users/julia/buildbot/worker/package_macos64/build/usr/share/julia/stdlib/v1.4/Pkg/src/API.jl:106",
      " [10] add(::String) at /Users/julia/buildbot/worker/package_macos64/build/usr/share/julia/stdlib/v1.4/Pkg/src/API.jl:106",
      " [11] top-level scope at In[5]:1"
     ]
    }
   ],
   "source": [
    "Pkg.add(\"Sciktlearn\")\n",
    "Pkg.add(\"CSV\")"
   ]
  },
  {
   "cell_type": "code",
   "execution_count": 6,
   "metadata": {},
   "outputs": [],
   "source": [
    "using ScikitLearn, CSV"
   ]
  },
  {
   "cell_type": "code",
   "execution_count": 13,
   "metadata": {},
   "outputs": [
    {
     "data": {
      "text/html": [
       "<table class=\"data-frame\"><thead><tr><th></th><th>sepal.length</th><th>sepal.width</th><th>petal.length</th><th>petal.width</th><th>variety</th></tr><tr><th></th><th>Float64</th><th>Float64</th><th>Float64</th><th>Float64</th><th>String</th></tr></thead><tbody><p>150 rows × 5 columns</p><tr><th>1</th><td>5.1</td><td>3.5</td><td>1.4</td><td>0.2</td><td>Setosa</td></tr><tr><th>2</th><td>4.9</td><td>3.0</td><td>1.4</td><td>0.2</td><td>Setosa</td></tr><tr><th>3</th><td>4.7</td><td>3.2</td><td>1.3</td><td>0.2</td><td>Setosa</td></tr><tr><th>4</th><td>4.6</td><td>3.1</td><td>1.5</td><td>0.2</td><td>Setosa</td></tr><tr><th>5</th><td>5.0</td><td>3.6</td><td>1.4</td><td>0.2</td><td>Setosa</td></tr><tr><th>6</th><td>5.4</td><td>3.9</td><td>1.7</td><td>0.4</td><td>Setosa</td></tr><tr><th>7</th><td>4.6</td><td>3.4</td><td>1.4</td><td>0.3</td><td>Setosa</td></tr><tr><th>8</th><td>5.0</td><td>3.4</td><td>1.5</td><td>0.2</td><td>Setosa</td></tr><tr><th>9</th><td>4.4</td><td>2.9</td><td>1.4</td><td>0.2</td><td>Setosa</td></tr><tr><th>10</th><td>4.9</td><td>3.1</td><td>1.5</td><td>0.1</td><td>Setosa</td></tr><tr><th>11</th><td>5.4</td><td>3.7</td><td>1.5</td><td>0.2</td><td>Setosa</td></tr><tr><th>12</th><td>4.8</td><td>3.4</td><td>1.6</td><td>0.2</td><td>Setosa</td></tr><tr><th>13</th><td>4.8</td><td>3.0</td><td>1.4</td><td>0.1</td><td>Setosa</td></tr><tr><th>14</th><td>4.3</td><td>3.0</td><td>1.1</td><td>0.1</td><td>Setosa</td></tr><tr><th>15</th><td>5.8</td><td>4.0</td><td>1.2</td><td>0.2</td><td>Setosa</td></tr><tr><th>16</th><td>5.7</td><td>4.4</td><td>1.5</td><td>0.4</td><td>Setosa</td></tr><tr><th>17</th><td>5.4</td><td>3.9</td><td>1.3</td><td>0.4</td><td>Setosa</td></tr><tr><th>18</th><td>5.1</td><td>3.5</td><td>1.4</td><td>0.3</td><td>Setosa</td></tr><tr><th>19</th><td>5.7</td><td>3.8</td><td>1.7</td><td>0.3</td><td>Setosa</td></tr><tr><th>20</th><td>5.1</td><td>3.8</td><td>1.5</td><td>0.3</td><td>Setosa</td></tr><tr><th>21</th><td>5.4</td><td>3.4</td><td>1.7</td><td>0.2</td><td>Setosa</td></tr><tr><th>22</th><td>5.1</td><td>3.7</td><td>1.5</td><td>0.4</td><td>Setosa</td></tr><tr><th>23</th><td>4.6</td><td>3.6</td><td>1.0</td><td>0.2</td><td>Setosa</td></tr><tr><th>24</th><td>5.1</td><td>3.3</td><td>1.7</td><td>0.5</td><td>Setosa</td></tr><tr><th>25</th><td>4.8</td><td>3.4</td><td>1.9</td><td>0.2</td><td>Setosa</td></tr><tr><th>26</th><td>5.0</td><td>3.0</td><td>1.6</td><td>0.2</td><td>Setosa</td></tr><tr><th>27</th><td>5.0</td><td>3.4</td><td>1.6</td><td>0.4</td><td>Setosa</td></tr><tr><th>28</th><td>5.2</td><td>3.5</td><td>1.5</td><td>0.2</td><td>Setosa</td></tr><tr><th>29</th><td>5.2</td><td>3.4</td><td>1.4</td><td>0.2</td><td>Setosa</td></tr><tr><th>30</th><td>4.7</td><td>3.2</td><td>1.6</td><td>0.2</td><td>Setosa</td></tr><tr><th>&vellip;</th><td>&vellip;</td><td>&vellip;</td><td>&vellip;</td><td>&vellip;</td><td>&vellip;</td></tr></tbody></table>"
      ],
      "text/latex": [
       "\\begin{tabular}{r|ccccc}\n",
       "\t& sepal.length & sepal.width & petal.length & petal.width & variety\\\\\n",
       "\t\\hline\n",
       "\t& Float64 & Float64 & Float64 & Float64 & String\\\\\n",
       "\t\\hline\n",
       "\t1 & 5.1 & 3.5 & 1.4 & 0.2 & Setosa \\\\\n",
       "\t2 & 4.9 & 3.0 & 1.4 & 0.2 & Setosa \\\\\n",
       "\t3 & 4.7 & 3.2 & 1.3 & 0.2 & Setosa \\\\\n",
       "\t4 & 4.6 & 3.1 & 1.5 & 0.2 & Setosa \\\\\n",
       "\t5 & 5.0 & 3.6 & 1.4 & 0.2 & Setosa \\\\\n",
       "\t6 & 5.4 & 3.9 & 1.7 & 0.4 & Setosa \\\\\n",
       "\t7 & 4.6 & 3.4 & 1.4 & 0.3 & Setosa \\\\\n",
       "\t8 & 5.0 & 3.4 & 1.5 & 0.2 & Setosa \\\\\n",
       "\t9 & 4.4 & 2.9 & 1.4 & 0.2 & Setosa \\\\\n",
       "\t10 & 4.9 & 3.1 & 1.5 & 0.1 & Setosa \\\\\n",
       "\t11 & 5.4 & 3.7 & 1.5 & 0.2 & Setosa \\\\\n",
       "\t12 & 4.8 & 3.4 & 1.6 & 0.2 & Setosa \\\\\n",
       "\t13 & 4.8 & 3.0 & 1.4 & 0.1 & Setosa \\\\\n",
       "\t14 & 4.3 & 3.0 & 1.1 & 0.1 & Setosa \\\\\n",
       "\t15 & 5.8 & 4.0 & 1.2 & 0.2 & Setosa \\\\\n",
       "\t16 & 5.7 & 4.4 & 1.5 & 0.4 & Setosa \\\\\n",
       "\t17 & 5.4 & 3.9 & 1.3 & 0.4 & Setosa \\\\\n",
       "\t18 & 5.1 & 3.5 & 1.4 & 0.3 & Setosa \\\\\n",
       "\t19 & 5.7 & 3.8 & 1.7 & 0.3 & Setosa \\\\\n",
       "\t20 & 5.1 & 3.8 & 1.5 & 0.3 & Setosa \\\\\n",
       "\t21 & 5.4 & 3.4 & 1.7 & 0.2 & Setosa \\\\\n",
       "\t22 & 5.1 & 3.7 & 1.5 & 0.4 & Setosa \\\\\n",
       "\t23 & 4.6 & 3.6 & 1.0 & 0.2 & Setosa \\\\\n",
       "\t24 & 5.1 & 3.3 & 1.7 & 0.5 & Setosa \\\\\n",
       "\t25 & 4.8 & 3.4 & 1.9 & 0.2 & Setosa \\\\\n",
       "\t26 & 5.0 & 3.0 & 1.6 & 0.2 & Setosa \\\\\n",
       "\t27 & 5.0 & 3.4 & 1.6 & 0.4 & Setosa \\\\\n",
       "\t28 & 5.2 & 3.5 & 1.5 & 0.2 & Setosa \\\\\n",
       "\t29 & 5.2 & 3.4 & 1.4 & 0.2 & Setosa \\\\\n",
       "\t30 & 4.7 & 3.2 & 1.6 & 0.2 & Setosa \\\\\n",
       "\t$\\dots$ & $\\dots$ & $\\dots$ & $\\dots$ & $\\dots$ & $\\dots$ \\\\\n",
       "\\end{tabular}\n"
      ],
      "text/plain": [
       "150×5 DataFrames.DataFrame\n",
       "│ Row │ sepal.length │ sepal.width │ petal.length │ petal.width │ variety   │\n",
       "│     │ \u001b[90mFloat64\u001b[39m      │ \u001b[90mFloat64\u001b[39m     │ \u001b[90mFloat64\u001b[39m      │ \u001b[90mFloat64\u001b[39m     │ \u001b[90mString\u001b[39m    │\n",
       "├─────┼──────────────┼─────────────┼──────────────┼─────────────┼───────────┤\n",
       "│ 1   │ 5.1          │ 3.5         │ 1.4          │ 0.2         │ Setosa    │\n",
       "│ 2   │ 4.9          │ 3.0         │ 1.4          │ 0.2         │ Setosa    │\n",
       "│ 3   │ 4.7          │ 3.2         │ 1.3          │ 0.2         │ Setosa    │\n",
       "│ 4   │ 4.6          │ 3.1         │ 1.5          │ 0.2         │ Setosa    │\n",
       "│ 5   │ 5.0          │ 3.6         │ 1.4          │ 0.2         │ Setosa    │\n",
       "│ 6   │ 5.4          │ 3.9         │ 1.7          │ 0.4         │ Setosa    │\n",
       "│ 7   │ 4.6          │ 3.4         │ 1.4          │ 0.3         │ Setosa    │\n",
       "│ 8   │ 5.0          │ 3.4         │ 1.5          │ 0.2         │ Setosa    │\n",
       "│ 9   │ 4.4          │ 2.9         │ 1.4          │ 0.2         │ Setosa    │\n",
       "│ 10  │ 4.9          │ 3.1         │ 1.5          │ 0.1         │ Setosa    │\n",
       "⋮\n",
       "│ 140 │ 6.9          │ 3.1         │ 5.4          │ 2.1         │ Virginica │\n",
       "│ 141 │ 6.7          │ 3.1         │ 5.6          │ 2.4         │ Virginica │\n",
       "│ 142 │ 6.9          │ 3.1         │ 5.1          │ 2.3         │ Virginica │\n",
       "│ 143 │ 5.8          │ 2.7         │ 5.1          │ 1.9         │ Virginica │\n",
       "│ 144 │ 6.8          │ 3.2         │ 5.9          │ 2.3         │ Virginica │\n",
       "│ 145 │ 6.7          │ 3.3         │ 5.7          │ 2.5         │ Virginica │\n",
       "│ 146 │ 6.7          │ 3.0         │ 5.2          │ 2.3         │ Virginica │\n",
       "│ 147 │ 6.3          │ 2.5         │ 5.0          │ 1.9         │ Virginica │\n",
       "│ 148 │ 6.5          │ 3.0         │ 5.2          │ 2.0         │ Virginica │\n",
       "│ 149 │ 6.2          │ 3.4         │ 5.4          │ 2.3         │ Virginica │\n",
       "│ 150 │ 5.9          │ 3.0         │ 5.1          │ 1.8         │ Virginica │"
      ]
     },
     "execution_count": 13,
     "metadata": {},
     "output_type": "execute_result"
    }
   ],
   "source": [
    "datos=CSV.read(\"iris.csv\")"
   ]
  },
  {
   "cell_type": "code",
   "execution_count": 32,
   "metadata": {},
   "outputs": [
    {
     "name": "stderr",
     "output_type": "stream",
     "text": [
      "\u001b[32m\u001b[1m  Resolving\u001b[22m\u001b[39m package versions...\n",
      "\u001b[32m\u001b[1m   Updating\u001b[22m\u001b[39m `~/.julia/environments/v1.4/Project.toml`\n",
      " \u001b[90m [a93c6f00]\u001b[39m\u001b[92m + DataFrames v0.20.2\u001b[39m\n",
      "\u001b[32m\u001b[1m   Updating\u001b[22m\u001b[39m `~/.julia/environments/v1.4/Manifest.toml`\n",
      "\u001b[90m [no changes]\u001b[39m\n"
     ]
    }
   ],
   "source": [
    "Pkg.add(\"DataFrames\")"
   ]
  },
  {
   "cell_type": "code",
   "execution_count": 33,
   "metadata": {},
   "outputs": [],
   "source": [
    "using DataFrames"
   ]
  },
  {
   "cell_type": "code",
   "execution_count": 34,
   "metadata": {},
   "outputs": [
    {
     "data": {
      "text/html": [
       "<table class=\"data-frame\"><thead><tr><th></th><th>sepal.length</th><th>sepal.width</th><th>petal.length</th><th>petal.width</th><th>variety</th></tr><tr><th></th><th>Float64</th><th>Float64</th><th>Float64</th><th>Float64</th><th>String</th></tr></thead><tbody><p>150 rows × 5 columns</p><tr><th>1</th><td>5.1</td><td>3.5</td><td>1.4</td><td>0.2</td><td>Setosa</td></tr><tr><th>2</th><td>4.9</td><td>3.0</td><td>1.4</td><td>0.2</td><td>Setosa</td></tr><tr><th>3</th><td>4.7</td><td>3.2</td><td>1.3</td><td>0.2</td><td>Setosa</td></tr><tr><th>4</th><td>4.6</td><td>3.1</td><td>1.5</td><td>0.2</td><td>Setosa</td></tr><tr><th>5</th><td>5.0</td><td>3.6</td><td>1.4</td><td>0.2</td><td>Setosa</td></tr><tr><th>6</th><td>5.4</td><td>3.9</td><td>1.7</td><td>0.4</td><td>Setosa</td></tr><tr><th>7</th><td>4.6</td><td>3.4</td><td>1.4</td><td>0.3</td><td>Setosa</td></tr><tr><th>8</th><td>5.0</td><td>3.4</td><td>1.5</td><td>0.2</td><td>Setosa</td></tr><tr><th>9</th><td>4.4</td><td>2.9</td><td>1.4</td><td>0.2</td><td>Setosa</td></tr><tr><th>10</th><td>4.9</td><td>3.1</td><td>1.5</td><td>0.1</td><td>Setosa</td></tr><tr><th>11</th><td>5.4</td><td>3.7</td><td>1.5</td><td>0.2</td><td>Setosa</td></tr><tr><th>12</th><td>4.8</td><td>3.4</td><td>1.6</td><td>0.2</td><td>Setosa</td></tr><tr><th>13</th><td>4.8</td><td>3.0</td><td>1.4</td><td>0.1</td><td>Setosa</td></tr><tr><th>14</th><td>4.3</td><td>3.0</td><td>1.1</td><td>0.1</td><td>Setosa</td></tr><tr><th>15</th><td>5.8</td><td>4.0</td><td>1.2</td><td>0.2</td><td>Setosa</td></tr><tr><th>16</th><td>5.7</td><td>4.4</td><td>1.5</td><td>0.4</td><td>Setosa</td></tr><tr><th>17</th><td>5.4</td><td>3.9</td><td>1.3</td><td>0.4</td><td>Setosa</td></tr><tr><th>18</th><td>5.1</td><td>3.5</td><td>1.4</td><td>0.3</td><td>Setosa</td></tr><tr><th>19</th><td>5.7</td><td>3.8</td><td>1.7</td><td>0.3</td><td>Setosa</td></tr><tr><th>20</th><td>5.1</td><td>3.8</td><td>1.5</td><td>0.3</td><td>Setosa</td></tr><tr><th>21</th><td>5.4</td><td>3.4</td><td>1.7</td><td>0.2</td><td>Setosa</td></tr><tr><th>22</th><td>5.1</td><td>3.7</td><td>1.5</td><td>0.4</td><td>Setosa</td></tr><tr><th>23</th><td>4.6</td><td>3.6</td><td>1.0</td><td>0.2</td><td>Setosa</td></tr><tr><th>24</th><td>5.1</td><td>3.3</td><td>1.7</td><td>0.5</td><td>Setosa</td></tr><tr><th>25</th><td>4.8</td><td>3.4</td><td>1.9</td><td>0.2</td><td>Setosa</td></tr><tr><th>26</th><td>5.0</td><td>3.0</td><td>1.6</td><td>0.2</td><td>Setosa</td></tr><tr><th>27</th><td>5.0</td><td>3.4</td><td>1.6</td><td>0.4</td><td>Setosa</td></tr><tr><th>28</th><td>5.2</td><td>3.5</td><td>1.5</td><td>0.2</td><td>Setosa</td></tr><tr><th>29</th><td>5.2</td><td>3.4</td><td>1.4</td><td>0.2</td><td>Setosa</td></tr><tr><th>30</th><td>4.7</td><td>3.2</td><td>1.6</td><td>0.2</td><td>Setosa</td></tr><tr><th>&vellip;</th><td>&vellip;</td><td>&vellip;</td><td>&vellip;</td><td>&vellip;</td><td>&vellip;</td></tr></tbody></table>"
      ],
      "text/latex": [
       "\\begin{tabular}{r|ccccc}\n",
       "\t& sepal.length & sepal.width & petal.length & petal.width & variety\\\\\n",
       "\t\\hline\n",
       "\t& Float64 & Float64 & Float64 & Float64 & String\\\\\n",
       "\t\\hline\n",
       "\t1 & 5.1 & 3.5 & 1.4 & 0.2 & Setosa \\\\\n",
       "\t2 & 4.9 & 3.0 & 1.4 & 0.2 & Setosa \\\\\n",
       "\t3 & 4.7 & 3.2 & 1.3 & 0.2 & Setosa \\\\\n",
       "\t4 & 4.6 & 3.1 & 1.5 & 0.2 & Setosa \\\\\n",
       "\t5 & 5.0 & 3.6 & 1.4 & 0.2 & Setosa \\\\\n",
       "\t6 & 5.4 & 3.9 & 1.7 & 0.4 & Setosa \\\\\n",
       "\t7 & 4.6 & 3.4 & 1.4 & 0.3 & Setosa \\\\\n",
       "\t8 & 5.0 & 3.4 & 1.5 & 0.2 & Setosa \\\\\n",
       "\t9 & 4.4 & 2.9 & 1.4 & 0.2 & Setosa \\\\\n",
       "\t10 & 4.9 & 3.1 & 1.5 & 0.1 & Setosa \\\\\n",
       "\t11 & 5.4 & 3.7 & 1.5 & 0.2 & Setosa \\\\\n",
       "\t12 & 4.8 & 3.4 & 1.6 & 0.2 & Setosa \\\\\n",
       "\t13 & 4.8 & 3.0 & 1.4 & 0.1 & Setosa \\\\\n",
       "\t14 & 4.3 & 3.0 & 1.1 & 0.1 & Setosa \\\\\n",
       "\t15 & 5.8 & 4.0 & 1.2 & 0.2 & Setosa \\\\\n",
       "\t16 & 5.7 & 4.4 & 1.5 & 0.4 & Setosa \\\\\n",
       "\t17 & 5.4 & 3.9 & 1.3 & 0.4 & Setosa \\\\\n",
       "\t18 & 5.1 & 3.5 & 1.4 & 0.3 & Setosa \\\\\n",
       "\t19 & 5.7 & 3.8 & 1.7 & 0.3 & Setosa \\\\\n",
       "\t20 & 5.1 & 3.8 & 1.5 & 0.3 & Setosa \\\\\n",
       "\t21 & 5.4 & 3.4 & 1.7 & 0.2 & Setosa \\\\\n",
       "\t22 & 5.1 & 3.7 & 1.5 & 0.4 & Setosa \\\\\n",
       "\t23 & 4.6 & 3.6 & 1.0 & 0.2 & Setosa \\\\\n",
       "\t24 & 5.1 & 3.3 & 1.7 & 0.5 & Setosa \\\\\n",
       "\t25 & 4.8 & 3.4 & 1.9 & 0.2 & Setosa \\\\\n",
       "\t26 & 5.0 & 3.0 & 1.6 & 0.2 & Setosa \\\\\n",
       "\t27 & 5.0 & 3.4 & 1.6 & 0.4 & Setosa \\\\\n",
       "\t28 & 5.2 & 3.5 & 1.5 & 0.2 & Setosa \\\\\n",
       "\t29 & 5.2 & 3.4 & 1.4 & 0.2 & Setosa \\\\\n",
       "\t30 & 4.7 & 3.2 & 1.6 & 0.2 & Setosa \\\\\n",
       "\t$\\dots$ & $\\dots$ & $\\dots$ & $\\dots$ & $\\dots$ & $\\dots$ \\\\\n",
       "\\end{tabular}\n"
      ],
      "text/plain": [
       "150×5 DataFrame\n",
       "│ Row │ sepal.length │ sepal.width │ petal.length │ petal.width │ variety   │\n",
       "│     │ \u001b[90mFloat64\u001b[39m      │ \u001b[90mFloat64\u001b[39m     │ \u001b[90mFloat64\u001b[39m      │ \u001b[90mFloat64\u001b[39m     │ \u001b[90mString\u001b[39m    │\n",
       "├─────┼──────────────┼─────────────┼──────────────┼─────────────┼───────────┤\n",
       "│ 1   │ 5.1          │ 3.5         │ 1.4          │ 0.2         │ Setosa    │\n",
       "│ 2   │ 4.9          │ 3.0         │ 1.4          │ 0.2         │ Setosa    │\n",
       "│ 3   │ 4.7          │ 3.2         │ 1.3          │ 0.2         │ Setosa    │\n",
       "│ 4   │ 4.6          │ 3.1         │ 1.5          │ 0.2         │ Setosa    │\n",
       "│ 5   │ 5.0          │ 3.6         │ 1.4          │ 0.2         │ Setosa    │\n",
       "│ 6   │ 5.4          │ 3.9         │ 1.7          │ 0.4         │ Setosa    │\n",
       "│ 7   │ 4.6          │ 3.4         │ 1.4          │ 0.3         │ Setosa    │\n",
       "│ 8   │ 5.0          │ 3.4         │ 1.5          │ 0.2         │ Setosa    │\n",
       "│ 9   │ 4.4          │ 2.9         │ 1.4          │ 0.2         │ Setosa    │\n",
       "│ 10  │ 4.9          │ 3.1         │ 1.5          │ 0.1         │ Setosa    │\n",
       "⋮\n",
       "│ 140 │ 6.9          │ 3.1         │ 5.4          │ 2.1         │ Virginica │\n",
       "│ 141 │ 6.7          │ 3.1         │ 5.6          │ 2.4         │ Virginica │\n",
       "│ 142 │ 6.9          │ 3.1         │ 5.1          │ 2.3         │ Virginica │\n",
       "│ 143 │ 5.8          │ 2.7         │ 5.1          │ 1.9         │ Virginica │\n",
       "│ 144 │ 6.8          │ 3.2         │ 5.9          │ 2.3         │ Virginica │\n",
       "│ 145 │ 6.7          │ 3.3         │ 5.7          │ 2.5         │ Virginica │\n",
       "│ 146 │ 6.7          │ 3.0         │ 5.2          │ 2.3         │ Virginica │\n",
       "│ 147 │ 6.3          │ 2.5         │ 5.0          │ 1.9         │ Virginica │\n",
       "│ 148 │ 6.5          │ 3.0         │ 5.2          │ 2.0         │ Virginica │\n",
       "│ 149 │ 6.2          │ 3.4         │ 5.4          │ 2.3         │ Virginica │\n",
       "│ 150 │ 5.9          │ 3.0         │ 5.1          │ 1.8         │ Virginica │"
      ]
     },
     "execution_count": 34,
     "metadata": {},
     "output_type": "execute_result"
    }
   ],
   "source": [
    "datos=DataFrame(datos)"
   ]
  },
  {
   "cell_type": "code",
   "execution_count": 35,
   "metadata": {},
   "outputs": [
    {
     "data": {
      "text/html": [
       "<table class=\"data-frame\"><thead><tr><th></th><th>sepal.length</th><th>sepal.width</th></tr><tr><th></th><th>Float64</th><th>Float64</th></tr></thead><tbody><p>150 rows × 2 columns</p><tr><th>1</th><td>5.1</td><td>3.5</td></tr><tr><th>2</th><td>4.9</td><td>3.0</td></tr><tr><th>3</th><td>4.7</td><td>3.2</td></tr><tr><th>4</th><td>4.6</td><td>3.1</td></tr><tr><th>5</th><td>5.0</td><td>3.6</td></tr><tr><th>6</th><td>5.4</td><td>3.9</td></tr><tr><th>7</th><td>4.6</td><td>3.4</td></tr><tr><th>8</th><td>5.0</td><td>3.4</td></tr><tr><th>9</th><td>4.4</td><td>2.9</td></tr><tr><th>10</th><td>4.9</td><td>3.1</td></tr><tr><th>11</th><td>5.4</td><td>3.7</td></tr><tr><th>12</th><td>4.8</td><td>3.4</td></tr><tr><th>13</th><td>4.8</td><td>3.0</td></tr><tr><th>14</th><td>4.3</td><td>3.0</td></tr><tr><th>15</th><td>5.8</td><td>4.0</td></tr><tr><th>16</th><td>5.7</td><td>4.4</td></tr><tr><th>17</th><td>5.4</td><td>3.9</td></tr><tr><th>18</th><td>5.1</td><td>3.5</td></tr><tr><th>19</th><td>5.7</td><td>3.8</td></tr><tr><th>20</th><td>5.1</td><td>3.8</td></tr><tr><th>21</th><td>5.4</td><td>3.4</td></tr><tr><th>22</th><td>5.1</td><td>3.7</td></tr><tr><th>23</th><td>4.6</td><td>3.6</td></tr><tr><th>24</th><td>5.1</td><td>3.3</td></tr><tr><th>25</th><td>4.8</td><td>3.4</td></tr><tr><th>26</th><td>5.0</td><td>3.0</td></tr><tr><th>27</th><td>5.0</td><td>3.4</td></tr><tr><th>28</th><td>5.2</td><td>3.5</td></tr><tr><th>29</th><td>5.2</td><td>3.4</td></tr><tr><th>30</th><td>4.7</td><td>3.2</td></tr><tr><th>&vellip;</th><td>&vellip;</td><td>&vellip;</td></tr></tbody></table>"
      ],
      "text/latex": [
       "\\begin{tabular}{r|cc}\n",
       "\t& sepal.length & sepal.width\\\\\n",
       "\t\\hline\n",
       "\t& Float64 & Float64\\\\\n",
       "\t\\hline\n",
       "\t1 & 5.1 & 3.5 \\\\\n",
       "\t2 & 4.9 & 3.0 \\\\\n",
       "\t3 & 4.7 & 3.2 \\\\\n",
       "\t4 & 4.6 & 3.1 \\\\\n",
       "\t5 & 5.0 & 3.6 \\\\\n",
       "\t6 & 5.4 & 3.9 \\\\\n",
       "\t7 & 4.6 & 3.4 \\\\\n",
       "\t8 & 5.0 & 3.4 \\\\\n",
       "\t9 & 4.4 & 2.9 \\\\\n",
       "\t10 & 4.9 & 3.1 \\\\\n",
       "\t11 & 5.4 & 3.7 \\\\\n",
       "\t12 & 4.8 & 3.4 \\\\\n",
       "\t13 & 4.8 & 3.0 \\\\\n",
       "\t14 & 4.3 & 3.0 \\\\\n",
       "\t15 & 5.8 & 4.0 \\\\\n",
       "\t16 & 5.7 & 4.4 \\\\\n",
       "\t17 & 5.4 & 3.9 \\\\\n",
       "\t18 & 5.1 & 3.5 \\\\\n",
       "\t19 & 5.7 & 3.8 \\\\\n",
       "\t20 & 5.1 & 3.8 \\\\\n",
       "\t21 & 5.4 & 3.4 \\\\\n",
       "\t22 & 5.1 & 3.7 \\\\\n",
       "\t23 & 4.6 & 3.6 \\\\\n",
       "\t24 & 5.1 & 3.3 \\\\\n",
       "\t25 & 4.8 & 3.4 \\\\\n",
       "\t26 & 5.0 & 3.0 \\\\\n",
       "\t27 & 5.0 & 3.4 \\\\\n",
       "\t28 & 5.2 & 3.5 \\\\\n",
       "\t29 & 5.2 & 3.4 \\\\\n",
       "\t30 & 4.7 & 3.2 \\\\\n",
       "\t$\\dots$ & $\\dots$ & $\\dots$ \\\\\n",
       "\\end{tabular}\n"
      ],
      "text/plain": [
       "150×2 DataFrame\n",
       "│ Row │ sepal.length │ sepal.width │\n",
       "│     │ \u001b[90mFloat64\u001b[39m      │ \u001b[90mFloat64\u001b[39m     │\n",
       "├─────┼──────────────┼─────────────┤\n",
       "│ 1   │ 5.1          │ 3.5         │\n",
       "│ 2   │ 4.9          │ 3.0         │\n",
       "│ 3   │ 4.7          │ 3.2         │\n",
       "│ 4   │ 4.6          │ 3.1         │\n",
       "│ 5   │ 5.0          │ 3.6         │\n",
       "│ 6   │ 5.4          │ 3.9         │\n",
       "│ 7   │ 4.6          │ 3.4         │\n",
       "│ 8   │ 5.0          │ 3.4         │\n",
       "│ 9   │ 4.4          │ 2.9         │\n",
       "│ 10  │ 4.9          │ 3.1         │\n",
       "⋮\n",
       "│ 140 │ 6.9          │ 3.1         │\n",
       "│ 141 │ 6.7          │ 3.1         │\n",
       "│ 142 │ 6.9          │ 3.1         │\n",
       "│ 143 │ 5.8          │ 2.7         │\n",
       "│ 144 │ 6.8          │ 3.2         │\n",
       "│ 145 │ 6.7          │ 3.3         │\n",
       "│ 146 │ 6.7          │ 3.0         │\n",
       "│ 147 │ 6.3          │ 2.5         │\n",
       "│ 148 │ 6.5          │ 3.0         │\n",
       "│ 149 │ 6.2          │ 3.4         │\n",
       "│ 150 │ 5.9          │ 3.0         │"
      ]
     },
     "execution_count": 35,
     "metadata": {},
     "output_type": "execute_result"
    }
   ],
   "source": [
    "datos[:,[1,2]]"
   ]
  },
  {
   "cell_type": "code",
   "execution_count": 16,
   "metadata": {},
   "outputs": [
    {
     "data": {
      "text/html": [
       "<table class=\"data-frame\"><thead><tr><th></th><th>sepal.length</th><th>sepal.width</th><th>petal.length</th><th>petal.width</th><th>variety</th></tr><tr><th></th><th>Float64</th><th>Float64</th><th>Float64</th><th>Float64</th><th>String</th></tr></thead><tbody><p>5 rows × 5 columns</p><tr><th>1</th><td>5.1</td><td>3.5</td><td>1.4</td><td>0.2</td><td>Setosa</td></tr><tr><th>2</th><td>4.9</td><td>3.0</td><td>1.4</td><td>0.2</td><td>Setosa</td></tr><tr><th>3</th><td>4.7</td><td>3.2</td><td>1.3</td><td>0.2</td><td>Setosa</td></tr><tr><th>4</th><td>4.6</td><td>3.1</td><td>1.5</td><td>0.2</td><td>Setosa</td></tr><tr><th>5</th><td>5.0</td><td>3.6</td><td>1.4</td><td>0.2</td><td>Setosa</td></tr></tbody></table>"
      ],
      "text/latex": [
       "\\begin{tabular}{r|ccccc}\n",
       "\t& sepal.length & sepal.width & petal.length & petal.width & variety\\\\\n",
       "\t\\hline\n",
       "\t& Float64 & Float64 & Float64 & Float64 & String\\\\\n",
       "\t\\hline\n",
       "\t1 & 5.1 & 3.5 & 1.4 & 0.2 & Setosa \\\\\n",
       "\t2 & 4.9 & 3.0 & 1.4 & 0.2 & Setosa \\\\\n",
       "\t3 & 4.7 & 3.2 & 1.3 & 0.2 & Setosa \\\\\n",
       "\t4 & 4.6 & 3.1 & 1.5 & 0.2 & Setosa \\\\\n",
       "\t5 & 5.0 & 3.6 & 1.4 & 0.2 & Setosa \\\\\n",
       "\\end{tabular}\n"
      ],
      "text/plain": [
       "5×5 DataFrames.DataFrame\n",
       "│ Row │ sepal.length │ sepal.width │ petal.length │ petal.width │ variety │\n",
       "│     │ \u001b[90mFloat64\u001b[39m      │ \u001b[90mFloat64\u001b[39m     │ \u001b[90mFloat64\u001b[39m      │ \u001b[90mFloat64\u001b[39m     │ \u001b[90mString\u001b[39m  │\n",
       "├─────┼──────────────┼─────────────┼──────────────┼─────────────┼─────────┤\n",
       "│ 1   │ 5.1          │ 3.5         │ 1.4          │ 0.2         │ Setosa  │\n",
       "│ 2   │ 4.9          │ 3.0         │ 1.4          │ 0.2         │ Setosa  │\n",
       "│ 3   │ 4.7          │ 3.2         │ 1.3          │ 0.2         │ Setosa  │\n",
       "│ 4   │ 4.6          │ 3.1         │ 1.5          │ 0.2         │ Setosa  │\n",
       "│ 5   │ 5.0          │ 3.6         │ 1.4          │ 0.2         │ Setosa  │"
      ]
     },
     "execution_count": 16,
     "metadata": {},
     "output_type": "execute_result"
    }
   ],
   "source": [
    "first(datos,5)"
   ]
  },
  {
   "cell_type": "code",
   "execution_count": 17,
   "metadata": {},
   "outputs": [
    {
     "data": {
      "text/html": [
       "<table class=\"data-frame\"><thead><tr><th></th><th>sepal.length</th><th>sepal.width</th><th>petal.length</th><th>petal.width</th><th>variety</th></tr><tr><th></th><th>Float64</th><th>Float64</th><th>Float64</th><th>Float64</th><th>String</th></tr></thead><tbody><p>5 rows × 5 columns</p><tr><th>1</th><td>6.7</td><td>3.0</td><td>5.2</td><td>2.3</td><td>Virginica</td></tr><tr><th>2</th><td>6.3</td><td>2.5</td><td>5.0</td><td>1.9</td><td>Virginica</td></tr><tr><th>3</th><td>6.5</td><td>3.0</td><td>5.2</td><td>2.0</td><td>Virginica</td></tr><tr><th>4</th><td>6.2</td><td>3.4</td><td>5.4</td><td>2.3</td><td>Virginica</td></tr><tr><th>5</th><td>5.9</td><td>3.0</td><td>5.1</td><td>1.8</td><td>Virginica</td></tr></tbody></table>"
      ],
      "text/latex": [
       "\\begin{tabular}{r|ccccc}\n",
       "\t& sepal.length & sepal.width & petal.length & petal.width & variety\\\\\n",
       "\t\\hline\n",
       "\t& Float64 & Float64 & Float64 & Float64 & String\\\\\n",
       "\t\\hline\n",
       "\t1 & 6.7 & 3.0 & 5.2 & 2.3 & Virginica \\\\\n",
       "\t2 & 6.3 & 2.5 & 5.0 & 1.9 & Virginica \\\\\n",
       "\t3 & 6.5 & 3.0 & 5.2 & 2.0 & Virginica \\\\\n",
       "\t4 & 6.2 & 3.4 & 5.4 & 2.3 & Virginica \\\\\n",
       "\t5 & 5.9 & 3.0 & 5.1 & 1.8 & Virginica \\\\\n",
       "\\end{tabular}\n"
      ],
      "text/plain": [
       "5×5 DataFrames.DataFrame\n",
       "│ Row │ sepal.length │ sepal.width │ petal.length │ petal.width │ variety   │\n",
       "│     │ \u001b[90mFloat64\u001b[39m      │ \u001b[90mFloat64\u001b[39m     │ \u001b[90mFloat64\u001b[39m      │ \u001b[90mFloat64\u001b[39m     │ \u001b[90mString\u001b[39m    │\n",
       "├─────┼──────────────┼─────────────┼──────────────┼─────────────┼───────────┤\n",
       "│ 1   │ 6.7          │ 3.0         │ 5.2          │ 2.3         │ Virginica │\n",
       "│ 2   │ 6.3          │ 2.5         │ 5.0          │ 1.9         │ Virginica │\n",
       "│ 3   │ 6.5          │ 3.0         │ 5.2          │ 2.0         │ Virginica │\n",
       "│ 4   │ 6.2          │ 3.4         │ 5.4          │ 2.3         │ Virginica │\n",
       "│ 5   │ 5.9          │ 3.0         │ 5.1          │ 1.8         │ Virginica │"
      ]
     },
     "execution_count": 17,
     "metadata": {},
     "output_type": "execute_result"
    }
   ],
   "source": [
    "last(datos,5)"
   ]
  },
  {
   "cell_type": "code",
   "execution_count": 21,
   "metadata": {},
   "outputs": [
    {
     "data": {
      "text/plain": [
       "3.5"
      ]
     },
     "execution_count": 21,
     "metadata": {},
     "output_type": "execute_result"
    }
   ],
   "source": [
    "datos[1,2]"
   ]
  },
  {
   "cell_type": "code",
   "execution_count": 45,
   "metadata": {},
   "outputs": [
    {
     "data": {
      "text/html": [
       "<table class=\"data-frame\"><thead><tr><th></th><th>variable</th><th>mean</th><th>min</th><th>median</th><th>max</th><th>nunique</th><th>nmissing</th><th>eltype</th></tr><tr><th></th><th>Symbol</th><th>Union…</th><th>Any</th><th>Union…</th><th>Any</th><th>Union…</th><th>Nothing</th><th>DataType</th></tr></thead><tbody><p>5 rows × 8 columns</p><tr><th>1</th><td>sepal.length</td><td>5.84333</td><td>4.3</td><td>5.8</td><td>7.9</td><td></td><td></td><td>Float64</td></tr><tr><th>2</th><td>sepal.width</td><td>3.05733</td><td>2.0</td><td>3.0</td><td>4.4</td><td></td><td></td><td>Float64</td></tr><tr><th>3</th><td>petal.length</td><td>3.758</td><td>1.0</td><td>4.35</td><td>6.9</td><td></td><td></td><td>Float64</td></tr><tr><th>4</th><td>petal.width</td><td>1.19933</td><td>0.1</td><td>1.3</td><td>2.5</td><td></td><td></td><td>Float64</td></tr><tr><th>5</th><td>variety</td><td></td><td>Setosa</td><td></td><td>Virginica</td><td>3</td><td></td><td>String</td></tr></tbody></table>"
      ],
      "text/latex": [
       "\\begin{tabular}{r|cccccccc}\n",
       "\t& variable & mean & min & median & max & nunique & nmissing & eltype\\\\\n",
       "\t\\hline\n",
       "\t& Symbol & Union… & Any & Union… & Any & Union… & Nothing & DataType\\\\\n",
       "\t\\hline\n",
       "\t1 & sepal.length & 5.84333 & 4.3 & 5.8 & 7.9 &  &  & Float64 \\\\\n",
       "\t2 & sepal.width & 3.05733 & 2.0 & 3.0 & 4.4 &  &  & Float64 \\\\\n",
       "\t3 & petal.length & 3.758 & 1.0 & 4.35 & 6.9 &  &  & Float64 \\\\\n",
       "\t4 & petal.width & 1.19933 & 0.1 & 1.3 & 2.5 &  &  & Float64 \\\\\n",
       "\t5 & variety &  & Setosa &  & Virginica & 3 &  & String \\\\\n",
       "\\end{tabular}\n"
      ],
      "text/plain": [
       "5×8 DataFrame. Omitted printing of 2 columns\n",
       "│ Row │ variable     │ mean    │ min    │ median │ max       │ nunique │\n",
       "│     │ \u001b[90mSymbol\u001b[39m       │ \u001b[90mUnion…\u001b[39m  │ \u001b[90mAny\u001b[39m    │ \u001b[90mUnion…\u001b[39m │ \u001b[90mAny\u001b[39m       │ \u001b[90mUnion…\u001b[39m  │\n",
       "├─────┼──────────────┼─────────┼────────┼────────┼───────────┼─────────┤\n",
       "│ 1   │ sepal.length │ 5.84333 │ 4.3    │ 5.8    │ 7.9       │         │\n",
       "│ 2   │ sepal.width  │ 3.05733 │ 2.0    │ 3.0    │ 4.4       │         │\n",
       "│ 3   │ petal.length │ 3.758   │ 1.0    │ 4.35   │ 6.9       │         │\n",
       "│ 4   │ petal.width  │ 1.19933 │ 0.1    │ 1.3    │ 2.5       │         │\n",
       "│ 5   │ variety      │         │ Setosa │        │ Virginica │ 3       │"
      ]
     },
     "execution_count": 45,
     "metadata": {},
     "output_type": "execute_result"
    }
   ],
   "source": [
    "describe(datos)"
   ]
  },
  {
   "cell_type": "code",
   "execution_count": 64,
   "metadata": {},
   "outputs": [
    {
     "data": {
      "text/html": [
       "<table class=\"data-frame\"><thead><tr><th></th><th>sepal.length</th><th>sepal.width</th><th>petal.length</th><th>petal.width</th><th>variety</th></tr><tr><th></th><th>Float64</th><th>Float64</th><th>Float64</th><th>Float64</th><th>String</th></tr></thead><tbody><p>5 rows × 5 columns</p><tr><th>1</th><td>4.3</td><td>3.0</td><td>1.1</td><td>0.1</td><td>Setosa</td></tr><tr><th>2</th><td>4.4</td><td>2.9</td><td>1.4</td><td>0.2</td><td>Setosa</td></tr><tr><th>3</th><td>4.4</td><td>3.0</td><td>1.3</td><td>0.2</td><td>Setosa</td></tr><tr><th>4</th><td>4.4</td><td>3.2</td><td>1.3</td><td>0.2</td><td>Setosa</td></tr><tr><th>5</th><td>4.5</td><td>2.3</td><td>1.3</td><td>0.3</td><td>Setosa</td></tr></tbody></table>"
      ],
      "text/latex": [
       "\\begin{tabular}{r|ccccc}\n",
       "\t& sepal.length & sepal.width & petal.length & petal.width & variety\\\\\n",
       "\t\\hline\n",
       "\t& Float64 & Float64 & Float64 & Float64 & String\\\\\n",
       "\t\\hline\n",
       "\t1 & 4.3 & 3.0 & 1.1 & 0.1 & Setosa \\\\\n",
       "\t2 & 4.4 & 2.9 & 1.4 & 0.2 & Setosa \\\\\n",
       "\t3 & 4.4 & 3.0 & 1.3 & 0.2 & Setosa \\\\\n",
       "\t4 & 4.4 & 3.2 & 1.3 & 0.2 & Setosa \\\\\n",
       "\t5 & 4.5 & 2.3 & 1.3 & 0.3 & Setosa \\\\\n",
       "\\end{tabular}\n"
      ],
      "text/plain": [
       "5×5 DataFrame\n",
       "│ Row │ sepal.length │ sepal.width │ petal.length │ petal.width │ variety │\n",
       "│     │ \u001b[90mFloat64\u001b[39m      │ \u001b[90mFloat64\u001b[39m     │ \u001b[90mFloat64\u001b[39m      │ \u001b[90mFloat64\u001b[39m     │ \u001b[90mString\u001b[39m  │\n",
       "├─────┼──────────────┼─────────────┼──────────────┼─────────────┼─────────┤\n",
       "│ 1   │ 4.3          │ 3.0         │ 1.1          │ 0.1         │ Setosa  │\n",
       "│ 2   │ 4.4          │ 2.9         │ 1.4          │ 0.2         │ Setosa  │\n",
       "│ 3   │ 4.4          │ 3.0         │ 1.3          │ 0.2         │ Setosa  │\n",
       "│ 4   │ 4.4          │ 3.2         │ 1.3          │ 0.2         │ Setosa  │\n",
       "│ 5   │ 4.5          │ 2.3         │ 1.3          │ 0.3         │ Setosa  │"
      ]
     },
     "execution_count": 64,
     "metadata": {},
     "output_type": "execute_result"
    }
   ],
   "source": [
    "sort!(datos);first(datos,5) # ordenar"
   ]
  },
  {
   "cell_type": "code",
   "execution_count": 66,
   "metadata": {},
   "outputs": [
    {
     "data": {
      "text/plain": [
       "3-element Array{String,1}:\n",
       " \"Setosa\"\n",
       " \"Versicolor\"\n",
       " \"Virginica\""
      ]
     },
     "execution_count": 66,
     "metadata": {},
     "output_type": "execute_result"
    }
   ],
   "source": [
    "levels(datos.variety)"
   ]
  },
  {
   "cell_type": "code",
   "execution_count": 70,
   "metadata": {},
   "outputs": [
    {
     "data": {
      "text/plain": [
       "150-element PooledArrays.PooledArray{String,UInt32,1,Array{UInt32,1}}:\n",
       " \"Setosa\"\n",
       " \"Setosa\"\n",
       " \"Setosa\"\n",
       " \"Setosa\"\n",
       " \"Setosa\"\n",
       " \"Setosa\"\n",
       " \"Setosa\"\n",
       " \"Setosa\"\n",
       " \"Setosa\"\n",
       " \"Setosa\"\n",
       " \"Setosa\"\n",
       " \"Setosa\"\n",
       " \"Setosa\"\n",
       " ⋮\n",
       " \"Virginica\"\n",
       " \"Virginica\"\n",
       " \"Virginica\"\n",
       " \"Virginica\"\n",
       " \"Virginica\"\n",
       " \"Virginica\"\n",
       " \"Virginica\"\n",
       " \"Virginica\"\n",
       " \"Virginica\"\n",
       " \"Virginica\"\n",
       " \"Virginica\"\n",
       " \"Virginica\""
      ]
     },
     "execution_count": 70,
     "metadata": {},
     "output_type": "execute_result"
    }
   ],
   "source": [
    "repeat(datos.variety)"
   ]
  },
  {
   "cell_type": "code",
   "execution_count": 91,
   "metadata": {},
   "outputs": [
    {
     "data": {
      "text/html": [
       "<table class=\"data-frame\"><thead><tr><th></th><th>variety</th><th>total</th></tr><tr><th></th><th>String</th><th>Int64</th></tr></thead><tbody><p>3 rows × 2 columns</p><tr><th>1</th><td>Setosa</td><td>50</td></tr><tr><th>2</th><td>Versicolor</td><td>50</td></tr><tr><th>3</th><td>Virginica</td><td>50</td></tr></tbody></table>"
      ],
      "text/latex": [
       "\\begin{tabular}{r|cc}\n",
       "\t& variety & total\\\\\n",
       "\t\\hline\n",
       "\t& String & Int64\\\\\n",
       "\t\\hline\n",
       "\t1 & Setosa & 50 \\\\\n",
       "\t2 & Versicolor & 50 \\\\\n",
       "\t3 & Virginica & 50 \\\\\n",
       "\\end{tabular}\n"
      ],
      "text/plain": [
       "3×2 DataFrame\n",
       "│ Row │ variety    │ total │\n",
       "│     │ \u001b[90mString\u001b[39m     │ \u001b[90mInt64\u001b[39m │\n",
       "├─────┼────────────┼───────┤\n",
       "│ 1   │ Setosa     │ 50    │\n",
       "│ 2   │ Versicolor │ 50    │\n",
       "│ 3   │ Virginica  │ 50    │"
      ]
     },
     "execution_count": 91,
     "metadata": {},
     "output_type": "execute_result"
    }
   ],
   "source": [
    "by(datos, :variety, total = :variety => length)\n",
    "#by(datos, :variety, total = :variety => length,media=:petal=>mean)\n"
   ]
  },
  {
   "cell_type": "code",
   "execution_count": 92,
   "metadata": {},
   "outputs": [
    {
     "data": {
      "text/plain": [
       "5-element Array{Symbol,1}:\n",
       " Symbol(\"sepal.length\")\n",
       " Symbol(\"sepal.width\")\n",
       " Symbol(\"petal.length\")\n",
       " Symbol(\"petal.width\")\n",
       " :variety"
      ]
     },
     "execution_count": 92,
     "metadata": {},
     "output_type": "execute_result"
    }
   ],
   "source": [
    "names(datos)"
   ]
  },
  {
   "cell_type": "code",
   "execution_count": 101,
   "metadata": {},
   "outputs": [
    {
     "data": {
      "text/html": [
       "<table class=\"data-frame\"><thead><tr><th></th><th>i</th><th>x</th><th>y</th></tr><tr><th></th><th>Int64</th><th>Float64</th><th>String</th></tr></thead><tbody><p>10 rows × 3 columns</p><tr><th>1</th><td>1</td><td>0.135475</td><td>c</td></tr><tr><th>2</th><td>2</td><td>0.105712</td><td>c</td></tr><tr><th>3</th><td>3</td><td>0.75818</td><td>b</td></tr><tr><th>4</th><td>4</td><td>0.451347</td><td>c</td></tr><tr><th>5</th><td>5</td><td>0.359701</td><td>c</td></tr><tr><th>6</th><td>6</td><td>0.537733</td><td>c</td></tr><tr><th>7</th><td>7</td><td>0.652106</td><td>b</td></tr><tr><th>8</th><td>8</td><td>0.166472</td><td>c</td></tr><tr><th>9</th><td>9</td><td>0.08523</td><td>a</td></tr><tr><th>10</th><td>10</td><td>0.833048</td><td>c</td></tr></tbody></table>"
      ],
      "text/latex": [
       "\\begin{tabular}{r|ccc}\n",
       "\t& i & x & y\\\\\n",
       "\t\\hline\n",
       "\t& Int64 & Float64 & String\\\\\n",
       "\t\\hline\n",
       "\t1 & 1 & 0.135475 & c \\\\\n",
       "\t2 & 2 & 0.105712 & c \\\\\n",
       "\t3 & 3 & 0.75818 & b \\\\\n",
       "\t4 & 4 & 0.451347 & c \\\\\n",
       "\t5 & 5 & 0.359701 & c \\\\\n",
       "\t6 & 6 & 0.537733 & c \\\\\n",
       "\t7 & 7 & 0.652106 & b \\\\\n",
       "\t8 & 8 & 0.166472 & c \\\\\n",
       "\t9 & 9 & 0.08523 & a \\\\\n",
       "\t10 & 10 & 0.833048 & c \\\\\n",
       "\\end{tabular}\n"
      ],
      "text/plain": [
       "10×3 DataFrame\n",
       "│ Row │ i     │ x        │ y      │\n",
       "│     │ \u001b[90mInt64\u001b[39m │ \u001b[90mFloat64\u001b[39m  │ \u001b[90mString\u001b[39m │\n",
       "├─────┼───────┼──────────┼────────┤\n",
       "│ 1   │ 1     │ 0.135475 │ c      │\n",
       "│ 2   │ 2     │ 0.105712 │ c      │\n",
       "│ 3   │ 3     │ 0.75818  │ b      │\n",
       "│ 4   │ 4     │ 0.451347 │ c      │\n",
       "│ 5   │ 5     │ 0.359701 │ c      │\n",
       "│ 6   │ 6     │ 0.537733 │ c      │\n",
       "│ 7   │ 7     │ 0.652106 │ b      │\n",
       "│ 8   │ 8     │ 0.166472 │ c      │\n",
       "│ 9   │ 9     │ 0.08523  │ a      │\n",
       "│ 10  │ 10    │ 0.833048 │ c      │"
      ]
     },
     "execution_count": 101,
     "metadata": {},
     "output_type": "execute_result"
    }
   ],
   "source": [
    "df = DataFrame(i = 1:10, x = rand(10), y = rand([\"a\", \"b\", \"c\"], 10))"
   ]
  },
  {
   "cell_type": "code",
   "execution_count": 103,
   "metadata": {},
   "outputs": [
    {
     "data": {
      "text/html": [
       "<table class=\"data-frame\"><thead><tr><th></th><th>A</th><th>X</th><th>y</th></tr><tr><th></th><th>Int64</th><th>Float64</th><th>String</th></tr></thead><tbody><p>10 rows × 3 columns</p><tr><th>1</th><td>1</td><td>0.135475</td><td>c</td></tr><tr><th>2</th><td>2</td><td>0.105712</td><td>c</td></tr><tr><th>3</th><td>3</td><td>0.75818</td><td>b</td></tr><tr><th>4</th><td>4</td><td>0.451347</td><td>c</td></tr><tr><th>5</th><td>5</td><td>0.359701</td><td>c</td></tr><tr><th>6</th><td>6</td><td>0.537733</td><td>c</td></tr><tr><th>7</th><td>7</td><td>0.652106</td><td>b</td></tr><tr><th>8</th><td>8</td><td>0.166472</td><td>c</td></tr><tr><th>9</th><td>9</td><td>0.08523</td><td>a</td></tr><tr><th>10</th><td>10</td><td>0.833048</td><td>c</td></tr></tbody></table>"
      ],
      "text/latex": [
       "\\begin{tabular}{r|ccc}\n",
       "\t& A & X & y\\\\\n",
       "\t\\hline\n",
       "\t& Int64 & Float64 & String\\\\\n",
       "\t\\hline\n",
       "\t1 & 1 & 0.135475 & c \\\\\n",
       "\t2 & 2 & 0.105712 & c \\\\\n",
       "\t3 & 3 & 0.75818 & b \\\\\n",
       "\t4 & 4 & 0.451347 & c \\\\\n",
       "\t5 & 5 & 0.359701 & c \\\\\n",
       "\t6 & 6 & 0.537733 & c \\\\\n",
       "\t7 & 7 & 0.652106 & b \\\\\n",
       "\t8 & 8 & 0.166472 & c \\\\\n",
       "\t9 & 9 & 0.08523 & a \\\\\n",
       "\t10 & 10 & 0.833048 & c \\\\\n",
       "\\end{tabular}\n"
      ],
      "text/plain": [
       "10×3 DataFrame\n",
       "│ Row │ A     │ X        │ y      │\n",
       "│     │ \u001b[90mInt64\u001b[39m │ \u001b[90mFloat64\u001b[39m  │ \u001b[90mString\u001b[39m │\n",
       "├─────┼───────┼──────────┼────────┤\n",
       "│ 1   │ 1     │ 0.135475 │ c      │\n",
       "│ 2   │ 2     │ 0.105712 │ c      │\n",
       "│ 3   │ 3     │ 0.75818  │ b      │\n",
       "│ 4   │ 4     │ 0.451347 │ c      │\n",
       "│ 5   │ 5     │ 0.359701 │ c      │\n",
       "│ 6   │ 6     │ 0.537733 │ c      │\n",
       "│ 7   │ 7     │ 0.652106 │ b      │\n",
       "│ 8   │ 8     │ 0.166472 │ c      │\n",
       "│ 9   │ 9     │ 0.08523  │ a      │\n",
       "│ 10  │ 10    │ 0.833048 │ c      │"
      ]
     },
     "execution_count": 103,
     "metadata": {},
     "output_type": "execute_result"
    }
   ],
   "source": [
    "rename!(df, Dict(:i =>:A, :x => :X))"
   ]
  },
  {
   "cell_type": "markdown",
   "metadata": {},
   "source": [
    "## Machine Learning"
   ]
  },
  {
   "cell_type": "code",
   "execution_count": 138,
   "metadata": {},
   "outputs": [],
   "source": [
    "x=convert(Array,datos[:,[1,2]]);\n",
    "y=convert(Array,datos[:,3]);"
   ]
  },
  {
   "cell_type": "code",
   "execution_count": 119,
   "metadata": {},
   "outputs": [
    {
     "data": {
      "text/plain": [
       "PyObject <class 'sklearn.linear_model._base.LinearRegression'>"
      ]
     },
     "execution_count": 119,
     "metadata": {},
     "output_type": "execute_result"
    }
   ],
   "source": [
    "@sk_import linear_model: LinearRegression"
   ]
  },
  {
   "cell_type": "code",
   "execution_count": 129,
   "metadata": {},
   "outputs": [
    {
     "data": {
      "text/plain": [
       "PyObject LinearRegression(copy_X=True, fit_intercept=True, n_jobs=None, normalize=False)"
      ]
     },
     "execution_count": 129,
     "metadata": {},
     "output_type": "execute_result"
    }
   ],
   "source": [
    "reg=LinearRegression()"
   ]
  },
  {
   "cell_type": "code",
   "execution_count": 139,
   "metadata": {},
   "outputs": [
    {
     "data": {
      "text/plain": [
       "PyObject LinearRegression(copy_X=True, fit_intercept=True, n_jobs=None, normalize=False)"
      ]
     },
     "execution_count": 139,
     "metadata": {},
     "output_type": "execute_result"
    }
   ],
   "source": [
    "fit!(reg,x,y)"
   ]
  },
  {
   "cell_type": "code",
   "execution_count": 150,
   "metadata": {},
   "outputs": [
    {
     "data": {
      "text/plain": [
       "150-element Array{Float64,1}:\n",
       " 1.0944165718184897\n",
       " 1.4058381553405037\n",
       " 1.2719758264666043\n",
       " 1.0042511687188065\n",
       " 2.3865713832320092\n",
       " 1.4932320068889298\n",
       " 1.3593696780150304\n",
       " 1.0916450202672334\n",
       " 0.8239203625194356\n",
       " 1.536928932663145\n",
       " 1.536928932663145\n",
       " 1.9822128450590557\n",
       " 1.9822128450590557\n",
       " ⋮\n",
       " 6.066075701965655\n",
       " 6.243634956613768\n",
       " 5.975910298865971\n",
       " 5.440460983370375\n",
       " 6.55505654013578\n",
       " 6.866478123657794\n",
       " 6.953871975206219\n",
       " 7.66688054534993\n",
       " 7.399155887602133\n",
       " 7.131431229854334\n",
       " 6.060532598863142\n",
       " 6.415651108159368"
      ]
     },
     "execution_count": 150,
     "metadata": {},
     "output_type": "execute_result"
    }
   ],
   "source": [
    "predict(reg,x)"
   ]
  },
  {
   "cell_type": "code",
   "execution_count": 145,
   "metadata": {},
   "outputs": [
    {
     "data": {
      "text/plain": [
       "-2.5247615118334026"
      ]
     },
     "execution_count": 145,
     "metadata": {},
     "output_type": "execute_result"
    }
   ],
   "source": [
    "reg.intercept_"
   ]
  },
  {
   "cell_type": "code",
   "execution_count": 146,
   "metadata": {},
   "outputs": [
    {
     "data": {
      "text/plain": [
       "2-element Array{Float64,1}:\n",
       "  1.7755925464811302\n",
       " -1.3386232887389888"
      ]
     },
     "execution_count": 146,
     "metadata": {},
     "output_type": "execute_result"
    }
   ],
   "source": [
    "reg.coef_"
   ]
  },
  {
   "cell_type": "code",
   "execution_count": null,
   "metadata": {},
   "outputs": [],
   "source": []
  }
 ],
 "metadata": {
  "kernelspec": {
   "display_name": "Julia 1.4.0",
   "language": "julia",
   "name": "julia-1.4"
  },
  "language_info": {
   "file_extension": ".jl",
   "mimetype": "application/julia",
   "name": "julia",
   "version": "1.4.0"
  }
 },
 "nbformat": 4,
 "nbformat_minor": 2
}
