{
 "cells": [
  {
   "cell_type": "code",
   "execution_count": 1,
   "metadata": {},
   "outputs": [],
   "source": [
    "using Pkg"
   ]
  },
  {
   "cell_type": "code",
   "execution_count": 3,
   "metadata": {},
   "outputs": [
    {
     "name": "stderr",
     "output_type": "stream",
     "text": [
      "\u001b[32m\u001b[1m  Resolving\u001b[22m\u001b[39m package versions...\n",
      "\u001b[32m\u001b[1m   Updating\u001b[22m\u001b[39m `~/.julia/environments/v1.4/Project.toml`\n",
      "\u001b[90m [no changes]\u001b[39m\n",
      "\u001b[32m\u001b[1m   Updating\u001b[22m\u001b[39m `~/.julia/environments/v1.4/Manifest.toml`\n",
      "\u001b[90m [no changes]\u001b[39m\n"
     ]
    }
   ],
   "source": [
    "Pkg.add(\"StatsKit\");"
   ]
  },
  {
   "cell_type": "code",
   "execution_count": 4,
   "metadata": {},
   "outputs": [
    {
     "name": "stderr",
     "output_type": "stream",
     "text": [
      "┌ Info: Precompiling StatsKit [2cb19f9e-ec4d-5c53-8573-a4542a68d3f0]\n",
      "└ @ Base loading.jl:1260\n"
     ]
    }
   ],
   "source": [
    "using StatsKit"
   ]
  },
  {
   "cell_type": "code",
   "execution_count": 6,
   "metadata": {},
   "outputs": [
    {
     "data": {
      "text/html": [
       "<table class=\"data-frame\"><thead><tr><th></th><th>SUBJETE</th><th>PERIODE</th><th>SUDOKU</th><th>DIFICULTAT</th><th>CONTESTATS</th><th>CORRECTES</th><th>ERRORS</th></tr><tr><th></th><th>String</th><th>Int64</th><th>Int64</th><th>String</th><th>Int64</th><th>Int64</th><th>Int64</th></tr></thead><tbody><p>4 rows × 7 columns</p><tr><th>1</th><td>A</td><td>1</td><td>4</td><td>D</td><td>11</td><td>11</td><td>0</td></tr><tr><th>2</th><td>A</td><td>2</td><td>3</td><td>F</td><td>45</td><td>45</td><td>0</td></tr><tr><th>3</th><td>A</td><td>3</td><td>2</td><td>D</td><td>16</td><td>15</td><td>1</td></tr><tr><th>4</th><td>B</td><td>1</td><td>1</td><td>F</td><td>45</td><td>45</td><td>0</td></tr></tbody></table>"
      ],
      "text/latex": [
       "\\begin{tabular}{r|ccccccc}\n",
       "\t& SUBJETE & PERIODE & SUDOKU & DIFICULTAT & CONTESTATS & CORRECTES & ERRORS\\\\\n",
       "\t\\hline\n",
       "\t& String & Int64 & Int64 & String & Int64 & Int64 & Int64\\\\\n",
       "\t\\hline\n",
       "\t1 & A & 1 & 4 & D & 11 & 11 & 0 \\\\\n",
       "\t2 & A & 2 & 3 & F & 45 & 45 & 0 \\\\\n",
       "\t3 & A & 3 & 2 & D & 16 & 15 & 1 \\\\\n",
       "\t4 & B & 1 & 1 & F & 45 & 45 & 0 \\\\\n",
       "\\end{tabular}\n"
      ],
      "text/plain": [
       "4×7 DataFrame. Omitted printing of 1 columns\n",
       "│ Row │ SUBJETE │ PERIODE │ SUDOKU │ DIFICULTAT │ CONTESTATS │ CORRECTES │\n",
       "│     │ \u001b[90mString\u001b[39m  │ \u001b[90mInt64\u001b[39m   │ \u001b[90mInt64\u001b[39m  │ \u001b[90mString\u001b[39m     │ \u001b[90mInt64\u001b[39m      │ \u001b[90mInt64\u001b[39m     │\n",
       "├─────┼─────────┼─────────┼────────┼────────────┼────────────┼───────────┤\n",
       "│ 1   │ A       │ 1       │ 4      │ D          │ 11         │ 11        │\n",
       "│ 2   │ A       │ 2       │ 3      │ F          │ 45         │ 45        │\n",
       "│ 3   │ A       │ 3       │ 2      │ D          │ 16         │ 15        │\n",
       "│ 4   │ B       │ 1       │ 1      │ F          │ 45         │ 45        │"
      ]
     },
     "execution_count": 6,
     "metadata": {},
     "output_type": "execute_result"
    }
   ],
   "source": [
    "datos=CSV.read(\"data.csv\") ; first(datos,4)"
   ]
  },
  {
   "cell_type": "code",
   "execution_count": 8,
   "metadata": {},
   "outputs": [
    {
     "data": {
      "text/html": [
       "<table class=\"data-frame\"><thead><tr><th></th><th>variable</th><th>mean</th><th>min</th><th>median</th><th>max</th><th>nunique</th><th>nmissing</th><th>eltype</th></tr><tr><th></th><th>Symbol</th><th>Union…</th><th>Any</th><th>Union…</th><th>Any</th><th>Union…</th><th>Nothing</th><th>DataType</th></tr></thead><tbody><p>7 rows × 8 columns</p><tr><th>1</th><td>SUBJETE</td><td></td><td>A</td><td></td><td>J</td><td>10</td><td></td><td>String</td></tr><tr><th>2</th><td>PERIODE</td><td>2.0</td><td>1</td><td>2.0</td><td>3</td><td></td><td></td><td>Int64</td></tr><tr><th>3</th><td>SUDOKU</td><td>4.6</td><td>1</td><td>4.5</td><td>8</td><td></td><td></td><td>Int64</td></tr><tr><th>4</th><td>DIFICULTAT</td><td></td><td>D</td><td></td><td>F</td><td>2</td><td></td><td>String</td></tr><tr><th>5</th><td>CONTESTATS</td><td>22.6333</td><td>2</td><td>16.0</td><td>45</td><td></td><td></td><td>Int64</td></tr><tr><th>6</th><td>CORRECTES</td><td>21.2</td><td>2</td><td>11.5</td><td>45</td><td></td><td></td><td>Int64</td></tr><tr><th>7</th><td>ERRORS</td><td>1.43333</td><td>0</td><td>0.0</td><td>17</td><td></td><td></td><td>Int64</td></tr></tbody></table>"
      ],
      "text/latex": [
       "\\begin{tabular}{r|cccccccc}\n",
       "\t& variable & mean & min & median & max & nunique & nmissing & eltype\\\\\n",
       "\t\\hline\n",
       "\t& Symbol & Union… & Any & Union… & Any & Union… & Nothing & DataType\\\\\n",
       "\t\\hline\n",
       "\t1 & SUBJETE &  & A &  & J & 10 &  & String \\\\\n",
       "\t2 & PERIODE & 2.0 & 1 & 2.0 & 3 &  &  & Int64 \\\\\n",
       "\t3 & SUDOKU & 4.6 & 1 & 4.5 & 8 &  &  & Int64 \\\\\n",
       "\t4 & DIFICULTAT &  & D &  & F & 2 &  & String \\\\\n",
       "\t5 & CONTESTATS & 22.6333 & 2 & 16.0 & 45 &  &  & Int64 \\\\\n",
       "\t6 & CORRECTES & 21.2 & 2 & 11.5 & 45 &  &  & Int64 \\\\\n",
       "\t7 & ERRORS & 1.43333 & 0 & 0.0 & 17 &  &  & Int64 \\\\\n",
       "\\end{tabular}\n"
      ],
      "text/plain": [
       "7×8 DataFrame. Omitted printing of 1 columns\n",
       "│ Row │ variable   │ mean    │ min │ median │ max │ nunique │ nmissing │\n",
       "│     │ \u001b[90mSymbol\u001b[39m     │ \u001b[90mUnion…\u001b[39m  │ \u001b[90mAny\u001b[39m │ \u001b[90mUnion…\u001b[39m │ \u001b[90mAny\u001b[39m │ \u001b[90mUnion…\u001b[39m  │ \u001b[90mNothing\u001b[39m  │\n",
       "├─────┼────────────┼─────────┼─────┼────────┼─────┼─────────┼──────────┤\n",
       "│ 1   │ SUBJETE    │         │ A   │        │ J   │ 10      │          │\n",
       "│ 2   │ PERIODE    │ 2.0     │ 1   │ 2.0    │ 3   │         │          │\n",
       "│ 3   │ SUDOKU     │ 4.6     │ 1   │ 4.5    │ 8   │         │          │\n",
       "│ 4   │ DIFICULTAT │         │ D   │        │ F   │ 2       │          │\n",
       "│ 5   │ CONTESTATS │ 22.6333 │ 2   │ 16.0   │ 45  │         │          │\n",
       "│ 6   │ CORRECTES  │ 21.2    │ 2   │ 11.5   │ 45  │         │          │\n",
       "│ 7   │ ERRORS     │ 1.43333 │ 0   │ 0.0    │ 17  │         │          │"
      ]
     },
     "execution_count": 8,
     "metadata": {},
     "output_type": "execute_result"
    },
    {
     "name": "stderr",
     "output_type": "stream",
     "text": [
      "WARNING: both StatsBase and Distances export \"meanad\"; uses of it in module StatsKit must be qualified\n"
     ]
    }
   ],
   "source": [
    "describe(datos)"
   ]
  },
  {
   "cell_type": "code",
   "execution_count": 23,
   "metadata": {},
   "outputs": [],
   "source": [
    "levels(datos.SUBJETE) ;"
   ]
  },
  {
   "cell_type": "code",
   "execution_count": 38,
   "metadata": {},
   "outputs": [],
   "source": [
    "datos[shuffle(1:nrow(datos))[1:20], :] ; #muestreo"
   ]
  },
  {
   "cell_type": "code",
   "execution_count": 59,
   "metadata": {},
   "outputs": [],
   "source": [
    "randsubseq(1:size(datos,1), 0.5) ; #muestreo"
   ]
  },
  {
   "cell_type": "markdown",
   "metadata": {},
   "source": [
    "## MLDataUtils"
   ]
  },
  {
   "cell_type": "code",
   "execution_count": 63,
   "metadata": {},
   "outputs": [
    {
     "name": "stderr",
     "output_type": "stream",
     "text": [
      "\u001b[32m\u001b[1m  Resolving\u001b[22m\u001b[39m package versions...\n",
      "\u001b[32m\u001b[1m  Installed\u001b[22m\u001b[39m MappedArrays ── v0.2.2\n",
      "\u001b[32m\u001b[1m  Installed\u001b[22m\u001b[39m LearnBase ───── v0.2.2\n",
      "\u001b[32m\u001b[1m  Installed\u001b[22m\u001b[39m MLLabelUtils ── v0.5.2\n",
      "\u001b[32m\u001b[1m  Installed\u001b[22m\u001b[39m MLDataUtils ─── v0.5.1\n",
      "\u001b[32m\u001b[1m  Installed\u001b[22m\u001b[39m MLDataPattern ─ v0.5.1\n",
      "\u001b[32m\u001b[1m   Updating\u001b[22m\u001b[39m `~/.julia/environments/v1.4/Project.toml`\n",
      " \u001b[90m [cc2ba9b6]\u001b[39m\u001b[92m + MLDataUtils v0.5.1\u001b[39m\n",
      "\u001b[32m\u001b[1m   Updating\u001b[22m\u001b[39m `~/.julia/environments/v1.4/Manifest.toml`\n",
      " \u001b[90m [7f8f8fb0]\u001b[39m\u001b[92m + LearnBase v0.2.2\u001b[39m\n",
      " \u001b[90m [9920b226]\u001b[39m\u001b[92m + MLDataPattern v0.5.1\u001b[39m\n",
      " \u001b[90m [cc2ba9b6]\u001b[39m\u001b[92m + MLDataUtils v0.5.1\u001b[39m\n",
      " \u001b[90m [66a33bbf]\u001b[39m\u001b[92m + MLLabelUtils v0.5.2\u001b[39m\n",
      " \u001b[90m [dbb5928d]\u001b[39m\u001b[92m + MappedArrays v0.2.2\u001b[39m\n"
     ]
    }
   ],
   "source": [
    "Pkg.add(\"MLDataUtils\")"
   ]
  },
  {
   "cell_type": "code",
   "execution_count": 64,
   "metadata": {},
   "outputs": [
    {
     "name": "stderr",
     "output_type": "stream",
     "text": [
      "┌ Info: Precompiling MLDataUtils [cc2ba9b6-d476-5e6d-8eaf-a92d5412d41d]\n",
      "└ @ Base loading.jl:1260\n"
     ]
    }
   ],
   "source": [
    "using MLDataUtils"
   ]
  },
  {
   "cell_type": "code",
   "execution_count": 69,
   "metadata": {},
   "outputs": [
    {
     "data": {
      "text/plain": [
       "(15×7 SubDataFrame. Omitted printing of 1 columns\n",
       "│ Row │ SUBJETE │ PERIODE │ SUDOKU │ DIFICULTAT │ CONTESTATS │ CORRECTES │\n",
       "│     │ \u001b[90mString\u001b[39m  │ \u001b[90mInt64\u001b[39m   │ \u001b[90mInt64\u001b[39m  │ \u001b[90mString\u001b[39m     │ \u001b[90mInt64\u001b[39m      │ \u001b[90mInt64\u001b[39m     │\n",
       "├─────┼─────────┼─────────┼────────┼────────────┼────────────┼───────────┤\n",
       "│ 1   │ A       │ 1       │ 4      │ D          │ 11         │ 11        │\n",
       "│ 2   │ A       │ 2       │ 3      │ F          │ 45         │ 45        │\n",
       "│ 3   │ A       │ 3       │ 2      │ D          │ 16         │ 15        │\n",
       "│ 4   │ B       │ 1       │ 1      │ F          │ 45         │ 45        │\n",
       "│ 5   │ B       │ 2       │ 2      │ D          │ 8          │ 7         │\n",
       "│ 6   │ B       │ 3       │ 3      │ F          │ 45         │ 45        │\n",
       "│ 7   │ C       │ 1       │ 2      │ D          │ 5          │ 2         │\n",
       "│ 8   │ C       │ 2       │ 4      │ D          │ 4          │ 4         │\n",
       "│ 9   │ C       │ 3       │ 1      │ F          │ 9          │ 9         │\n",
       "│ 10  │ D       │ 1       │ 3      │ F          │ 3          │ 3         │\n",
       "│ 11  │ D       │ 2       │ 1      │ F          │ 6          │ 6         │\n",
       "│ 12  │ D       │ 3       │ 4      │ D          │ 2          │ 2         │\n",
       "│ 13  │ E       │ 1       │ 4      │ D          │ 8          │ 8         │\n",
       "│ 14  │ E       │ 2       │ 2      │ D          │ 21         │ 17        │\n",
       "│ 15  │ E       │ 3       │ 3      │ F          │ 45         │ 45        │, 15×7 SubDataFrame. Omitted printing of 1 columns\n",
       "│ Row │ SUBJETE │ PERIODE │ SUDOKU │ DIFICULTAT │ CONTESTATS │ CORRECTES │\n",
       "│     │ \u001b[90mString\u001b[39m  │ \u001b[90mInt64\u001b[39m   │ \u001b[90mInt64\u001b[39m  │ \u001b[90mString\u001b[39m     │ \u001b[90mInt64\u001b[39m      │ \u001b[90mInt64\u001b[39m     │\n",
       "├─────┼─────────┼─────────┼────────┼────────────┼────────────┼───────────┤\n",
       "│ 1   │ F       │ 1       │ 8      │ D          │ 8          │ 8         │\n",
       "│ 2   │ F       │ 2       │ 7      │ F          │ 45         │ 45        │\n",
       "│ 3   │ F       │ 3       │ 6      │ F          │ 45         │ 45        │\n",
       "│ 4   │ G       │ 1       │ 5      │ D          │ 4          │ 4         │\n",
       "│ 5   │ G       │ 2       │ 6      │ F          │ 45         │ 45        │\n",
       "│ 6   │ G       │ 3       │ 7      │ F          │ 45         │ 45        │\n",
       "│ 7   │ H       │ 1       │ 6      │ F          │ 45         │ 45        │\n",
       "│ 8   │ H       │ 2       │ 8      │ D          │ 8          │ 8         │\n",
       "│ 9   │ H       │ 3       │ 5      │ D          │ 9          │ 9         │\n",
       "│ 10  │ I       │ 1       │ 7      │ F          │ 41         │ 41        │\n",
       "│ 11  │ I       │ 2       │ 5      │ D          │ 14         │ 12        │\n",
       "│ 12  │ I       │ 3       │ 8      │ D          │ 16         │ 8         │\n",
       "│ 13  │ J       │ 1       │ 8      │ D          │ 19         │ 2         │\n",
       "│ 14  │ J       │ 2       │ 6      │ F          │ 24         │ 19        │\n",
       "│ 15  │ J       │ 3       │ 7      │ F          │ 38         │ 36        │)"
      ]
     },
     "execution_count": 69,
     "metadata": {},
     "output_type": "execute_result"
    }
   ],
   "source": [
    "train, test = splitobs(datos,.5)"
   ]
  },
  {
   "cell_type": "markdown",
   "metadata": {},
   "source": [
    "## Correlaciones"
   ]
  },
  {
   "cell_type": "code",
   "execution_count": null,
   "metadata": {},
   "outputs": [],
   "source": []
  }
 ],
 "metadata": {
  "kernelspec": {
   "display_name": "Julia 1.4.0",
   "language": "julia",
   "name": "julia-1.4"
  },
  "language_info": {
   "file_extension": ".jl",
   "mimetype": "application/julia",
   "name": "julia",
   "version": "1.4.0"
  }
 },
 "nbformat": 4,
 "nbformat_minor": 2
}
