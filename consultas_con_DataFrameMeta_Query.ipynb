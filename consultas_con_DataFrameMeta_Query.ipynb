{
 "cells": [
  {
   "cell_type": "code",
   "execution_count": 116,
   "metadata": {},
   "outputs": [],
   "source": [
    "using Pkg;"
   ]
  },
  {
   "cell_type": "code",
   "execution_count": 129,
   "metadata": {},
   "outputs": [
    {
     "name": "stderr",
     "output_type": "stream",
     "text": [
      "\u001b[32m\u001b[1m  Resolving\u001b[22m\u001b[39m package versions...\n",
      "\u001b[32m\u001b[1m   Updating\u001b[22m\u001b[39m `~/.julia/environments/v1.4/Project.toml`\n",
      "\u001b[90m [no changes]\u001b[39m\n",
      "\u001b[32m\u001b[1m   Updating\u001b[22m\u001b[39m `~/.julia/environments/v1.4/Manifest.toml`\n",
      "\u001b[90m [no changes]\u001b[39m\n"
     ]
    }
   ],
   "source": [
    "Pkg.add(\"CSV\");"
   ]
  },
  {
   "cell_type": "code",
   "execution_count": 130,
   "metadata": {},
   "outputs": [
    {
     "name": "stderr",
     "output_type": "stream",
     "text": [
      "\u001b[32m\u001b[1m  Resolving\u001b[22m\u001b[39m package versions...\n",
      "\u001b[32m\u001b[1m   Updating\u001b[22m\u001b[39m `~/.julia/environments/v1.4/Project.toml`\n",
      "\u001b[90m [no changes]\u001b[39m\n",
      "\u001b[32m\u001b[1m   Updating\u001b[22m\u001b[39m `~/.julia/environments/v1.4/Manifest.toml`\n",
      "\u001b[90m [no changes]\u001b[39m\n"
     ]
    }
   ],
   "source": [
    "Pkg.add(\"DataFramesMeta\") ;"
   ]
  },
  {
   "cell_type": "code",
   "execution_count": 134,
   "metadata": {},
   "outputs": [
    {
     "name": "stderr",
     "output_type": "stream",
     "text": [
      "┌ Info: Precompiling CSV [336ed68f-0bac-5ca0-87d4-7b16caf5d00b]\n",
      "└ @ Base loading.jl:1260\n"
     ]
    }
   ],
   "source": [
    "using DataFrames, DataFramesMeta, CSV "
   ]
  },
  {
   "cell_type": "code",
   "execution_count": 10,
   "metadata": {},
   "outputs": [
    {
     "data": {
      "text/html": [
       "<table class=\"data-frame\"><thead><tr><th></th><th>nombre</th><th>edad</th><th>hijos</th></tr><tr><th></th><th>String</th><th>Float64</th><th>Int64</th></tr></thead><tbody><p>3 rows × 3 columns</p><tr><th>1</th><td>daniel</td><td>24.0</td><td>0</td></tr><tr><th>2</th><td>hernan</td><td>34.0</td><td>2</td></tr><tr><th>3</th><td>diego</td><td>29.0</td><td>4</td></tr></tbody></table>"
      ],
      "text/latex": [
       "\\begin{tabular}{r|ccc}\n",
       "\t& nombre & edad & hijos\\\\\n",
       "\t\\hline\n",
       "\t& String & Float64 & Int64\\\\\n",
       "\t\\hline\n",
       "\t1 & daniel & 24.0 & 0 \\\\\n",
       "\t2 & hernan & 34.0 & 2 \\\\\n",
       "\t3 & diego & 29.0 & 4 \\\\\n",
       "\\end{tabular}\n"
      ],
      "text/plain": [
       "3×3 DataFrame\n",
       "│ Row │ nombre │ edad    │ hijos │\n",
       "│     │ \u001b[90mString\u001b[39m │ \u001b[90mFloat64\u001b[39m │ \u001b[90mInt64\u001b[39m │\n",
       "├─────┼────────┼─────────┼───────┤\n",
       "│ 1   │ daniel │ 24.0    │ 0     │\n",
       "│ 2   │ hernan │ 34.0    │ 2     │\n",
       "│ 3   │ diego  │ 29.0    │ 4     │"
      ]
     },
     "execution_count": 10,
     "metadata": {},
     "output_type": "execute_result"
    }
   ],
   "source": [
    "datos = DataFrame(nombre=[\"daniel\", \"hernan\", \"diego\"],\n",
    "                      edad=[24., 34., 29.],\n",
    "                      hijos=[0, 2, 4])"
   ]
  },
  {
   "cell_type": "code",
   "execution_count": 26,
   "metadata": {},
   "outputs": [
    {
     "data": {
      "text/html": [
       "<table class=\"data-frame\"><thead><tr><th></th><th>nombre</th><th>edad</th><th>hijos</th></tr><tr><th></th><th>String</th><th>Float64</th><th>Int64</th></tr></thead><tbody><p>2 rows × 3 columns</p><tr><th>1</th><td>daniel</td><td>24.0</td><td>0</td></tr><tr><th>2</th><td>diego</td><td>29.0</td><td>4</td></tr></tbody></table>"
      ],
      "text/latex": [
       "\\begin{tabular}{r|ccc}\n",
       "\t& nombre & edad & hijos\\\\\n",
       "\t\\hline\n",
       "\t& String & Float64 & Int64\\\\\n",
       "\t\\hline\n",
       "\t1 & daniel & 24.0 & 0 \\\\\n",
       "\t2 & diego & 29.0 & 4 \\\\\n",
       "\\end{tabular}\n"
      ],
      "text/plain": [
       "2×3 DataFrame\n",
       "│ Row │ nombre │ edad    │ hijos │\n",
       "│     │ \u001b[90mString\u001b[39m │ \u001b[90mFloat64\u001b[39m │ \u001b[90mInt64\u001b[39m │\n",
       "├─────┼────────┼─────────┼───────┤\n",
       "│ 1   │ daniel │ 24.0    │ 0     │\n",
       "│ 2   │ diego  │ 29.0    │ 4     │"
      ]
     },
     "execution_count": 26,
     "metadata": {},
     "output_type": "execute_result"
    }
   ],
   "source": [
    "@linq datos |>\n",
    "           where(:edad .<=29) |>\n",
    "           select(:nombre,:edad,:hijos)"
   ]
  },
  {
   "cell_type": "code",
   "execution_count": 29,
   "metadata": {},
   "outputs": [
    {
     "data": {
      "text/html": [
       "<table class=\"data-frame\"><thead><tr><th></th><th>nombre</th><th>edad</th><th>hijos</th></tr><tr><th></th><th>String</th><th>Float64</th><th>Int64</th></tr></thead><tbody><p>2 rows × 3 columns</p><tr><th>1</th><td>daniel</td><td>24.0</td><td>0</td></tr><tr><th>2</th><td>diego</td><td>29.0</td><td>4</td></tr></tbody></table>"
      ],
      "text/latex": [
       "\\begin{tabular}{r|ccc}\n",
       "\t& nombre & edad & hijos\\\\\n",
       "\t\\hline\n",
       "\t& String & Float64 & Int64\\\\\n",
       "\t\\hline\n",
       "\t1 & daniel & 24.0 & 0 \\\\\n",
       "\t2 & diego & 29.0 & 4 \\\\\n",
       "\\end{tabular}\n"
      ],
      "text/plain": [
       "2×3 DataFrame\n",
       "│ Row │ nombre │ edad    │ hijos │\n",
       "│     │ \u001b[90mString\u001b[39m │ \u001b[90mFloat64\u001b[39m │ \u001b[90mInt64\u001b[39m │\n",
       "├─────┼────────┼─────────┼───────┤\n",
       "│ 1   │ daniel │ 24.0    │ 0     │\n",
       "│ 2   │ diego  │ 29.0    │ 4     │"
      ]
     },
     "execution_count": 29,
     "metadata": {},
     "output_type": "execute_result"
    }
   ],
   "source": [
    "@linq datos |>\n",
    "           where(:edad .<=29) |>\n",
    "           select(collect(1:3))"
   ]
  },
  {
   "cell_type": "markdown",
   "metadata": {},
   "source": [
    "## EJEMPLO COMPLETO"
   ]
  },
  {
   "cell_type": "code",
   "execution_count": 217,
   "metadata": {},
   "outputs": [
    {
     "data": {
      "text/html": [
       "<table class=\"data-frame\"><thead><tr><th></th><th>SUBJETE</th><th>PERIODE</th><th>SUDOKU</th><th>DIFICULTAT</th><th>CONTESTATS</th><th>CORRECTES</th><th>ERRORS</th></tr><tr><th></th><th>String</th><th>Int64</th><th>Int64</th><th>String</th><th>Int64</th><th>Int64</th><th>Int64</th></tr></thead><tbody><p>30 rows × 7 columns</p><tr><th>1</th><td>A</td><td>1</td><td>4</td><td>D</td><td>11</td><td>11</td><td>0</td></tr><tr><th>2</th><td>A</td><td>2</td><td>3</td><td>F</td><td>45</td><td>45</td><td>0</td></tr><tr><th>3</th><td>A</td><td>3</td><td>2</td><td>D</td><td>16</td><td>15</td><td>1</td></tr><tr><th>4</th><td>B</td><td>1</td><td>1</td><td>F</td><td>45</td><td>45</td><td>0</td></tr><tr><th>5</th><td>B</td><td>2</td><td>2</td><td>D</td><td>8</td><td>7</td><td>1</td></tr><tr><th>6</th><td>B</td><td>3</td><td>3</td><td>F</td><td>45</td><td>45</td><td>0</td></tr><tr><th>7</th><td>C</td><td>1</td><td>2</td><td>D</td><td>5</td><td>2</td><td>3</td></tr><tr><th>8</th><td>C</td><td>2</td><td>4</td><td>D</td><td>4</td><td>4</td><td>0</td></tr><tr><th>9</th><td>C</td><td>3</td><td>1</td><td>F</td><td>9</td><td>9</td><td>0</td></tr><tr><th>10</th><td>D</td><td>1</td><td>3</td><td>F</td><td>3</td><td>3</td><td>0</td></tr><tr><th>11</th><td>D</td><td>2</td><td>1</td><td>F</td><td>6</td><td>6</td><td>0</td></tr><tr><th>12</th><td>D</td><td>3</td><td>4</td><td>D</td><td>2</td><td>2</td><td>0</td></tr><tr><th>13</th><td>E</td><td>1</td><td>4</td><td>D</td><td>8</td><td>8</td><td>0</td></tr><tr><th>14</th><td>E</td><td>2</td><td>2</td><td>D</td><td>21</td><td>17</td><td>4</td></tr><tr><th>15</th><td>E</td><td>3</td><td>3</td><td>F</td><td>45</td><td>45</td><td>0</td></tr><tr><th>16</th><td>F</td><td>1</td><td>8</td><td>D</td><td>8</td><td>8</td><td>0</td></tr><tr><th>17</th><td>F</td><td>2</td><td>7</td><td>F</td><td>45</td><td>45</td><td>0</td></tr><tr><th>18</th><td>F</td><td>3</td><td>6</td><td>F</td><td>45</td><td>45</td><td>0</td></tr><tr><th>19</th><td>G</td><td>1</td><td>5</td><td>D</td><td>4</td><td>4</td><td>0</td></tr><tr><th>20</th><td>G</td><td>2</td><td>6</td><td>F</td><td>45</td><td>45</td><td>0</td></tr><tr><th>21</th><td>G</td><td>3</td><td>7</td><td>F</td><td>45</td><td>45</td><td>0</td></tr><tr><th>22</th><td>H</td><td>1</td><td>6</td><td>F</td><td>45</td><td>45</td><td>0</td></tr><tr><th>23</th><td>H</td><td>2</td><td>8</td><td>D</td><td>8</td><td>8</td><td>0</td></tr><tr><th>24</th><td>H</td><td>3</td><td>5</td><td>D</td><td>9</td><td>9</td><td>0</td></tr><tr><th>25</th><td>I</td><td>1</td><td>7</td><td>F</td><td>41</td><td>41</td><td>0</td></tr><tr><th>26</th><td>I</td><td>2</td><td>5</td><td>D</td><td>14</td><td>12</td><td>2</td></tr><tr><th>27</th><td>I</td><td>3</td><td>8</td><td>D</td><td>16</td><td>8</td><td>8</td></tr><tr><th>28</th><td>J</td><td>1</td><td>8</td><td>D</td><td>19</td><td>2</td><td>17</td></tr><tr><th>29</th><td>J</td><td>2</td><td>6</td><td>F</td><td>24</td><td>19</td><td>5</td></tr><tr><th>30</th><td>J</td><td>3</td><td>7</td><td>F</td><td>38</td><td>36</td><td>2</td></tr></tbody></table>"
      ],
      "text/latex": [
       "\\begin{tabular}{r|ccccccc}\n",
       "\t& SUBJETE & PERIODE & SUDOKU & DIFICULTAT & CONTESTATS & CORRECTES & ERRORS\\\\\n",
       "\t\\hline\n",
       "\t& String & Int64 & Int64 & String & Int64 & Int64 & Int64\\\\\n",
       "\t\\hline\n",
       "\t1 & A & 1 & 4 & D & 11 & 11 & 0 \\\\\n",
       "\t2 & A & 2 & 3 & F & 45 & 45 & 0 \\\\\n",
       "\t3 & A & 3 & 2 & D & 16 & 15 & 1 \\\\\n",
       "\t4 & B & 1 & 1 & F & 45 & 45 & 0 \\\\\n",
       "\t5 & B & 2 & 2 & D & 8 & 7 & 1 \\\\\n",
       "\t6 & B & 3 & 3 & F & 45 & 45 & 0 \\\\\n",
       "\t7 & C & 1 & 2 & D & 5 & 2 & 3 \\\\\n",
       "\t8 & C & 2 & 4 & D & 4 & 4 & 0 \\\\\n",
       "\t9 & C & 3 & 1 & F & 9 & 9 & 0 \\\\\n",
       "\t10 & D & 1 & 3 & F & 3 & 3 & 0 \\\\\n",
       "\t11 & D & 2 & 1 & F & 6 & 6 & 0 \\\\\n",
       "\t12 & D & 3 & 4 & D & 2 & 2 & 0 \\\\\n",
       "\t13 & E & 1 & 4 & D & 8 & 8 & 0 \\\\\n",
       "\t14 & E & 2 & 2 & D & 21 & 17 & 4 \\\\\n",
       "\t15 & E & 3 & 3 & F & 45 & 45 & 0 \\\\\n",
       "\t16 & F & 1 & 8 & D & 8 & 8 & 0 \\\\\n",
       "\t17 & F & 2 & 7 & F & 45 & 45 & 0 \\\\\n",
       "\t18 & F & 3 & 6 & F & 45 & 45 & 0 \\\\\n",
       "\t19 & G & 1 & 5 & D & 4 & 4 & 0 \\\\\n",
       "\t20 & G & 2 & 6 & F & 45 & 45 & 0 \\\\\n",
       "\t21 & G & 3 & 7 & F & 45 & 45 & 0 \\\\\n",
       "\t22 & H & 1 & 6 & F & 45 & 45 & 0 \\\\\n",
       "\t23 & H & 2 & 8 & D & 8 & 8 & 0 \\\\\n",
       "\t24 & H & 3 & 5 & D & 9 & 9 & 0 \\\\\n",
       "\t25 & I & 1 & 7 & F & 41 & 41 & 0 \\\\\n",
       "\t26 & I & 2 & 5 & D & 14 & 12 & 2 \\\\\n",
       "\t27 & I & 3 & 8 & D & 16 & 8 & 8 \\\\\n",
       "\t28 & J & 1 & 8 & D & 19 & 2 & 17 \\\\\n",
       "\t29 & J & 2 & 6 & F & 24 & 19 & 5 \\\\\n",
       "\t30 & J & 3 & 7 & F & 38 & 36 & 2 \\\\\n",
       "\\end{tabular}\n"
      ],
      "text/plain": [
       "30×7 DataFrame. Omitted printing of 1 columns\n",
       "│ Row │ SUBJETE │ PERIODE │ SUDOKU │ DIFICULTAT │ CONTESTATS │ CORRECTES │\n",
       "│     │ \u001b[90mString\u001b[39m  │ \u001b[90mInt64\u001b[39m   │ \u001b[90mInt64\u001b[39m  │ \u001b[90mString\u001b[39m     │ \u001b[90mInt64\u001b[39m      │ \u001b[90mInt64\u001b[39m     │\n",
       "├─────┼─────────┼─────────┼────────┼────────────┼────────────┼───────────┤\n",
       "│ 1   │ A       │ 1       │ 4      │ D          │ 11         │ 11        │\n",
       "│ 2   │ A       │ 2       │ 3      │ F          │ 45         │ 45        │\n",
       "│ 3   │ A       │ 3       │ 2      │ D          │ 16         │ 15        │\n",
       "│ 4   │ B       │ 1       │ 1      │ F          │ 45         │ 45        │\n",
       "│ 5   │ B       │ 2       │ 2      │ D          │ 8          │ 7         │\n",
       "│ 6   │ B       │ 3       │ 3      │ F          │ 45         │ 45        │\n",
       "│ 7   │ C       │ 1       │ 2      │ D          │ 5          │ 2         │\n",
       "│ 8   │ C       │ 2       │ 4      │ D          │ 4          │ 4         │\n",
       "│ 9   │ C       │ 3       │ 1      │ F          │ 9          │ 9         │\n",
       "│ 10  │ D       │ 1       │ 3      │ F          │ 3          │ 3         │\n",
       "⋮\n",
       "│ 20  │ G       │ 2       │ 6      │ F          │ 45         │ 45        │\n",
       "│ 21  │ G       │ 3       │ 7      │ F          │ 45         │ 45        │\n",
       "│ 22  │ H       │ 1       │ 6      │ F          │ 45         │ 45        │\n",
       "│ 23  │ H       │ 2       │ 8      │ D          │ 8          │ 8         │\n",
       "│ 24  │ H       │ 3       │ 5      │ D          │ 9          │ 9         │\n",
       "│ 25  │ I       │ 1       │ 7      │ F          │ 41         │ 41        │\n",
       "│ 26  │ I       │ 2       │ 5      │ D          │ 14         │ 12        │\n",
       "│ 27  │ I       │ 3       │ 8      │ D          │ 16         │ 8         │\n",
       "│ 28  │ J       │ 1       │ 8      │ D          │ 19         │ 2         │\n",
       "│ 29  │ J       │ 2       │ 6      │ F          │ 24         │ 19        │\n",
       "│ 30  │ J       │ 3       │ 7      │ F          │ 38         │ 36        │"
      ]
     },
     "execution_count": 217,
     "metadata": {},
     "output_type": "execute_result"
    }
   ],
   "source": [
    "base=DataFrame(CSV.read(\"data.csv\"))"
   ]
  },
  {
   "cell_type": "markdown",
   "metadata": {},
   "source": [
    "# where"
   ]
  },
  {
   "cell_type": "code",
   "execution_count": 187,
   "metadata": {},
   "outputs": [
    {
     "data": {
      "text/html": [
       "<table class=\"data-frame\"><thead><tr><th></th><th>SUBJETE</th><th>PERIODE</th><th>SUDOKU</th><th>DIFICULTAT</th><th>CONTESTATS</th><th>CORRECTES</th><th>ERRORS</th></tr><tr><th></th><th>String</th><th>Int64</th><th>Int64</th><th>String</th><th>Int64</th><th>Int64</th><th>Int64</th></tr></thead><tbody><p>2 rows × 7 columns</p><tr><th>1</th><td>A</td><td>1</td><td>4</td><td>D</td><td>11</td><td>11</td><td>0</td></tr><tr><th>2</th><td>E</td><td>1</td><td>4</td><td>D</td><td>8</td><td>8</td><td>0</td></tr></tbody></table>"
      ],
      "text/latex": [
       "\\begin{tabular}{r|ccccccc}\n",
       "\t& SUBJETE & PERIODE & SUDOKU & DIFICULTAT & CONTESTATS & CORRECTES & ERRORS\\\\\n",
       "\t\\hline\n",
       "\t& String & Int64 & Int64 & String & Int64 & Int64 & Int64\\\\\n",
       "\t\\hline\n",
       "\t1 & A & 1 & 4 & D & 11 & 11 & 0 \\\\\n",
       "\t2 & E & 1 & 4 & D & 8 & 8 & 0 \\\\\n",
       "\\end{tabular}\n"
      ],
      "text/plain": [
       "2×7 DataFrame. Omitted printing of 1 columns\n",
       "│ Row │ SUBJETE │ PERIODE │ SUDOKU │ DIFICULTAT │ CONTESTATS │ CORRECTES │\n",
       "│     │ \u001b[90mString\u001b[39m  │ \u001b[90mInt64\u001b[39m   │ \u001b[90mInt64\u001b[39m  │ \u001b[90mString\u001b[39m     │ \u001b[90mInt64\u001b[39m      │ \u001b[90mInt64\u001b[39m     │\n",
       "├─────┼─────────┼─────────┼────────┼────────────┼────────────┼───────────┤\n",
       "│ 1   │ A       │ 1       │ 4      │ D          │ 11         │ 11        │\n",
       "│ 2   │ E       │ 1       │ 4      │ D          │ 8          │ 8         │"
      ]
     },
     "execution_count": 187,
     "metadata": {},
     "output_type": "execute_result"
    }
   ],
   "source": [
    "@where(base, :PERIODE .== 1, :SUDOKU .== 4) "
   ]
  },
  {
   "cell_type": "code",
   "execution_count": 188,
   "metadata": {},
   "outputs": [
    {
     "data": {
      "text/html": [
       "<table class=\"data-frame\"><thead><tr><th></th><th>SUBJETE</th><th>PERIODE</th><th>SUDOKU</th><th>DIFICULTAT</th><th>CONTESTATS</th><th>CORRECTES</th><th>ERRORS</th></tr><tr><th></th><th>String</th><th>Int64</th><th>Int64</th><th>String</th><th>Int64</th><th>Int64</th><th>Int64</th></tr></thead><tbody><p>3 rows × 7 columns</p><tr><th>1</th><td>A</td><td>1</td><td>4</td><td>D</td><td>11</td><td>11</td><td>0</td></tr><tr><th>2</th><td>A</td><td>2</td><td>3</td><td>F</td><td>45</td><td>45</td><td>0</td></tr><tr><th>3</th><td>A</td><td>3</td><td>2</td><td>D</td><td>16</td><td>15</td><td>1</td></tr></tbody></table>"
      ],
      "text/latex": [
       "\\begin{tabular}{r|ccccccc}\n",
       "\t& SUBJETE & PERIODE & SUDOKU & DIFICULTAT & CONTESTATS & CORRECTES & ERRORS\\\\\n",
       "\t\\hline\n",
       "\t& String & Int64 & Int64 & String & Int64 & Int64 & Int64\\\\\n",
       "\t\\hline\n",
       "\t1 & A & 1 & 4 & D & 11 & 11 & 0 \\\\\n",
       "\t2 & A & 2 & 3 & F & 45 & 45 & 0 \\\\\n",
       "\t3 & A & 3 & 2 & D & 16 & 15 & 1 \\\\\n",
       "\\end{tabular}\n"
      ],
      "text/plain": [
       "3×7 DataFrame. Omitted printing of 1 columns\n",
       "│ Row │ SUBJETE │ PERIODE │ SUDOKU │ DIFICULTAT │ CONTESTATS │ CORRECTES │\n",
       "│     │ \u001b[90mString\u001b[39m  │ \u001b[90mInt64\u001b[39m   │ \u001b[90mInt64\u001b[39m  │ \u001b[90mString\u001b[39m     │ \u001b[90mInt64\u001b[39m      │ \u001b[90mInt64\u001b[39m     │\n",
       "├─────┼─────────┼─────────┼────────┼────────────┼────────────┼───────────┤\n",
       "│ 1   │ A       │ 1       │ 4      │ D          │ 11         │ 11        │\n",
       "│ 2   │ A       │ 2       │ 3      │ F          │ 45         │ 45        │\n",
       "│ 3   │ A       │ 3       │ 2      │ D          │ 16         │ 15        │"
      ]
     },
     "execution_count": 188,
     "metadata": {},
     "output_type": "execute_result"
    }
   ],
   "source": [
    "@where(base,:SUBJETE.==\"A\")"
   ]
  },
  {
   "cell_type": "code",
   "execution_count": 196,
   "metadata": {},
   "outputs": [
    {
     "data": {
      "text/html": [
       "<table class=\"data-frame\"><thead><tr><th></th><th>SUBJETE</th><th>PERIODE</th><th>SUDOKU</th><th>DIFICULTAT</th><th>CONTESTATS</th><th>CORRECTES</th><th>ERRORS</th></tr><tr><th></th><th>String</th><th>Int64</th><th>Int64</th><th>String</th><th>Int64</th><th>Int64</th><th>Int64</th></tr></thead><tbody><p>15 rows × 7 columns</p><tr><th>1</th><td>F</td><td>1</td><td>8</td><td>D</td><td>8</td><td>8</td><td>0</td></tr><tr><th>2</th><td>F</td><td>2</td><td>7</td><td>F</td><td>45</td><td>45</td><td>0</td></tr><tr><th>3</th><td>F</td><td>3</td><td>6</td><td>F</td><td>45</td><td>45</td><td>0</td></tr><tr><th>4</th><td>G</td><td>1</td><td>5</td><td>D</td><td>4</td><td>4</td><td>0</td></tr><tr><th>5</th><td>G</td><td>2</td><td>6</td><td>F</td><td>45</td><td>45</td><td>0</td></tr><tr><th>6</th><td>G</td><td>3</td><td>7</td><td>F</td><td>45</td><td>45</td><td>0</td></tr><tr><th>7</th><td>H</td><td>1</td><td>6</td><td>F</td><td>45</td><td>45</td><td>0</td></tr><tr><th>8</th><td>H</td><td>2</td><td>8</td><td>D</td><td>8</td><td>8</td><td>0</td></tr><tr><th>9</th><td>H</td><td>3</td><td>5</td><td>D</td><td>9</td><td>9</td><td>0</td></tr><tr><th>10</th><td>I</td><td>1</td><td>7</td><td>F</td><td>41</td><td>41</td><td>0</td></tr><tr><th>11</th><td>I</td><td>2</td><td>5</td><td>D</td><td>14</td><td>12</td><td>2</td></tr><tr><th>12</th><td>I</td><td>3</td><td>8</td><td>D</td><td>16</td><td>8</td><td>8</td></tr><tr><th>13</th><td>J</td><td>1</td><td>8</td><td>D</td><td>19</td><td>2</td><td>17</td></tr><tr><th>14</th><td>J</td><td>2</td><td>6</td><td>F</td><td>24</td><td>19</td><td>5</td></tr><tr><th>15</th><td>J</td><td>3</td><td>7</td><td>F</td><td>38</td><td>36</td><td>2</td></tr></tbody></table>"
      ],
      "text/latex": [
       "\\begin{tabular}{r|ccccccc}\n",
       "\t& SUBJETE & PERIODE & SUDOKU & DIFICULTAT & CONTESTATS & CORRECTES & ERRORS\\\\\n",
       "\t\\hline\n",
       "\t& String & Int64 & Int64 & String & Int64 & Int64 & Int64\\\\\n",
       "\t\\hline\n",
       "\t1 & F & 1 & 8 & D & 8 & 8 & 0 \\\\\n",
       "\t2 & F & 2 & 7 & F & 45 & 45 & 0 \\\\\n",
       "\t3 & F & 3 & 6 & F & 45 & 45 & 0 \\\\\n",
       "\t4 & G & 1 & 5 & D & 4 & 4 & 0 \\\\\n",
       "\t5 & G & 2 & 6 & F & 45 & 45 & 0 \\\\\n",
       "\t6 & G & 3 & 7 & F & 45 & 45 & 0 \\\\\n",
       "\t7 & H & 1 & 6 & F & 45 & 45 & 0 \\\\\n",
       "\t8 & H & 2 & 8 & D & 8 & 8 & 0 \\\\\n",
       "\t9 & H & 3 & 5 & D & 9 & 9 & 0 \\\\\n",
       "\t10 & I & 1 & 7 & F & 41 & 41 & 0 \\\\\n",
       "\t11 & I & 2 & 5 & D & 14 & 12 & 2 \\\\\n",
       "\t12 & I & 3 & 8 & D & 16 & 8 & 8 \\\\\n",
       "\t13 & J & 1 & 8 & D & 19 & 2 & 17 \\\\\n",
       "\t14 & J & 2 & 6 & F & 24 & 19 & 5 \\\\\n",
       "\t15 & J & 3 & 7 & F & 38 & 36 & 2 \\\\\n",
       "\\end{tabular}\n"
      ],
      "text/plain": [
       "15×7 DataFrame. Omitted printing of 1 columns\n",
       "│ Row │ SUBJETE │ PERIODE │ SUDOKU │ DIFICULTAT │ CONTESTATS │ CORRECTES │\n",
       "│     │ \u001b[90mString\u001b[39m  │ \u001b[90mInt64\u001b[39m   │ \u001b[90mInt64\u001b[39m  │ \u001b[90mString\u001b[39m     │ \u001b[90mInt64\u001b[39m      │ \u001b[90mInt64\u001b[39m     │\n",
       "├─────┼─────────┼─────────┼────────┼────────────┼────────────┼───────────┤\n",
       "│ 1   │ F       │ 1       │ 8      │ D          │ 8          │ 8         │\n",
       "│ 2   │ F       │ 2       │ 7      │ F          │ 45         │ 45        │\n",
       "│ 3   │ F       │ 3       │ 6      │ F          │ 45         │ 45        │\n",
       "│ 4   │ G       │ 1       │ 5      │ D          │ 4          │ 4         │\n",
       "│ 5   │ G       │ 2       │ 6      │ F          │ 45         │ 45        │\n",
       "│ 6   │ G       │ 3       │ 7      │ F          │ 45         │ 45        │\n",
       "│ 7   │ H       │ 1       │ 6      │ F          │ 45         │ 45        │\n",
       "│ 8   │ H       │ 2       │ 8      │ D          │ 8          │ 8         │\n",
       "│ 9   │ H       │ 3       │ 5      │ D          │ 9          │ 9         │\n",
       "│ 10  │ I       │ 1       │ 7      │ F          │ 41         │ 41        │\n",
       "│ 11  │ I       │ 2       │ 5      │ D          │ 14         │ 12        │\n",
       "│ 12  │ I       │ 3       │ 8      │ D          │ 16         │ 8         │\n",
       "│ 13  │ J       │ 1       │ 8      │ D          │ 19         │ 2         │\n",
       "│ 14  │ J       │ 2       │ 6      │ F          │ 24         │ 19        │\n",
       "│ 15  │ J       │ 3       │ 7      │ F          │ 38         │ 36        │"
      ]
     },
     "execution_count": 196,
     "metadata": {},
     "output_type": "execute_result"
    }
   ],
   "source": [
    "@where(base,:SUDOKU.>4)"
   ]
  },
  {
   "cell_type": "code",
   "execution_count": 202,
   "metadata": {},
   "outputs": [
    {
     "data": {
      "text/html": [
       "<table class=\"data-frame\"><thead><tr><th></th><th>SUBJETE</th><th>PERIODE</th><th>SUDOKU</th><th>DIFICULTAT</th><th>CONTESTATS</th><th>CORRECTES</th><th>ERRORS</th></tr><tr><th></th><th>String</th><th>Int64</th><th>Int64</th><th>String</th><th>Int64</th><th>Int64</th><th>Int64</th></tr></thead><tbody><p>6 rows × 7 columns</p><tr><th>1</th><td>A</td><td>1</td><td>4</td><td>D</td><td>11</td><td>11</td><td>0</td></tr><tr><th>2</th><td>A</td><td>2</td><td>3</td><td>F</td><td>45</td><td>45</td><td>0</td></tr><tr><th>3</th><td>A</td><td>3</td><td>2</td><td>D</td><td>16</td><td>15</td><td>1</td></tr><tr><th>4</th><td>B</td><td>1</td><td>1</td><td>F</td><td>45</td><td>45</td><td>0</td></tr><tr><th>5</th><td>B</td><td>2</td><td>2</td><td>D</td><td>8</td><td>7</td><td>1</td></tr><tr><th>6</th><td>B</td><td>3</td><td>3</td><td>F</td><td>45</td><td>45</td><td>0</td></tr></tbody></table>"
      ],
      "text/latex": [
       "\\begin{tabular}{r|ccccccc}\n",
       "\t& SUBJETE & PERIODE & SUDOKU & DIFICULTAT & CONTESTATS & CORRECTES & ERRORS\\\\\n",
       "\t\\hline\n",
       "\t& String & Int64 & Int64 & String & Int64 & Int64 & Int64\\\\\n",
       "\t\\hline\n",
       "\t1 & A & 1 & 4 & D & 11 & 11 & 0 \\\\\n",
       "\t2 & A & 2 & 3 & F & 45 & 45 & 0 \\\\\n",
       "\t3 & A & 3 & 2 & D & 16 & 15 & 1 \\\\\n",
       "\t4 & B & 1 & 1 & F & 45 & 45 & 0 \\\\\n",
       "\t5 & B & 2 & 2 & D & 8 & 7 & 1 \\\\\n",
       "\t6 & B & 3 & 3 & F & 45 & 45 & 0 \\\\\n",
       "\\end{tabular}\n"
      ],
      "text/plain": [
       "6×7 DataFrame. Omitted printing of 1 columns\n",
       "│ Row │ SUBJETE │ PERIODE │ SUDOKU │ DIFICULTAT │ CONTESTATS │ CORRECTES │\n",
       "│     │ \u001b[90mString\u001b[39m  │ \u001b[90mInt64\u001b[39m   │ \u001b[90mInt64\u001b[39m  │ \u001b[90mString\u001b[39m     │ \u001b[90mInt64\u001b[39m      │ \u001b[90mInt64\u001b[39m     │\n",
       "├─────┼─────────┼─────────┼────────┼────────────┼────────────┼───────────┤\n",
       "│ 1   │ A       │ 1       │ 4      │ D          │ 11         │ 11        │\n",
       "│ 2   │ A       │ 2       │ 3      │ F          │ 45         │ 45        │\n",
       "│ 3   │ A       │ 3       │ 2      │ D          │ 16         │ 15        │\n",
       "│ 4   │ B       │ 1       │ 1      │ F          │ 45         │ 45        │\n",
       "│ 5   │ B       │ 2       │ 2      │ D          │ 8          │ 7         │\n",
       "│ 6   │ B       │ 3       │ 3      │ F          │ 45         │ 45        │"
      ]
     },
     "execution_count": 202,
     "metadata": {},
     "output_type": "execute_result"
    }
   ],
   "source": [
    "@where(base, .|(:SUBJETE .== \"A\", :SUBJETE .== \"B\"))  #.| es or"
   ]
  },
  {
   "cell_type": "code",
   "execution_count": 200,
   "metadata": {},
   "outputs": [
    {
     "data": {
      "text/html": [
       "<table class=\"data-frame\"><thead><tr><th></th><th>SUBJETE</th><th>PERIODE</th><th>SUDOKU</th><th>DIFICULTAT</th><th>CONTESTATS</th><th>CORRECTES</th><th>ERRORS</th></tr><tr><th></th><th>String</th><th>Int64</th><th>Int64</th><th>String</th><th>Int64</th><th>Int64</th><th>Int64</th></tr></thead><tbody><p>12 rows × 7 columns</p><tr><th>1</th><td>A</td><td>1</td><td>4</td><td>D</td><td>11</td><td>11</td><td>0</td></tr><tr><th>2</th><td>B</td><td>1</td><td>1</td><td>F</td><td>45</td><td>45</td><td>0</td></tr><tr><th>3</th><td>C</td><td>1</td><td>2</td><td>D</td><td>5</td><td>2</td><td>3</td></tr><tr><th>4</th><td>C</td><td>2</td><td>4</td><td>D</td><td>4</td><td>4</td><td>0</td></tr><tr><th>5</th><td>D</td><td>1</td><td>3</td><td>F</td><td>3</td><td>3</td><td>0</td></tr><tr><th>6</th><td>D</td><td>3</td><td>4</td><td>D</td><td>2</td><td>2</td><td>0</td></tr><tr><th>7</th><td>E</td><td>1</td><td>4</td><td>D</td><td>8</td><td>8</td><td>0</td></tr><tr><th>8</th><td>F</td><td>1</td><td>8</td><td>D</td><td>8</td><td>8</td><td>0</td></tr><tr><th>9</th><td>G</td><td>1</td><td>5</td><td>D</td><td>4</td><td>4</td><td>0</td></tr><tr><th>10</th><td>H</td><td>1</td><td>6</td><td>F</td><td>45</td><td>45</td><td>0</td></tr><tr><th>11</th><td>I</td><td>1</td><td>7</td><td>F</td><td>41</td><td>41</td><td>0</td></tr><tr><th>12</th><td>J</td><td>1</td><td>8</td><td>D</td><td>19</td><td>2</td><td>17</td></tr></tbody></table>"
      ],
      "text/latex": [
       "\\begin{tabular}{r|ccccccc}\n",
       "\t& SUBJETE & PERIODE & SUDOKU & DIFICULTAT & CONTESTATS & CORRECTES & ERRORS\\\\\n",
       "\t\\hline\n",
       "\t& String & Int64 & Int64 & String & Int64 & Int64 & Int64\\\\\n",
       "\t\\hline\n",
       "\t1 & A & 1 & 4 & D & 11 & 11 & 0 \\\\\n",
       "\t2 & B & 1 & 1 & F & 45 & 45 & 0 \\\\\n",
       "\t3 & C & 1 & 2 & D & 5 & 2 & 3 \\\\\n",
       "\t4 & C & 2 & 4 & D & 4 & 4 & 0 \\\\\n",
       "\t5 & D & 1 & 3 & F & 3 & 3 & 0 \\\\\n",
       "\t6 & D & 3 & 4 & D & 2 & 2 & 0 \\\\\n",
       "\t7 & E & 1 & 4 & D & 8 & 8 & 0 \\\\\n",
       "\t8 & F & 1 & 8 & D & 8 & 8 & 0 \\\\\n",
       "\t9 & G & 1 & 5 & D & 4 & 4 & 0 \\\\\n",
       "\t10 & H & 1 & 6 & F & 45 & 45 & 0 \\\\\n",
       "\t11 & I & 1 & 7 & F & 41 & 41 & 0 \\\\\n",
       "\t12 & J & 1 & 8 & D & 19 & 2 & 17 \\\\\n",
       "\\end{tabular}\n"
      ],
      "text/plain": [
       "12×7 DataFrame. Omitted printing of 1 columns\n",
       "│ Row │ SUBJETE │ PERIODE │ SUDOKU │ DIFICULTAT │ CONTESTATS │ CORRECTES │\n",
       "│     │ \u001b[90mString\u001b[39m  │ \u001b[90mInt64\u001b[39m   │ \u001b[90mInt64\u001b[39m  │ \u001b[90mString\u001b[39m     │ \u001b[90mInt64\u001b[39m      │ \u001b[90mInt64\u001b[39m     │\n",
       "├─────┼─────────┼─────────┼────────┼────────────┼────────────┼───────────┤\n",
       "│ 1   │ A       │ 1       │ 4      │ D          │ 11         │ 11        │\n",
       "│ 2   │ B       │ 1       │ 1      │ F          │ 45         │ 45        │\n",
       "│ 3   │ C       │ 1       │ 2      │ D          │ 5          │ 2         │\n",
       "│ 4   │ C       │ 2       │ 4      │ D          │ 4          │ 4         │\n",
       "│ 5   │ D       │ 1       │ 3      │ F          │ 3          │ 3         │\n",
       "│ 6   │ D       │ 3       │ 4      │ D          │ 2          │ 2         │\n",
       "│ 7   │ E       │ 1       │ 4      │ D          │ 8          │ 8         │\n",
       "│ 8   │ F       │ 1       │ 8      │ D          │ 8          │ 8         │\n",
       "│ 9   │ G       │ 1       │ 5      │ D          │ 4          │ 4         │\n",
       "│ 10  │ H       │ 1       │ 6      │ F          │ 45         │ 45        │\n",
       "│ 11  │ I       │ 1       │ 7      │ F          │ 41         │ 41        │\n",
       "│ 12  │ J       │ 1       │ 8      │ D          │ 19         │ 2         │"
      ]
     },
     "execution_count": 200,
     "metadata": {},
     "output_type": "execute_result"
    }
   ],
   "source": [
    "@where(base, .|(:PERIODE .== 1, :SUDOKU .== 4) )"
   ]
  },
  {
   "cell_type": "markdown",
   "metadata": {},
   "source": [
    "# select"
   ]
  },
  {
   "cell_type": "code",
   "execution_count": 203,
   "metadata": {},
   "outputs": [
    {
     "data": {
      "text/html": [
       "<table class=\"data-frame\"><thead><tr><th></th><th>PERIODE</th><th>SUDOKU</th></tr><tr><th></th><th>Int64</th><th>Int64</th></tr></thead><tbody><p>30 rows × 2 columns</p><tr><th>1</th><td>1</td><td>4</td></tr><tr><th>2</th><td>2</td><td>3</td></tr><tr><th>3</th><td>3</td><td>2</td></tr><tr><th>4</th><td>1</td><td>1</td></tr><tr><th>5</th><td>2</td><td>2</td></tr><tr><th>6</th><td>3</td><td>3</td></tr><tr><th>7</th><td>1</td><td>2</td></tr><tr><th>8</th><td>2</td><td>4</td></tr><tr><th>9</th><td>3</td><td>1</td></tr><tr><th>10</th><td>1</td><td>3</td></tr><tr><th>11</th><td>2</td><td>1</td></tr><tr><th>12</th><td>3</td><td>4</td></tr><tr><th>13</th><td>1</td><td>4</td></tr><tr><th>14</th><td>2</td><td>2</td></tr><tr><th>15</th><td>3</td><td>3</td></tr><tr><th>16</th><td>1</td><td>8</td></tr><tr><th>17</th><td>2</td><td>7</td></tr><tr><th>18</th><td>3</td><td>6</td></tr><tr><th>19</th><td>1</td><td>5</td></tr><tr><th>20</th><td>2</td><td>6</td></tr><tr><th>21</th><td>3</td><td>7</td></tr><tr><th>22</th><td>1</td><td>6</td></tr><tr><th>23</th><td>2</td><td>8</td></tr><tr><th>24</th><td>3</td><td>5</td></tr><tr><th>25</th><td>1</td><td>7</td></tr><tr><th>26</th><td>2</td><td>5</td></tr><tr><th>27</th><td>3</td><td>8</td></tr><tr><th>28</th><td>1</td><td>8</td></tr><tr><th>29</th><td>2</td><td>6</td></tr><tr><th>30</th><td>3</td><td>7</td></tr></tbody></table>"
      ],
      "text/latex": [
       "\\begin{tabular}{r|cc}\n",
       "\t& PERIODE & SUDOKU\\\\\n",
       "\t\\hline\n",
       "\t& Int64 & Int64\\\\\n",
       "\t\\hline\n",
       "\t1 & 1 & 4 \\\\\n",
       "\t2 & 2 & 3 \\\\\n",
       "\t3 & 3 & 2 \\\\\n",
       "\t4 & 1 & 1 \\\\\n",
       "\t5 & 2 & 2 \\\\\n",
       "\t6 & 3 & 3 \\\\\n",
       "\t7 & 1 & 2 \\\\\n",
       "\t8 & 2 & 4 \\\\\n",
       "\t9 & 3 & 1 \\\\\n",
       "\t10 & 1 & 3 \\\\\n",
       "\t11 & 2 & 1 \\\\\n",
       "\t12 & 3 & 4 \\\\\n",
       "\t13 & 1 & 4 \\\\\n",
       "\t14 & 2 & 2 \\\\\n",
       "\t15 & 3 & 3 \\\\\n",
       "\t16 & 1 & 8 \\\\\n",
       "\t17 & 2 & 7 \\\\\n",
       "\t18 & 3 & 6 \\\\\n",
       "\t19 & 1 & 5 \\\\\n",
       "\t20 & 2 & 6 \\\\\n",
       "\t21 & 3 & 7 \\\\\n",
       "\t22 & 1 & 6 \\\\\n",
       "\t23 & 2 & 8 \\\\\n",
       "\t24 & 3 & 5 \\\\\n",
       "\t25 & 1 & 7 \\\\\n",
       "\t26 & 2 & 5 \\\\\n",
       "\t27 & 3 & 8 \\\\\n",
       "\t28 & 1 & 8 \\\\\n",
       "\t29 & 2 & 6 \\\\\n",
       "\t30 & 3 & 7 \\\\\n",
       "\\end{tabular}\n"
      ],
      "text/plain": [
       "30×2 DataFrame\n",
       "│ Row │ PERIODE │ SUDOKU │\n",
       "│     │ \u001b[90mInt64\u001b[39m   │ \u001b[90mInt64\u001b[39m  │\n",
       "├─────┼─────────┼────────┤\n",
       "│ 1   │ 1       │ 4      │\n",
       "│ 2   │ 2       │ 3      │\n",
       "│ 3   │ 3       │ 2      │\n",
       "│ 4   │ 1       │ 1      │\n",
       "│ 5   │ 2       │ 2      │\n",
       "│ 6   │ 3       │ 3      │\n",
       "│ 7   │ 1       │ 2      │\n",
       "│ 8   │ 2       │ 4      │\n",
       "│ 9   │ 3       │ 1      │\n",
       "│ 10  │ 1       │ 3      │\n",
       "⋮\n",
       "│ 20  │ 2       │ 6      │\n",
       "│ 21  │ 3       │ 7      │\n",
       "│ 22  │ 1       │ 6      │\n",
       "│ 23  │ 2       │ 8      │\n",
       "│ 24  │ 3       │ 5      │\n",
       "│ 25  │ 1       │ 7      │\n",
       "│ 26  │ 2       │ 5      │\n",
       "│ 27  │ 3       │ 8      │\n",
       "│ 28  │ 1       │ 8      │\n",
       "│ 29  │ 2       │ 6      │\n",
       "│ 30  │ 3       │ 7      │"
      ]
     },
     "execution_count": 203,
     "metadata": {},
     "output_type": "execute_result"
    }
   ],
   "source": [
    "@select(base,:PERIODE,:SUDOKU)"
   ]
  },
  {
   "cell_type": "markdown",
   "metadata": {},
   "source": [
    "combinacion en una sola linea"
   ]
  },
  {
   "cell_type": "code",
   "execution_count": 214,
   "metadata": {},
   "outputs": [
    {
     "data": {
      "text/html": [
       "<table class=\"data-frame\"><thead><tr><th></th><th>PERIODE</th><th>SUDOKU</th></tr><tr><th></th><th>Int64</th><th>Int64</th></tr></thead><tbody><p>7 rows × 2 columns</p><tr><th>1</th><td>3</td><td>2</td></tr><tr><th>2</th><td>1</td><td>1</td></tr><tr><th>3</th><td>2</td><td>2</td></tr><tr><th>4</th><td>1</td><td>2</td></tr><tr><th>5</th><td>3</td><td>1</td></tr><tr><th>6</th><td>2</td><td>1</td></tr><tr><th>7</th><td>2</td><td>2</td></tr></tbody></table>"
      ],
      "text/latex": [
       "\\begin{tabular}{r|cc}\n",
       "\t& PERIODE & SUDOKU\\\\\n",
       "\t\\hline\n",
       "\t& Int64 & Int64\\\\\n",
       "\t\\hline\n",
       "\t1 & 3 & 2 \\\\\n",
       "\t2 & 1 & 1 \\\\\n",
       "\t3 & 2 & 2 \\\\\n",
       "\t4 & 1 & 2 \\\\\n",
       "\t5 & 3 & 1 \\\\\n",
       "\t6 & 2 & 1 \\\\\n",
       "\t7 & 2 & 2 \\\\\n",
       "\\end{tabular}\n"
      ],
      "text/plain": [
       "7×2 DataFrame\n",
       "│ Row │ PERIODE │ SUDOKU │\n",
       "│     │ \u001b[90mInt64\u001b[39m   │ \u001b[90mInt64\u001b[39m  │\n",
       "├─────┼─────────┼────────┤\n",
       "│ 1   │ 3       │ 2      │\n",
       "│ 2   │ 1       │ 1      │\n",
       "│ 3   │ 2       │ 2      │\n",
       "│ 4   │ 1       │ 2      │\n",
       "│ 5   │ 3       │ 1      │\n",
       "│ 6   │ 2       │ 1      │\n",
       "│ 7   │ 2       │ 2      │"
      ]
     },
     "execution_count": 214,
     "metadata": {},
     "output_type": "execute_result"
    }
   ],
   "source": [
    "@linq base|>\n",
    "where(:SUDOKU.<3)|>\n",
    "select(:PERIODE,:SUDOKU)"
   ]
  },
  {
   "cell_type": "markdown",
   "metadata": {},
   "source": [
    "# order by"
   ]
  },
  {
   "cell_type": "code",
   "execution_count": 215,
   "metadata": {},
   "outputs": [
    {
     "data": {
      "text/html": [
       "<table class=\"data-frame\"><thead><tr><th></th><th>SUBJETE</th><th>PERIODE</th><th>SUDOKU</th><th>DIFICULTAT</th><th>CONTESTATS</th><th>CORRECTES</th><th>ERRORS</th></tr><tr><th></th><th>String</th><th>Int64</th><th>Int64</th><th>String</th><th>Int64</th><th>Int64</th><th>Int64</th></tr></thead><tbody><p>30 rows × 7 columns</p><tr><th>1</th><td>A</td><td>1</td><td>4</td><td>D</td><td>11</td><td>11</td><td>0</td></tr><tr><th>2</th><td>A</td><td>2</td><td>3</td><td>F</td><td>45</td><td>45</td><td>0</td></tr><tr><th>3</th><td>A</td><td>3</td><td>2</td><td>D</td><td>16</td><td>15</td><td>1</td></tr><tr><th>4</th><td>B</td><td>1</td><td>1</td><td>F</td><td>45</td><td>45</td><td>0</td></tr><tr><th>5</th><td>B</td><td>2</td><td>2</td><td>D</td><td>8</td><td>7</td><td>1</td></tr><tr><th>6</th><td>B</td><td>3</td><td>3</td><td>F</td><td>45</td><td>45</td><td>0</td></tr><tr><th>7</th><td>C</td><td>1</td><td>2</td><td>D</td><td>5</td><td>2</td><td>3</td></tr><tr><th>8</th><td>C</td><td>2</td><td>4</td><td>D</td><td>4</td><td>4</td><td>0</td></tr><tr><th>9</th><td>C</td><td>3</td><td>1</td><td>F</td><td>9</td><td>9</td><td>0</td></tr><tr><th>10</th><td>D</td><td>1</td><td>3</td><td>F</td><td>3</td><td>3</td><td>0</td></tr><tr><th>11</th><td>D</td><td>2</td><td>1</td><td>F</td><td>6</td><td>6</td><td>0</td></tr><tr><th>12</th><td>D</td><td>3</td><td>4</td><td>D</td><td>2</td><td>2</td><td>0</td></tr><tr><th>13</th><td>E</td><td>1</td><td>4</td><td>D</td><td>8</td><td>8</td><td>0</td></tr><tr><th>14</th><td>E</td><td>2</td><td>2</td><td>D</td><td>21</td><td>17</td><td>4</td></tr><tr><th>15</th><td>E</td><td>3</td><td>3</td><td>F</td><td>45</td><td>45</td><td>0</td></tr><tr><th>16</th><td>F</td><td>1</td><td>8</td><td>D</td><td>8</td><td>8</td><td>0</td></tr><tr><th>17</th><td>F</td><td>2</td><td>7</td><td>F</td><td>45</td><td>45</td><td>0</td></tr><tr><th>18</th><td>F</td><td>3</td><td>6</td><td>F</td><td>45</td><td>45</td><td>0</td></tr><tr><th>19</th><td>G</td><td>1</td><td>5</td><td>D</td><td>4</td><td>4</td><td>0</td></tr><tr><th>20</th><td>G</td><td>2</td><td>6</td><td>F</td><td>45</td><td>45</td><td>0</td></tr><tr><th>21</th><td>G</td><td>3</td><td>7</td><td>F</td><td>45</td><td>45</td><td>0</td></tr><tr><th>22</th><td>H</td><td>1</td><td>6</td><td>F</td><td>45</td><td>45</td><td>0</td></tr><tr><th>23</th><td>H</td><td>2</td><td>8</td><td>D</td><td>8</td><td>8</td><td>0</td></tr><tr><th>24</th><td>H</td><td>3</td><td>5</td><td>D</td><td>9</td><td>9</td><td>0</td></tr><tr><th>25</th><td>I</td><td>1</td><td>7</td><td>F</td><td>41</td><td>41</td><td>0</td></tr><tr><th>26</th><td>I</td><td>2</td><td>5</td><td>D</td><td>14</td><td>12</td><td>2</td></tr><tr><th>27</th><td>I</td><td>3</td><td>8</td><td>D</td><td>16</td><td>8</td><td>8</td></tr><tr><th>28</th><td>J</td><td>1</td><td>8</td><td>D</td><td>19</td><td>2</td><td>17</td></tr><tr><th>29</th><td>J</td><td>2</td><td>6</td><td>F</td><td>24</td><td>19</td><td>5</td></tr><tr><th>30</th><td>J</td><td>3</td><td>7</td><td>F</td><td>38</td><td>36</td><td>2</td></tr></tbody></table>"
      ],
      "text/latex": [
       "\\begin{tabular}{r|ccccccc}\n",
       "\t& SUBJETE & PERIODE & SUDOKU & DIFICULTAT & CONTESTATS & CORRECTES & ERRORS\\\\\n",
       "\t\\hline\n",
       "\t& String & Int64 & Int64 & String & Int64 & Int64 & Int64\\\\\n",
       "\t\\hline\n",
       "\t1 & A & 1 & 4 & D & 11 & 11 & 0 \\\\\n",
       "\t2 & A & 2 & 3 & F & 45 & 45 & 0 \\\\\n",
       "\t3 & A & 3 & 2 & D & 16 & 15 & 1 \\\\\n",
       "\t4 & B & 1 & 1 & F & 45 & 45 & 0 \\\\\n",
       "\t5 & B & 2 & 2 & D & 8 & 7 & 1 \\\\\n",
       "\t6 & B & 3 & 3 & F & 45 & 45 & 0 \\\\\n",
       "\t7 & C & 1 & 2 & D & 5 & 2 & 3 \\\\\n",
       "\t8 & C & 2 & 4 & D & 4 & 4 & 0 \\\\\n",
       "\t9 & C & 3 & 1 & F & 9 & 9 & 0 \\\\\n",
       "\t10 & D & 1 & 3 & F & 3 & 3 & 0 \\\\\n",
       "\t11 & D & 2 & 1 & F & 6 & 6 & 0 \\\\\n",
       "\t12 & D & 3 & 4 & D & 2 & 2 & 0 \\\\\n",
       "\t13 & E & 1 & 4 & D & 8 & 8 & 0 \\\\\n",
       "\t14 & E & 2 & 2 & D & 21 & 17 & 4 \\\\\n",
       "\t15 & E & 3 & 3 & F & 45 & 45 & 0 \\\\\n",
       "\t16 & F & 1 & 8 & D & 8 & 8 & 0 \\\\\n",
       "\t17 & F & 2 & 7 & F & 45 & 45 & 0 \\\\\n",
       "\t18 & F & 3 & 6 & F & 45 & 45 & 0 \\\\\n",
       "\t19 & G & 1 & 5 & D & 4 & 4 & 0 \\\\\n",
       "\t20 & G & 2 & 6 & F & 45 & 45 & 0 \\\\\n",
       "\t21 & G & 3 & 7 & F & 45 & 45 & 0 \\\\\n",
       "\t22 & H & 1 & 6 & F & 45 & 45 & 0 \\\\\n",
       "\t23 & H & 2 & 8 & D & 8 & 8 & 0 \\\\\n",
       "\t24 & H & 3 & 5 & D & 9 & 9 & 0 \\\\\n",
       "\t25 & I & 1 & 7 & F & 41 & 41 & 0 \\\\\n",
       "\t26 & I & 2 & 5 & D & 14 & 12 & 2 \\\\\n",
       "\t27 & I & 3 & 8 & D & 16 & 8 & 8 \\\\\n",
       "\t28 & J & 1 & 8 & D & 19 & 2 & 17 \\\\\n",
       "\t29 & J & 2 & 6 & F & 24 & 19 & 5 \\\\\n",
       "\t30 & J & 3 & 7 & F & 38 & 36 & 2 \\\\\n",
       "\\end{tabular}\n"
      ],
      "text/plain": [
       "30×7 DataFrame. Omitted printing of 1 columns\n",
       "│ Row │ SUBJETE │ PERIODE │ SUDOKU │ DIFICULTAT │ CONTESTATS │ CORRECTES │\n",
       "│     │ \u001b[90mString\u001b[39m  │ \u001b[90mInt64\u001b[39m   │ \u001b[90mInt64\u001b[39m  │ \u001b[90mString\u001b[39m     │ \u001b[90mInt64\u001b[39m      │ \u001b[90mInt64\u001b[39m     │\n",
       "├─────┼─────────┼─────────┼────────┼────────────┼────────────┼───────────┤\n",
       "│ 1   │ A       │ 1       │ 4      │ D          │ 11         │ 11        │\n",
       "│ 2   │ A       │ 2       │ 3      │ F          │ 45         │ 45        │\n",
       "│ 3   │ A       │ 3       │ 2      │ D          │ 16         │ 15        │\n",
       "│ 4   │ B       │ 1       │ 1      │ F          │ 45         │ 45        │\n",
       "│ 5   │ B       │ 2       │ 2      │ D          │ 8          │ 7         │\n",
       "│ 6   │ B       │ 3       │ 3      │ F          │ 45         │ 45        │\n",
       "│ 7   │ C       │ 1       │ 2      │ D          │ 5          │ 2         │\n",
       "│ 8   │ C       │ 2       │ 4      │ D          │ 4          │ 4         │\n",
       "│ 9   │ C       │ 3       │ 1      │ F          │ 9          │ 9         │\n",
       "│ 10  │ D       │ 1       │ 3      │ F          │ 3          │ 3         │\n",
       "⋮\n",
       "│ 20  │ G       │ 2       │ 6      │ F          │ 45         │ 45        │\n",
       "│ 21  │ G       │ 3       │ 7      │ F          │ 45         │ 45        │\n",
       "│ 22  │ H       │ 1       │ 6      │ F          │ 45         │ 45        │\n",
       "│ 23  │ H       │ 2       │ 8      │ D          │ 8          │ 8         │\n",
       "│ 24  │ H       │ 3       │ 5      │ D          │ 9          │ 9         │\n",
       "│ 25  │ I       │ 1       │ 7      │ F          │ 41         │ 41        │\n",
       "│ 26  │ I       │ 2       │ 5      │ D          │ 14         │ 12        │\n",
       "│ 27  │ I       │ 3       │ 8      │ D          │ 16         │ 8         │\n",
       "│ 28  │ J       │ 1       │ 8      │ D          │ 19         │ 2         │\n",
       "│ 29  │ J       │ 2       │ 6      │ F          │ 24         │ 19        │\n",
       "│ 30  │ J       │ 3       │ 7      │ F          │ 38         │ 36        │"
      ]
     },
     "execution_count": 215,
     "metadata": {},
     "output_type": "execute_result"
    }
   ],
   "source": [
    "@orderby(base,:SUBJETE)"
   ]
  },
  {
   "cell_type": "code",
   "execution_count": 218,
   "metadata": {},
   "outputs": [
    {
     "data": {
      "text/html": [
       "<table class=\"data-frame\"><thead><tr><th></th><th>SUBJETE</th><th>PERIODE</th><th>SUDOKU</th><th>DIFICULTAT</th><th>CONTESTATS</th><th>CORRECTES</th><th>ERRORS</th><th>div</th></tr><tr><th></th><th>String</th><th>Int64</th><th>Int64</th><th>String</th><th>Int64</th><th>Int64</th><th>Int64</th><th>Float64</th></tr></thead><tbody><p>30 rows × 8 columns</p><tr><th>1</th><td>A</td><td>1</td><td>4</td><td>D</td><td>11</td><td>11</td><td>0</td><td>240.0</td></tr><tr><th>2</th><td>A</td><td>2</td><td>3</td><td>F</td><td>45</td><td>45</td><td>0</td><td>90.0</td></tr><tr><th>3</th><td>A</td><td>3</td><td>2</td><td>D</td><td>16</td><td>15</td><td>1</td><td>40.0</td></tr><tr><th>4</th><td>B</td><td>1</td><td>1</td><td>F</td><td>45</td><td>45</td><td>0</td><td>60.0</td></tr><tr><th>5</th><td>B</td><td>2</td><td>2</td><td>D</td><td>8</td><td>7</td><td>1</td><td>60.0</td></tr><tr><th>6</th><td>B</td><td>3</td><td>3</td><td>F</td><td>45</td><td>45</td><td>0</td><td>60.0</td></tr><tr><th>7</th><td>C</td><td>1</td><td>2</td><td>D</td><td>5</td><td>2</td><td>3</td><td>120.0</td></tr><tr><th>8</th><td>C</td><td>2</td><td>4</td><td>D</td><td>4</td><td>4</td><td>0</td><td>120.0</td></tr><tr><th>9</th><td>C</td><td>3</td><td>1</td><td>F</td><td>9</td><td>9</td><td>0</td><td>20.0</td></tr><tr><th>10</th><td>D</td><td>1</td><td>3</td><td>F</td><td>3</td><td>3</td><td>0</td><td>180.0</td></tr><tr><th>11</th><td>D</td><td>2</td><td>1</td><td>F</td><td>6</td><td>6</td><td>0</td><td>30.0</td></tr><tr><th>12</th><td>D</td><td>3</td><td>4</td><td>D</td><td>2</td><td>2</td><td>0</td><td>80.0</td></tr><tr><th>13</th><td>E</td><td>1</td><td>4</td><td>D</td><td>8</td><td>8</td><td>0</td><td>240.0</td></tr><tr><th>14</th><td>E</td><td>2</td><td>2</td><td>D</td><td>21</td><td>17</td><td>4</td><td>60.0</td></tr><tr><th>15</th><td>E</td><td>3</td><td>3</td><td>F</td><td>45</td><td>45</td><td>0</td><td>60.0</td></tr><tr><th>16</th><td>F</td><td>1</td><td>8</td><td>D</td><td>8</td><td>8</td><td>0</td><td>480.0</td></tr><tr><th>17</th><td>F</td><td>2</td><td>7</td><td>F</td><td>45</td><td>45</td><td>0</td><td>210.0</td></tr><tr><th>18</th><td>F</td><td>3</td><td>6</td><td>F</td><td>45</td><td>45</td><td>0</td><td>120.0</td></tr><tr><th>19</th><td>G</td><td>1</td><td>5</td><td>D</td><td>4</td><td>4</td><td>0</td><td>300.0</td></tr><tr><th>20</th><td>G</td><td>2</td><td>6</td><td>F</td><td>45</td><td>45</td><td>0</td><td>180.0</td></tr><tr><th>21</th><td>G</td><td>3</td><td>7</td><td>F</td><td>45</td><td>45</td><td>0</td><td>140.0</td></tr><tr><th>22</th><td>H</td><td>1</td><td>6</td><td>F</td><td>45</td><td>45</td><td>0</td><td>360.0</td></tr><tr><th>23</th><td>H</td><td>2</td><td>8</td><td>D</td><td>8</td><td>8</td><td>0</td><td>240.0</td></tr><tr><th>24</th><td>H</td><td>3</td><td>5</td><td>D</td><td>9</td><td>9</td><td>0</td><td>100.0</td></tr><tr><th>25</th><td>I</td><td>1</td><td>7</td><td>F</td><td>41</td><td>41</td><td>0</td><td>420.0</td></tr><tr><th>26</th><td>I</td><td>2</td><td>5</td><td>D</td><td>14</td><td>12</td><td>2</td><td>150.0</td></tr><tr><th>27</th><td>I</td><td>3</td><td>8</td><td>D</td><td>16</td><td>8</td><td>8</td><td>160.0</td></tr><tr><th>28</th><td>J</td><td>1</td><td>8</td><td>D</td><td>19</td><td>2</td><td>17</td><td>480.0</td></tr><tr><th>29</th><td>J</td><td>2</td><td>6</td><td>F</td><td>24</td><td>19</td><td>5</td><td>180.0</td></tr><tr><th>30</th><td>J</td><td>3</td><td>7</td><td>F</td><td>38</td><td>36</td><td>2</td><td>140.0</td></tr></tbody></table>"
      ],
      "text/latex": [
       "\\begin{tabular}{r|cccccccc}\n",
       "\t& SUBJETE & PERIODE & SUDOKU & DIFICULTAT & CONTESTATS & CORRECTES & ERRORS & div\\\\\n",
       "\t\\hline\n",
       "\t& String & Int64 & Int64 & String & Int64 & Int64 & Int64 & Float64\\\\\n",
       "\t\\hline\n",
       "\t1 & A & 1 & 4 & D & 11 & 11 & 0 & 240.0 \\\\\n",
       "\t2 & A & 2 & 3 & F & 45 & 45 & 0 & 90.0 \\\\\n",
       "\t3 & A & 3 & 2 & D & 16 & 15 & 1 & 40.0 \\\\\n",
       "\t4 & B & 1 & 1 & F & 45 & 45 & 0 & 60.0 \\\\\n",
       "\t5 & B & 2 & 2 & D & 8 & 7 & 1 & 60.0 \\\\\n",
       "\t6 & B & 3 & 3 & F & 45 & 45 & 0 & 60.0 \\\\\n",
       "\t7 & C & 1 & 2 & D & 5 & 2 & 3 & 120.0 \\\\\n",
       "\t8 & C & 2 & 4 & D & 4 & 4 & 0 & 120.0 \\\\\n",
       "\t9 & C & 3 & 1 & F & 9 & 9 & 0 & 20.0 \\\\\n",
       "\t10 & D & 1 & 3 & F & 3 & 3 & 0 & 180.0 \\\\\n",
       "\t11 & D & 2 & 1 & F & 6 & 6 & 0 & 30.0 \\\\\n",
       "\t12 & D & 3 & 4 & D & 2 & 2 & 0 & 80.0 \\\\\n",
       "\t13 & E & 1 & 4 & D & 8 & 8 & 0 & 240.0 \\\\\n",
       "\t14 & E & 2 & 2 & D & 21 & 17 & 4 & 60.0 \\\\\n",
       "\t15 & E & 3 & 3 & F & 45 & 45 & 0 & 60.0 \\\\\n",
       "\t16 & F & 1 & 8 & D & 8 & 8 & 0 & 480.0 \\\\\n",
       "\t17 & F & 2 & 7 & F & 45 & 45 & 0 & 210.0 \\\\\n",
       "\t18 & F & 3 & 6 & F & 45 & 45 & 0 & 120.0 \\\\\n",
       "\t19 & G & 1 & 5 & D & 4 & 4 & 0 & 300.0 \\\\\n",
       "\t20 & G & 2 & 6 & F & 45 & 45 & 0 & 180.0 \\\\\n",
       "\t21 & G & 3 & 7 & F & 45 & 45 & 0 & 140.0 \\\\\n",
       "\t22 & H & 1 & 6 & F & 45 & 45 & 0 & 360.0 \\\\\n",
       "\t23 & H & 2 & 8 & D & 8 & 8 & 0 & 240.0 \\\\\n",
       "\t24 & H & 3 & 5 & D & 9 & 9 & 0 & 100.0 \\\\\n",
       "\t25 & I & 1 & 7 & F & 41 & 41 & 0 & 420.0 \\\\\n",
       "\t26 & I & 2 & 5 & D & 14 & 12 & 2 & 150.0 \\\\\n",
       "\t27 & I & 3 & 8 & D & 16 & 8 & 8 & 160.0 \\\\\n",
       "\t28 & J & 1 & 8 & D & 19 & 2 & 17 & 480.0 \\\\\n",
       "\t29 & J & 2 & 6 & F & 24 & 19 & 5 & 180.0 \\\\\n",
       "\t30 & J & 3 & 7 & F & 38 & 36 & 2 & 140.0 \\\\\n",
       "\\end{tabular}\n"
      ],
      "text/plain": [
       "30×8 DataFrame. Omitted printing of 2 columns\n",
       "│ Row │ SUBJETE │ PERIODE │ SUDOKU │ DIFICULTAT │ CONTESTATS │ CORRECTES │\n",
       "│     │ \u001b[90mString\u001b[39m  │ \u001b[90mInt64\u001b[39m   │ \u001b[90mInt64\u001b[39m  │ \u001b[90mString\u001b[39m     │ \u001b[90mInt64\u001b[39m      │ \u001b[90mInt64\u001b[39m     │\n",
       "├─────┼─────────┼─────────┼────────┼────────────┼────────────┼───────────┤\n",
       "│ 1   │ A       │ 1       │ 4      │ D          │ 11         │ 11        │\n",
       "│ 2   │ A       │ 2       │ 3      │ F          │ 45         │ 45        │\n",
       "│ 3   │ A       │ 3       │ 2      │ D          │ 16         │ 15        │\n",
       "│ 4   │ B       │ 1       │ 1      │ F          │ 45         │ 45        │\n",
       "│ 5   │ B       │ 2       │ 2      │ D          │ 8          │ 7         │\n",
       "│ 6   │ B       │ 3       │ 3      │ F          │ 45         │ 45        │\n",
       "│ 7   │ C       │ 1       │ 2      │ D          │ 5          │ 2         │\n",
       "│ 8   │ C       │ 2       │ 4      │ D          │ 4          │ 4         │\n",
       "│ 9   │ C       │ 3       │ 1      │ F          │ 9          │ 9         │\n",
       "│ 10  │ D       │ 1       │ 3      │ F          │ 3          │ 3         │\n",
       "⋮\n",
       "│ 20  │ G       │ 2       │ 6      │ F          │ 45         │ 45        │\n",
       "│ 21  │ G       │ 3       │ 7      │ F          │ 45         │ 45        │\n",
       "│ 22  │ H       │ 1       │ 6      │ F          │ 45         │ 45        │\n",
       "│ 23  │ H       │ 2       │ 8      │ D          │ 8          │ 8         │\n",
       "│ 24  │ H       │ 3       │ 5      │ D          │ 9          │ 9         │\n",
       "│ 25  │ I       │ 1       │ 7      │ F          │ 41         │ 41        │\n",
       "│ 26  │ I       │ 2       │ 5      │ D          │ 14         │ 12        │\n",
       "│ 27  │ I       │ 3       │ 8      │ D          │ 16         │ 8         │\n",
       "│ 28  │ J       │ 1       │ 8      │ D          │ 19         │ 2         │\n",
       "│ 29  │ J       │ 2       │ 6      │ F          │ 24         │ 19        │\n",
       "│ 30  │ J       │ 3       │ 7      │ F          │ 38         │ 36        │"
      ]
     },
     "execution_count": 218,
     "metadata": {},
     "output_type": "execute_result"
    }
   ],
   "source": [
    "@transform(base,div = :SUDOKU ./ :PERIODE .* 60)"
   ]
  },
  {
   "cell_type": "code",
   "execution_count": 221,
   "metadata": {},
   "outputs": [
    {
     "data": {
      "text/html": [
       "<table class=\"data-frame\"><thead><tr><th></th><th>SUBJETE</th><th>media</th></tr><tr><th></th><th>String</th><th>Int64</th></tr></thead><tbody><p>10 rows × 2 columns</p><tr><th>1</th><td>A</td><td>4</td></tr><tr><th>2</th><td>B</td><td>3</td></tr><tr><th>3</th><td>C</td><td>4</td></tr><tr><th>4</th><td>D</td><td>4</td></tr><tr><th>5</th><td>E</td><td>4</td></tr><tr><th>6</th><td>F</td><td>8</td></tr><tr><th>7</th><td>G</td><td>7</td></tr><tr><th>8</th><td>H</td><td>8</td></tr><tr><th>9</th><td>I</td><td>8</td></tr><tr><th>10</th><td>J</td><td>8</td></tr></tbody></table>"
      ],
      "text/latex": [
       "\\begin{tabular}{r|cc}\n",
       "\t& SUBJETE & media\\\\\n",
       "\t\\hline\n",
       "\t& String & Int64\\\\\n",
       "\t\\hline\n",
       "\t1 & A & 4 \\\\\n",
       "\t2 & B & 3 \\\\\n",
       "\t3 & C & 4 \\\\\n",
       "\t4 & D & 4 \\\\\n",
       "\t5 & E & 4 \\\\\n",
       "\t6 & F & 8 \\\\\n",
       "\t7 & G & 7 \\\\\n",
       "\t8 & H & 8 \\\\\n",
       "\t9 & I & 8 \\\\\n",
       "\t10 & J & 8 \\\\\n",
       "\\end{tabular}\n"
      ],
      "text/plain": [
       "10×2 DataFrame\n",
       "│ Row │ SUBJETE │ media │\n",
       "│     │ \u001b[90mString\u001b[39m  │ \u001b[90mInt64\u001b[39m │\n",
       "├─────┼─────────┼───────┤\n",
       "│ 1   │ A       │ 4     │\n",
       "│ 2   │ B       │ 3     │\n",
       "│ 3   │ C       │ 4     │\n",
       "│ 4   │ D       │ 4     │\n",
       "│ 5   │ E       │ 4     │\n",
       "│ 6   │ F       │ 8     │\n",
       "│ 7   │ G       │ 7     │\n",
       "│ 8   │ H       │ 8     │\n",
       "│ 9   │ I       │ 8     │\n",
       "│ 10  │ J       │ 8     │"
      ]
     },
     "execution_count": 221,
     "metadata": {},
     "output_type": "execute_result"
    }
   ],
   "source": [
    "@by(base,:SUBJETE, maximo = maximum(:SUDOKU))"
   ]
  },
  {
   "cell_type": "code",
   "execution_count": null,
   "metadata": {},
   "outputs": [],
   "source": []
  }
 ],
 "metadata": {
  "kernelspec": {
   "display_name": "Julia 1.4.0",
   "language": "julia",
   "name": "julia-1.4"
  },
  "language_info": {
   "file_extension": ".jl",
   "mimetype": "application/julia",
   "name": "julia",
   "version": "1.4.0"
  }
 },
 "nbformat": 4,
 "nbformat_minor": 2
}
